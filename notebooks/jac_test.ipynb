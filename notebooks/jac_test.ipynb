{
 "cells": [
  {
   "cell_type": "code",
   "execution_count": 11,
   "metadata": {},
   "outputs": [],
   "source": [
    "import numpy as np\n",
    "from scipy.optimize import approx_fprime, check_grad\n",
    "from pickle import load"
   ]
  },
  {
   "cell_type": "code",
   "execution_count": 14,
   "metadata": {},
   "outputs": [],
   "source": [
    "with open(\"c_err.pkl\", \"rb\") as f:\n",
    "    corr, err = load(f)"
   ]
  },
  {
   "cell_type": "code",
   "execution_count": 4,
   "metadata": {},
   "outputs": [],
   "source": [
    "def generate_init(n_exps):\n",
    "    # A0s = 2.0 ** -(np.arange(n_exps) + 1)\n",
    "    A0s = 2.0 ** -(np.arange(n_exps - 1) + 1)\n",
    "    A0s = np.append(A0s, 1 - A0s.sum())\n",
    "\n",
    "    tau0s = np.ones(n_exps)\n",
    "\n",
    "    return A0s, tau0s\n"
   ]
  },
  {
   "cell_type": "code",
   "execution_count": 37,
   "metadata": {},
   "outputs": [],
   "source": [
    "def params_to_arr(params):\n",
    "    n = params.size // 2\n",
    "\n",
    "    As = np.asarray(params[:n])\n",
    "    # k = np.asarray(params[n : n + 1])\n",
    "    lambdas = np.asarray(params[n:])\n",
    "\n",
    "    return As, lambdas\n",
    "\n",
    "\n",
    "def sum_of_exps(t, As, lambdas):\n",
    "    exp_terms = As[None, :] * np.exp(-lambdas[None, :] * t[:, None])\n",
    "    return exp_terms.sum(axis=1)\n",
    "\n",
    "\n",
    "def f(t, *params):\n",
    "    As, lambdas = params_to_arr(params)\n",
    "    return sum_of_exps(t, As, lambdas)\n",
    "\n",
    "\n",
    "def loss(params, t, corr, err):\n",
    "    As, lambdas = params_to_arr(params)\n",
    "\n",
    "    # TODO: try also sum\n",
    "    return np.sum((sum_of_exps(t, As, lambdas) - corr) ** 2 / err**2)\n",
    "\n",
    "\n",
    "def jac(params, t, corr, err):\n",
    "    As, lambdas = params_to_arr(params)\n",
    "\n",
    "    exps = np.exp(-lambdas[None, :] * t[:, None])\n",
    "\n",
    "    A_grads = exps.copy()\n",
    "    # k_grads = np.ones_like(t)[:, None]\n",
    "    lambda_grads = -As[None, :] * t[:, None] * exps\n",
    "\n",
    "    # grads = np.concatenate([A_grads, k_grads, lambda_grads], axis=1)\n",
    "    grads = np.concatenate([A_grads, lambda_grads], axis=1)\n",
    "\n",
    "    f_t = sum_of_exps(t, As, lambdas)\n",
    "\n",
    "    grad = 2 * grads * (f_t[:, None] - corr[:, None]) / err[:, None] ** 2\n",
    "\n",
    "    return grad.sum(axis=0)\n"
   ]
  },
  {
   "cell_type": "code",
   "execution_count": 24,
   "metadata": {},
   "outputs": [
    {
     "data": {
      "text/plain": [
       "array([nan, nan, nan, nan, nan, nan, nan, nan, nan, nan])"
      ]
     },
     "execution_count": 24,
     "metadata": {},
     "output_type": "execute_result"
    }
   ],
   "source": [
    "t = np.linspace(0, 1, corr.size)\n",
    "\n",
    "A0s, tau0s = generate_init(5)\n",
    "lambda0s = 1e-3 / tau0s\n",
    "\n",
    "\n",
    "x0 = np.concatenate([A0s, lambda0s])\n",
    "\n"
   ]
  },
  {
   "cell_type": "code",
   "execution_count": 22,
   "metadata": {},
   "outputs": [
    {
     "data": {
      "text/plain": [
       "30637"
      ]
     },
     "execution_count": 22,
     "metadata": {},
     "output_type": "execute_result"
    }
   ],
   "source": [
    "np.isnan(err).sum()"
   ]
  },
  {
   "cell_type": "code",
   "execution_count": 28,
   "metadata": {},
   "outputs": [
    {
     "name": "stdout",
     "output_type": "stream",
     "text": [
      "16043\n"
     ]
    }
   ],
   "source": [
    "def select_data(t, corr):\n",
    "    assert t.size == corr.size\n",
    "    ind = np.argmax(corr < 0)\n",
    "    print(ind)\n",
    "    # mask = (t > 1) & (t < t[ind])\n",
    "    mask = (t < t[ind])\n",
    "\n",
    "    return mask\n",
    "\n",
    "\n",
    "mask = select_data(t, corr)\n",
    "sel_t = t[mask]\n",
    "sel_corr = corr[mask]\n",
    "sel_err = err[mask]"
   ]
  },
  {
   "cell_type": "code",
   "execution_count": 29,
   "metadata": {},
   "outputs": [
    {
     "data": {
      "text/plain": [
       "True"
      ]
     },
     "execution_count": 29,
     "metadata": {},
     "output_type": "execute_result"
    }
   ],
   "source": [
    "mask.any()"
   ]
  },
  {
   "cell_type": "code",
   "execution_count": 40,
   "metadata": {},
   "outputs": [
    {
     "ename": "TypeError",
     "evalue": "approx_fprime() got an unexpected keyword argument 'args'",
     "output_type": "error",
     "traceback": [
      "\u001b[0;31m---------------------------------------------------------------------------\u001b[0m",
      "\u001b[0;31mTypeError\u001b[0m                                 Traceback (most recent call last)",
      "Cell \u001b[0;32mIn[40], line 1\u001b[0m\n\u001b[0;32m----> 1\u001b[0m \u001b[43mapprox_fprime\u001b[49m\u001b[43m(\u001b[49m\u001b[43mx0\u001b[49m\u001b[43m,\u001b[49m\u001b[43m \u001b[49m\u001b[43mloss\u001b[49m\u001b[43m,\u001b[49m\u001b[43m \u001b[49m\u001b[38;5;241;43m1.4901161193847656e-08\u001b[39;49m\u001b[43m,\u001b[49m\u001b[43m \u001b[49m\u001b[43margs\u001b[49m\u001b[38;5;241;43m=\u001b[39;49m\u001b[43m(\u001b[49m\u001b[43msel_t\u001b[49m\u001b[43m,\u001b[49m\u001b[43m \u001b[49m\u001b[43msel_corr\u001b[49m\u001b[43m,\u001b[49m\u001b[43m \u001b[49m\u001b[43msel_err\u001b[49m\u001b[43m)\u001b[49m\u001b[43m)\u001b[49m\n",
      "\u001b[0;31mTypeError\u001b[0m: approx_fprime() got an unexpected keyword argument 'args'"
     ]
    }
   ],
   "source": [
    "approx_fprime(x0, loss, 1.4901161193847656e-08, args=(sel_t, sel_corr, sel_err))"
   ]
  },
  {
   "cell_type": "code",
   "execution_count": 35,
   "metadata": {},
   "outputs": [
    {
     "name": "stdout",
     "output_type": "stream",
     "text": [
      "(16043, 5)\n",
      "(16043, 5)\n",
      "(16043, 10)\n"
     ]
    },
    {
     "data": {
      "text/plain": [
       "array([ 3.44471487e+11,  3.44471487e+11,  3.44471487e+11,  3.44471487e+11,\n",
       "        3.44471487e+11, -2.47767627e+09, -1.23883814e+09, -6.19419069e+08,\n",
       "       -3.09709534e+08, -3.09709534e+08])"
      ]
     },
     "execution_count": 35,
     "metadata": {},
     "output_type": "execute_result"
    }
   ],
   "source": [
    "jac(x0, sel_t, sel_corr, sel_err)"
   ]
  },
  {
   "cell_type": "code",
   "execution_count": 34,
   "metadata": {},
   "outputs": [
    {
     "data": {
      "text/plain": [
       "array([5779.93145752, 3731.93145752, 3731.93145752, 5779.93145752,\n",
       "       5779.93145752, -269.69022846,  889.15488577, 1468.57744288,\n",
       "        734.28872144,  734.28872144])"
      ]
     },
     "execution_count": 34,
     "metadata": {},
     "output_type": "execute_result"
    }
   ],
   "source": [
    "g1 - g2"
   ]
  },
  {
   "cell_type": "code",
   "execution_count": 39,
   "metadata": {},
   "outputs": [
    {
     "data": {
      "text/plain": [
       "True"
      ]
     },
     "execution_count": 39,
     "metadata": {},
     "output_type": "execute_result"
    }
   ],
   "source": [
    "np.allclose(g1, g2)"
   ]
  },
  {
   "cell_type": "code",
   "execution_count": null,
   "metadata": {},
   "outputs": [],
   "source": []
  }
 ],
 "metadata": {
  "kernelspec": {
   "display_name": "lab",
   "language": "python",
   "name": "python3"
  },
  "language_info": {
   "codemirror_mode": {
    "name": "ipython",
    "version": 3
   },
   "file_extension": ".py",
   "mimetype": "text/x-python",
   "name": "python",
   "nbconvert_exporter": "python",
   "pygments_lexer": "ipython3",
   "version": "3.12.4"
  }
 },
 "nbformat": 4,
 "nbformat_minor": 2
}
