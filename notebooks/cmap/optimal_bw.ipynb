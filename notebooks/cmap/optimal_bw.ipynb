{
 "cells": [
  {
   "cell_type": "code",
   "execution_count": 1,
   "metadata": {},
   "outputs": [],
   "source": [
    "import parmed as pmd\n",
    "import emcee\n",
    "from scipy.interpolate import RegularGridInterpolator\n",
    "import numpy as np\n",
    "import matplotlib.pyplot as plt\n",
    "from matplotlib.colors import CenteredNorm\n",
    "from KDEpy import FFTKDE\n",
    "from scipy import constants\n",
    "from scipy.optimize import minimize\n"
   ]
  },
  {
   "cell_type": "code",
   "execution_count": 2,
   "metadata": {},
   "outputs": [],
   "source": [
    "gmx = pmd.gromacs.GromacsTopologyFile(\"charmm_ff/forcefield.itp\")\n",
    "param_set = pmd.charmm.parameters.CharmmParameterSet.from_parameterset(gmx.parameterset)"
   ]
  },
  {
   "cell_type": "code",
   "execution_count": 19,
   "metadata": {},
   "outputs": [
    {
     "name": "stdout",
     "output_type": "stream",
     "text": [
      "845.5607358510359\n",
      "845.5607358510359\n",
      "845.5607358510359\n",
      "845.5607358510359\n",
      "194755.46013954005\n",
      "194755.46013954005\n",
      "194755.46013954005\n",
      "194755.46013954005\n",
      "40.609417587812224\n",
      "40.609417587812224\n",
      "40.609417587812224\n",
      "40.609417587812224\n",
      "845.5607358510359\n",
      "845.5607358510359\n",
      "845.5607358510359\n",
      "845.5607358510359\n",
      "194755.46013954005\n",
      "194755.46013954005\n",
      "194755.46013954005\n",
      "194755.46013954005\n",
      "128.95970613166207\n",
      "128.95970613166207\n",
      "931.9694172148131\n",
      "931.9694172148131\n",
      "846.923185113112\n",
      "846.923185113112\n",
      "846.923185113112\n",
      "846.923185113112\n",
      "846.923185113112\n",
      "846.923185113112\n",
      "846.923185113112\n",
      "846.923185113112\n",
      "194755.46013954005\n",
      "194755.46013954005\n",
      "194755.46013954005\n",
      "194755.46013954005\n",
      "194755.46013954005\n",
      "194755.46013954005\n",
      "194755.46013954005\n",
      "194755.46013954005\n",
      "40.609417587812224\n",
      "40.609417587812224\n",
      "40.609417587812224\n",
      "40.609417587812224\n",
      "40.609417587812224\n",
      "40.609417587812224\n",
      "40.609417587812224\n",
      "40.609417587812224\n"
     ]
    }
   ],
   "source": [
    "for cmap_type in param_set.cmap_types.values():\n",
    "    print(np.exp(np.array(cmap_type.grid._data)).max())"
   ]
  },
  {
   "cell_type": "code",
   "execution_count": 18,
   "metadata": {},
   "outputs": [
    {
     "data": {
      "text/plain": [
       "0.0430725176792972"
      ]
     },
     "execution_count": 18,
     "metadata": {},
     "output_type": "execute_result"
    }
   ],
   "source": [
    "eps = np.finfo(np.float32).eps\n",
    "\n",
    "1e-3 * 5.134644231712484e-06 / eps"
   ]
  },
  {
   "cell_type": "code",
   "execution_count": 12,
   "metadata": {},
   "outputs": [
    {
     "data": {
      "text/plain": [
       "0.023216660039370066"
      ]
     },
     "execution_count": 12,
     "metadata": {},
     "output_type": "execute_result"
    }
   ],
   "source": [
    "eps / 5.134644231712484e-06"
   ]
  },
  {
   "cell_type": "code",
   "execution_count": 4,
   "metadata": {},
   "outputs": [
    {
     "data": {
      "text/plain": [
       "OrderedDict([(('C', 'NH1', 'CT1', 'C', 'NH1', 'CT1', 'C', 'NH1'),\n",
       "              <CmapType; resolution=24>),\n",
       "             (('NH1', 'C', 'CT1', 'NH1', 'C', 'CT1', 'NH1', 'C'),\n",
       "              <CmapType; resolution=24>),\n",
       "             (('C', 'NH1', 'CT1', 'C', 'NH1', 'CT1', 'C', 'N'),\n",
       "              <CmapType; resolution=24>),\n",
       "             (('N', 'C', 'CT1', 'NH1', 'C', 'CT1', 'NH1', 'C'),\n",
       "              <CmapType; resolution=24>),\n",
       "             (('C', 'N', 'CP1', 'C', 'N', 'CP1', 'C', 'NH1'),\n",
       "              <CmapType; resolution=24>),\n",
       "             (('NH1', 'C', 'CP1', 'N', 'C', 'CP1', 'N', 'C'),\n",
       "              <CmapType; resolution=24>),\n",
       "             (('C', 'N', 'CP1', 'C', 'N', 'CP1', 'C', 'N'),\n",
       "              <CmapType; resolution=24>),\n",
       "             (('N', 'C', 'CP1', 'N', 'C', 'CP1', 'N', 'C'),\n",
       "              <CmapType; resolution=24>),\n",
       "             (('C', 'NH1', 'CT2', 'C', 'NH1', 'CT2', 'C', 'NH1'),\n",
       "              <CmapType; resolution=24>),\n",
       "             (('NH1', 'C', 'CT2', 'NH1', 'C', 'CT2', 'NH1', 'C'),\n",
       "              <CmapType; resolution=24>),\n",
       "             (('C', 'NH1', 'CT2', 'C', 'NH1', 'CT2', 'C', 'N'),\n",
       "              <CmapType; resolution=24>),\n",
       "             (('N', 'C', 'CT2', 'NH1', 'C', 'CT2', 'NH1', 'C'),\n",
       "              <CmapType; resolution=24>),\n",
       "             (('C', 'NH1', 'CTD1', 'C', 'NH1', 'CTD1', 'C', 'NH1'),\n",
       "              <CmapType; resolution=24>),\n",
       "             (('NH1', 'C', 'CTD1', 'NH1', 'C', 'CTD1', 'NH1', 'C'),\n",
       "              <CmapType; resolution=24>),\n",
       "             (('C', 'NH1', 'CTD1', 'C', 'NH1', 'CTD1', 'C', 'N'),\n",
       "              <CmapType; resolution=24>),\n",
       "             (('N', 'C', 'CTD1', 'NH1', 'C', 'CTD1', 'NH1', 'C'),\n",
       "              <CmapType; resolution=24>),\n",
       "             (('C', 'N', 'CPD1', 'C', 'N', 'CPD1', 'C', 'NH1'),\n",
       "              <CmapType; resolution=24>),\n",
       "             (('NH1', 'C', 'CPD1', 'N', 'C', 'CPD1', 'N', 'C'),\n",
       "              <CmapType; resolution=24>),\n",
       "             (('C', 'N', 'CPD1', 'C', 'N', 'CPD1', 'C', 'N'),\n",
       "              <CmapType; resolution=24>),\n",
       "             (('N', 'C', 'CPD1', 'N', 'C', 'CPD1', 'N', 'C'),\n",
       "              <CmapType; resolution=24>),\n",
       "             (('C', 'NH1', 'CT', 'C', 'NH1', 'CT', 'C', 'NH1'),\n",
       "              <CmapType; resolution=24>),\n",
       "             (('NH1', 'C', 'CT', 'NH1', 'C', 'CT', 'NH1', 'C'),\n",
       "              <CmapType; resolution=24>),\n",
       "             (('C', 'N', 'CT2', 'C', 'N', 'CT2', 'C', 'N'),\n",
       "              <CmapType; resolution=24>),\n",
       "             (('N', 'C', 'CT2', 'N', 'C', 'CT2', 'N', 'C'),\n",
       "              <CmapType; resolution=24>),\n",
       "             (('CG2O1', 'NH1', 'CT1', 'C', 'NH1', 'CT1', 'C', 'NH1'),\n",
       "              <CmapType; resolution=24>),\n",
       "             (('NH1', 'C', 'CT1', 'NH1', 'C', 'CT1', 'NH1', 'CG2O1'),\n",
       "              <CmapType; resolution=24>),\n",
       "             (('C', 'NH1', 'CT1', 'C', 'NH1', 'CT1', 'C', 'NG2S0'),\n",
       "              <CmapType; resolution=24>),\n",
       "             (('NG2S0', 'C', 'CT1', 'NH1', 'C', 'CT1', 'NH1', 'C'),\n",
       "              <CmapType; resolution=24>),\n",
       "             (('C', 'NH1', 'CT1', 'C', 'NH1', 'CT1', 'C', 'NG2S1'),\n",
       "              <CmapType; resolution=24>),\n",
       "             (('NG2S1', 'C', 'CT1', 'NH1', 'C', 'CT1', 'NH1', 'C'),\n",
       "              <CmapType; resolution=24>),\n",
       "             (('C', 'NH1', 'CT1', 'C', 'NH1', 'CT1', 'C', 'NG2D1'),\n",
       "              <CmapType; resolution=24>),\n",
       "             (('NG2D1', 'C', 'CT1', 'NH1', 'C', 'CT1', 'NH1', 'C'),\n",
       "              <CmapType; resolution=24>),\n",
       "             (('CG2O1', 'N', 'CP1', 'C', 'N', 'CP1', 'C', 'NH1'),\n",
       "              <CmapType; resolution=24>),\n",
       "             (('NH1', 'C', 'CP1', 'N', 'C', 'CP1', 'N', 'CG2O1'),\n",
       "              <CmapType; resolution=24>),\n",
       "             (('C', 'N', 'CP1', 'C', 'N', 'CP1', 'C', 'NG2S0'),\n",
       "              <CmapType; resolution=24>),\n",
       "             (('NG2S0', 'C', 'CP1', 'N', 'C', 'CP1', 'N', 'C'),\n",
       "              <CmapType; resolution=24>),\n",
       "             (('C', 'N', 'CP1', 'C', 'N', 'CP1', 'C', 'NG2S1'),\n",
       "              <CmapType; resolution=24>),\n",
       "             (('NG2S1', 'C', 'CP1', 'N', 'C', 'CP1', 'N', 'C'),\n",
       "              <CmapType; resolution=24>),\n",
       "             (('C', 'N', 'CP1', 'C', 'N', 'CP1', 'C', 'NG2D1'),\n",
       "              <CmapType; resolution=24>),\n",
       "             (('NG2D1', 'C', 'CP1', 'N', 'C', 'CP1', 'N', 'C'),\n",
       "              <CmapType; resolution=24>),\n",
       "             (('CG2O1', 'NH1', 'CT2', 'C', 'NH1', 'CT2', 'C', 'NH1'),\n",
       "              <CmapType; resolution=24>),\n",
       "             (('NH1', 'C', 'CT2', 'NH1', 'C', 'CT2', 'NH1', 'CG2O1'),\n",
       "              <CmapType; resolution=24>),\n",
       "             (('C', 'NH1', 'CT2', 'C', 'NH1', 'CT2', 'C', 'NG2S0'),\n",
       "              <CmapType; resolution=24>),\n",
       "             (('NG2S0', 'C', 'CT2', 'NH1', 'C', 'CT2', 'NH1', 'C'),\n",
       "              <CmapType; resolution=24>),\n",
       "             (('C', 'NH1', 'CT2', 'C', 'NH1', 'CT2', 'C', 'NG2S1'),\n",
       "              <CmapType; resolution=24>),\n",
       "             (('NG2S1', 'C', 'CT2', 'NH1', 'C', 'CT2', 'NH1', 'C'),\n",
       "              <CmapType; resolution=24>),\n",
       "             (('C', 'NH1', 'CT2', 'C', 'NH1', 'CT2', 'C', 'NG2D1'),\n",
       "              <CmapType; resolution=24>),\n",
       "             (('NG2D1', 'C', 'CT2', 'NH1', 'C', 'CT2', 'NH1', 'C'),\n",
       "              <CmapType; resolution=24>)])"
      ]
     },
     "execution_count": 4,
     "metadata": {},
     "output_type": "execute_result"
    }
   ],
   "source": [
    "param_set.cmap_types"
   ]
  },
  {
   "cell_type": "code",
   "execution_count": 24,
   "metadata": {},
   "outputs": [],
   "source": [
    "\n",
    "def build_logp(cmap_type):\n",
    "    RT = 0.592 # kcal / mol\n",
    "    # R = constants.R / (constants.calorie * 1e3)\n",
    "    # RT = R * 298\n",
    "\n",
    "    res = cmap_type.resolution\n",
    "    V = np.array(cmap_type.grid).reshape(res, res)\n",
    "    logp = -V / RT\n",
    "    # logp = -V\n",
    "\n",
    "    ext_logp = np.empty([dim + 1 for dim in logp.shape])\n",
    "\n",
    "    ext_logp[:-1, :-1] = logp\n",
    "    ext_logp[:-1, -1] = logp[:, 0]\n",
    "    ext_logp[-1, :-1] = logp[0, :]\n",
    "    ext_logp[-1, -1] = logp[0, 0]\n",
    "\n",
    "    return ext_logp\n",
    "\n",
    "logps = [build_logp(cmap_type) for cmap_type in param_set.cmap_types.values()]\n",
    "# logps = [logp for logp in logps if np.exp(logp.min()) == 1.1615857613434818e-09]\n"
   ]
  },
  {
   "cell_type": "code",
   "execution_count": null,
   "metadata": {},
   "outputs": [],
   "source": []
  },
  {
   "cell_type": "code",
   "execution_count": 25,
   "metadata": {},
   "outputs": [
    {
     "name": "stdout",
     "output_type": "stream",
     "text": [
      "-11.385135135135135\n",
      "-11.385135135135135\n",
      "-11.385135135135135\n",
      "-11.385135135135135\n",
      "-20.573479729729733\n",
      "-20.573479729729733\n",
      "-20.573479729729733\n",
      "-20.573479729729733\n",
      "-6.256756756756757\n",
      "-6.256756756756757\n",
      "-6.256756756756757\n",
      "-6.256756756756757\n",
      "-11.385135135135135\n",
      "-11.385135135135135\n",
      "-11.385135135135135\n",
      "-11.385135135135135\n",
      "-20.573479729729733\n",
      "-20.573479729729733\n",
      "-20.573479729729733\n",
      "-20.573479729729733\n",
      "-8.208614864864865\n",
      "-8.208614864864865\n",
      "-11.549493243243242\n",
      "-11.549493243243242\n",
      "-11.38785472972973\n",
      "-11.38785472972973\n",
      "-11.38785472972973\n",
      "-11.38785472972973\n",
      "-11.38785472972973\n",
      "-11.38785472972973\n",
      "-11.38785472972973\n",
      "-11.38785472972973\n",
      "-20.573479729729733\n",
      "-20.573479729729733\n",
      "-20.573479729729733\n",
      "-20.573479729729733\n",
      "-20.573479729729733\n",
      "-20.573479729729733\n",
      "-20.573479729729733\n",
      "-20.573479729729733\n",
      "-6.256756756756757\n",
      "-6.256756756756757\n",
      "-6.256756756756757\n",
      "-6.256756756756757\n",
      "-6.256756756756757\n",
      "-6.256756756756757\n",
      "-6.256756756756757\n",
      "-6.256756756756757\n"
     ]
    }
   ],
   "source": [
    "for logp in logps:\n",
    "    print(logp.min())"
   ]
  },
  {
   "cell_type": "code",
   "execution_count": 16,
   "metadata": {},
   "outputs": [],
   "source": [
    "res = next(iter(logps)).shape[0]\n",
    "\n",
    "angs = np.linspace(-np.pi, np.pi, res)\n",
    "method = \"slinear\"\n",
    "\n",
    "interps = [RegularGridInterpolator((angs, angs), logp, method=method) for logp in logps]\n"
   ]
  },
  {
   "cell_type": "code",
   "execution_count": 17,
   "metadata": {},
   "outputs": [],
   "source": [
    "def log_prob(x, interp):\n",
    "    mask = np.any((x < -np.pi) | (x > np.pi), axis=1)\n",
    "    x[mask, :] = np.array([0.0, 0.0])\n",
    "    logp = interp(x)\n",
    "    logp[mask] = -np.inf\n",
    "    return logp"
   ]
  },
  {
   "cell_type": "code",
   "execution_count": 40,
   "metadata": {},
   "outputs": [
    {
     "name": "stdout",
     "output_type": "stream",
     "text": [
      "emcee: Exception while calling your likelihood function:\n",
      "  params: [-2.66058411  0.842561  ]\n",
      "  args: [<scipy.interpolate._rgi.RegularGridInterpolator object at 0x7fa99905b290>]\n",
      "  kwargs: {}\n",
      "  exception:\n"
     ]
    },
    {
     "name": "stderr",
     "output_type": "stream",
     "text": [
      "Traceback (most recent call last):\n",
      "  File \"/home/gzappavigna/miniforge3/envs/lab/lib/python3.12/site-packages/emcee/ensemble.py\", line 640, in __call__\n",
      "    return self.f(x, *self.args, **self.kwargs)\n",
      "           ^^^^^^^^^^^^^^^^^^^^^^^^^^^^^^^^^^^^\n",
      "  File \"/tmp/ipykernel_1045313/906104579.py\", line 2, in log_prob\n",
      "    mask = np.any((x < -np.pi) | (x > np.pi), axis=1)\n",
      "           ^^^^^^^^^^^^^^^^^^^^^^^^^^^^^^^^^^^^^^^^^^\n",
      "  File \"/home/gzappavigna/miniforge3/envs/lab/lib/python3.12/site-packages/numpy/core/fromnumeric.py\", line 2412, in any\n",
      "    return _wrapreduction(a, np.logical_or, 'any', axis, None, out,\n",
      "           ^^^^^^^^^^^^^^^^^^^^^^^^^^^^^^^^^^^^^^^^^^^^^^^^^^^^^^^^\n",
      "  File \"/home/gzappavigna/miniforge3/envs/lab/lib/python3.12/site-packages/numpy/core/fromnumeric.py\", line 88, in _wrapreduction\n",
      "    return ufunc.reduce(obj, axis, dtype, out, **passkwargs)\n",
      "           ^^^^^^^^^^^^^^^^^^^^^^^^^^^^^^^^^^^^^^^^^^^^^^^^^\n",
      "numpy.exceptions.AxisError: axis 1 is out of bounds for array of dimension 1\n"
     ]
    },
    {
     "ename": "AxisError",
     "evalue": "axis 1 is out of bounds for array of dimension 1",
     "output_type": "error",
     "traceback": [
      "\u001b[0;31m---------------------------------------------------------------------------\u001b[0m",
      "\u001b[0;31mAxisError\u001b[0m                                 Traceback (most recent call last)",
      "Cell \u001b[0;32mIn[40], line 21\u001b[0m\n\u001b[1;32m     18\u001b[0m samples_arr \u001b[38;5;241m=\u001b[39m []\n\u001b[1;32m     20\u001b[0m \u001b[38;5;28;01mfor\u001b[39;00m interp \u001b[38;5;129;01min\u001b[39;00m interps:\n\u001b[0;32m---> 21\u001b[0m     samples_arr\u001b[38;5;241m.\u001b[39mappend(\u001b[43msample\u001b[49m\u001b[43m(\u001b[49m\u001b[43minterp\u001b[49m\u001b[43m,\u001b[49m\u001b[43m \u001b[49m\u001b[38;5;241;43m600_000\u001b[39;49m\u001b[43m)\u001b[49m)\n\u001b[1;32m     22\u001b[0m     \u001b[38;5;66;03m# samples_arr.append(sample(interp, 1_000))\u001b[39;00m\n",
      "Cell \u001b[0;32mIn[40], line 12\u001b[0m, in \u001b[0;36msample\u001b[0;34m(interp, nsamples)\u001b[0m\n\u001b[1;32m     10\u001b[0m \u001b[38;5;66;03m# sampler = emcee.EnsembleSampler(nwalkers, ndim, log_prob, args=[interp], vectorize=True)\u001b[39;00m\n\u001b[1;32m     11\u001b[0m sampler \u001b[38;5;241m=\u001b[39m emcee\u001b[38;5;241m.\u001b[39mEnsembleSampler(nwalkers, ndim, log_prob, args\u001b[38;5;241m=\u001b[39m[interp], vectorize\u001b[38;5;241m=\u001b[39m\u001b[38;5;28;01mFalse\u001b[39;00m)\n\u001b[0;32m---> 12\u001b[0m \u001b[43msampler\u001b[49m\u001b[38;5;241;43m.\u001b[39;49m\u001b[43mrun_mcmc\u001b[49m\u001b[43m(\u001b[49m\u001b[43mp0\u001b[49m\u001b[43m,\u001b[49m\u001b[43m \u001b[49m\u001b[38;5;241;43m1_000\u001b[39;49m\u001b[43m \u001b[49m\u001b[38;5;241;43m+\u001b[39;49m\u001b[43m \u001b[49m\u001b[43msamples_per_chain\u001b[49m\u001b[43m)\u001b[49m\n\u001b[1;32m     14\u001b[0m samples \u001b[38;5;241m=\u001b[39m sampler\u001b[38;5;241m.\u001b[39mget_chain()\n\u001b[1;32m     15\u001b[0m \u001b[38;5;28;01mreturn\u001b[39;00m samples[\u001b[38;5;241m-\u001b[39msamples_per_chain:]\u001b[38;5;241m.\u001b[39mreshape(\u001b[38;5;241m-\u001b[39m\u001b[38;5;241m1\u001b[39m, \u001b[38;5;241m2\u001b[39m)\n",
      "File \u001b[0;32m~/miniforge3/envs/lab/lib/python3.12/site-packages/emcee/ensemble.py:450\u001b[0m, in \u001b[0;36mEnsembleSampler.run_mcmc\u001b[0;34m(self, initial_state, nsteps, **kwargs)\u001b[0m\n\u001b[1;32m    447\u001b[0m     initial_state \u001b[38;5;241m=\u001b[39m \u001b[38;5;28mself\u001b[39m\u001b[38;5;241m.\u001b[39m_previous_state\n\u001b[1;32m    449\u001b[0m results \u001b[38;5;241m=\u001b[39m \u001b[38;5;28;01mNone\u001b[39;00m\n\u001b[0;32m--> 450\u001b[0m \u001b[43m\u001b[49m\u001b[38;5;28;43;01mfor\u001b[39;49;00m\u001b[43m \u001b[49m\u001b[43mresults\u001b[49m\u001b[43m \u001b[49m\u001b[38;5;129;43;01min\u001b[39;49;00m\u001b[43m \u001b[49m\u001b[38;5;28;43mself\u001b[39;49m\u001b[38;5;241;43m.\u001b[39;49m\u001b[43msample\u001b[49m\u001b[43m(\u001b[49m\u001b[43minitial_state\u001b[49m\u001b[43m,\u001b[49m\u001b[43m \u001b[49m\u001b[43miterations\u001b[49m\u001b[38;5;241;43m=\u001b[39;49m\u001b[43mnsteps\u001b[49m\u001b[43m,\u001b[49m\u001b[43m \u001b[49m\u001b[38;5;241;43m*\u001b[39;49m\u001b[38;5;241;43m*\u001b[39;49m\u001b[43mkwargs\u001b[49m\u001b[43m)\u001b[49m\u001b[43m:\u001b[49m\n\u001b[1;32m    451\u001b[0m \u001b[43m    \u001b[49m\u001b[38;5;28;43;01mpass\u001b[39;49;00m\n\u001b[1;32m    453\u001b[0m \u001b[38;5;66;03m# Store so that the ``initial_state=None`` case will work\u001b[39;00m\n",
      "File \u001b[0;32m~/miniforge3/envs/lab/lib/python3.12/site-packages/emcee/ensemble.py:351\u001b[0m, in \u001b[0;36mEnsembleSampler.sample\u001b[0;34m(self, initial_state, log_prob0, rstate0, blobs0, iterations, tune, skip_initial_state_check, thin_by, thin, store, progress, progress_kwargs)\u001b[0m\n\u001b[1;32m    349\u001b[0m     state\u001b[38;5;241m.\u001b[39mblobs \u001b[38;5;241m=\u001b[39m blobs0\n\u001b[1;32m    350\u001b[0m \u001b[38;5;28;01mif\u001b[39;00m state\u001b[38;5;241m.\u001b[39mlog_prob \u001b[38;5;129;01mis\u001b[39;00m \u001b[38;5;28;01mNone\u001b[39;00m:\n\u001b[0;32m--> 351\u001b[0m     state\u001b[38;5;241m.\u001b[39mlog_prob, state\u001b[38;5;241m.\u001b[39mblobs \u001b[38;5;241m=\u001b[39m \u001b[38;5;28;43mself\u001b[39;49m\u001b[38;5;241;43m.\u001b[39;49m\u001b[43mcompute_log_prob\u001b[49m\u001b[43m(\u001b[49m\u001b[43mstate\u001b[49m\u001b[38;5;241;43m.\u001b[39;49m\u001b[43mcoords\u001b[49m\u001b[43m)\u001b[49m\n\u001b[1;32m    352\u001b[0m \u001b[38;5;28;01mif\u001b[39;00m np\u001b[38;5;241m.\u001b[39mshape(state\u001b[38;5;241m.\u001b[39mlog_prob) \u001b[38;5;241m!=\u001b[39m (\u001b[38;5;28mself\u001b[39m\u001b[38;5;241m.\u001b[39mnwalkers,):\n\u001b[1;32m    353\u001b[0m     \u001b[38;5;28;01mraise\u001b[39;00m \u001b[38;5;167;01mValueError\u001b[39;00m(\u001b[38;5;124m\"\u001b[39m\u001b[38;5;124mincompatible input dimensions\u001b[39m\u001b[38;5;124m\"\u001b[39m)\n",
      "File \u001b[0;32m~/miniforge3/envs/lab/lib/python3.12/site-packages/emcee/ensemble.py:496\u001b[0m, in \u001b[0;36mEnsembleSampler.compute_log_prob\u001b[0;34m(self, coords)\u001b[0m\n\u001b[1;32m    494\u001b[0m     \u001b[38;5;28;01melse\u001b[39;00m:\n\u001b[1;32m    495\u001b[0m         map_func \u001b[38;5;241m=\u001b[39m \u001b[38;5;28mmap\u001b[39m\n\u001b[0;32m--> 496\u001b[0m     results \u001b[38;5;241m=\u001b[39m \u001b[38;5;28;43mlist\u001b[39;49m\u001b[43m(\u001b[49m\u001b[43mmap_func\u001b[49m\u001b[43m(\u001b[49m\u001b[38;5;28;43mself\u001b[39;49m\u001b[38;5;241;43m.\u001b[39;49m\u001b[43mlog_prob_fn\u001b[49m\u001b[43m,\u001b[49m\u001b[43m \u001b[49m\u001b[43mp\u001b[49m\u001b[43m)\u001b[49m\u001b[43m)\u001b[49m\n\u001b[1;32m    498\u001b[0m \u001b[38;5;28;01mtry\u001b[39;00m:\n\u001b[1;32m    499\u001b[0m     \u001b[38;5;66;03m# perhaps log_prob_fn returns blobs?\u001b[39;00m\n\u001b[1;32m    500\u001b[0m \n\u001b[0;32m   (...)\u001b[0m\n\u001b[1;32m    504\u001b[0m     \u001b[38;5;66;03m# l is a length-1 array, np.array([1.234]). In that case blob\u001b[39;00m\n\u001b[1;32m    505\u001b[0m     \u001b[38;5;66;03m# will become an empty list.\u001b[39;00m\n\u001b[1;32m    506\u001b[0m     blob \u001b[38;5;241m=\u001b[39m [l[\u001b[38;5;241m1\u001b[39m:] \u001b[38;5;28;01mfor\u001b[39;00m l \u001b[38;5;129;01min\u001b[39;00m results \u001b[38;5;28;01mif\u001b[39;00m \u001b[38;5;28mlen\u001b[39m(l) \u001b[38;5;241m>\u001b[39m \u001b[38;5;241m1\u001b[39m]\n",
      "File \u001b[0;32m~/miniforge3/envs/lab/lib/python3.12/site-packages/emcee/ensemble.py:640\u001b[0m, in \u001b[0;36m_FunctionWrapper.__call__\u001b[0;34m(self, x)\u001b[0m\n\u001b[1;32m    638\u001b[0m \u001b[38;5;28;01mdef\u001b[39;00m \u001b[38;5;21m__call__\u001b[39m(\u001b[38;5;28mself\u001b[39m, x):\n\u001b[1;32m    639\u001b[0m     \u001b[38;5;28;01mtry\u001b[39;00m:\n\u001b[0;32m--> 640\u001b[0m         \u001b[38;5;28;01mreturn\u001b[39;00m \u001b[38;5;28;43mself\u001b[39;49m\u001b[38;5;241;43m.\u001b[39;49m\u001b[43mf\u001b[49m\u001b[43m(\u001b[49m\u001b[43mx\u001b[49m\u001b[43m,\u001b[49m\u001b[43m \u001b[49m\u001b[38;5;241;43m*\u001b[39;49m\u001b[38;5;28;43mself\u001b[39;49m\u001b[38;5;241;43m.\u001b[39;49m\u001b[43margs\u001b[49m\u001b[43m,\u001b[49m\u001b[43m \u001b[49m\u001b[38;5;241;43m*\u001b[39;49m\u001b[38;5;241;43m*\u001b[39;49m\u001b[38;5;28;43mself\u001b[39;49m\u001b[38;5;241;43m.\u001b[39;49m\u001b[43mkwargs\u001b[49m\u001b[43m)\u001b[49m\n\u001b[1;32m    641\u001b[0m     \u001b[38;5;28;01mexcept\u001b[39;00m:  \u001b[38;5;66;03m# pragma: no cover\u001b[39;00m\n\u001b[1;32m    642\u001b[0m         \u001b[38;5;28;01mimport\u001b[39;00m \u001b[38;5;21;01mtraceback\u001b[39;00m\n",
      "Cell \u001b[0;32mIn[17], line 2\u001b[0m, in \u001b[0;36mlog_prob\u001b[0;34m(x, interp)\u001b[0m\n\u001b[1;32m      1\u001b[0m \u001b[38;5;28;01mdef\u001b[39;00m \u001b[38;5;21mlog_prob\u001b[39m(x, interp):\n\u001b[0;32m----> 2\u001b[0m     mask \u001b[38;5;241m=\u001b[39m \u001b[43mnp\u001b[49m\u001b[38;5;241;43m.\u001b[39;49m\u001b[43many\u001b[49m\u001b[43m(\u001b[49m\u001b[43m(\u001b[49m\u001b[43mx\u001b[49m\u001b[43m \u001b[49m\u001b[38;5;241;43m<\u001b[39;49m\u001b[43m \u001b[49m\u001b[38;5;241;43m-\u001b[39;49m\u001b[43mnp\u001b[49m\u001b[38;5;241;43m.\u001b[39;49m\u001b[43mpi\u001b[49m\u001b[43m)\u001b[49m\u001b[43m \u001b[49m\u001b[38;5;241;43m|\u001b[39;49m\u001b[43m \u001b[49m\u001b[43m(\u001b[49m\u001b[43mx\u001b[49m\u001b[43m \u001b[49m\u001b[38;5;241;43m>\u001b[39;49m\u001b[43m \u001b[49m\u001b[43mnp\u001b[49m\u001b[38;5;241;43m.\u001b[39;49m\u001b[43mpi\u001b[49m\u001b[43m)\u001b[49m\u001b[43m,\u001b[49m\u001b[43m \u001b[49m\u001b[43maxis\u001b[49m\u001b[38;5;241;43m=\u001b[39;49m\u001b[38;5;241;43m1\u001b[39;49m\u001b[43m)\u001b[49m\n\u001b[1;32m      3\u001b[0m     x[mask, :] \u001b[38;5;241m=\u001b[39m np\u001b[38;5;241m.\u001b[39marray([\u001b[38;5;241m0.0\u001b[39m, \u001b[38;5;241m0.0\u001b[39m])\n\u001b[1;32m      4\u001b[0m     logp \u001b[38;5;241m=\u001b[39m interp(x)\n",
      "File \u001b[0;32m~/miniforge3/envs/lab/lib/python3.12/site-packages/numpy/core/fromnumeric.py:2412\u001b[0m, in \u001b[0;36many\u001b[0;34m(a, axis, out, keepdims, where)\u001b[0m\n\u001b[1;32m   2322\u001b[0m \u001b[38;5;129m@array_function_dispatch\u001b[39m(_any_dispatcher)\n\u001b[1;32m   2323\u001b[0m \u001b[38;5;28;01mdef\u001b[39;00m \u001b[38;5;21many\u001b[39m(a, axis\u001b[38;5;241m=\u001b[39m\u001b[38;5;28;01mNone\u001b[39;00m, out\u001b[38;5;241m=\u001b[39m\u001b[38;5;28;01mNone\u001b[39;00m, keepdims\u001b[38;5;241m=\u001b[39mnp\u001b[38;5;241m.\u001b[39m_NoValue, \u001b[38;5;241m*\u001b[39m, where\u001b[38;5;241m=\u001b[39mnp\u001b[38;5;241m.\u001b[39m_NoValue):\n\u001b[1;32m   2324\u001b[0m \u001b[38;5;250m    \u001b[39m\u001b[38;5;124;03m\"\"\"\u001b[39;00m\n\u001b[1;32m   2325\u001b[0m \u001b[38;5;124;03m    Test whether any array element along a given axis evaluates to True.\u001b[39;00m\n\u001b[1;32m   2326\u001b[0m \n\u001b[0;32m   (...)\u001b[0m\n\u001b[1;32m   2410\u001b[0m \n\u001b[1;32m   2411\u001b[0m \u001b[38;5;124;03m    \"\"\"\u001b[39;00m\n\u001b[0;32m-> 2412\u001b[0m     \u001b[38;5;28;01mreturn\u001b[39;00m \u001b[43m_wrapreduction\u001b[49m\u001b[43m(\u001b[49m\u001b[43ma\u001b[49m\u001b[43m,\u001b[49m\u001b[43m \u001b[49m\u001b[43mnp\u001b[49m\u001b[38;5;241;43m.\u001b[39;49m\u001b[43mlogical_or\u001b[49m\u001b[43m,\u001b[49m\u001b[43m \u001b[49m\u001b[38;5;124;43m'\u001b[39;49m\u001b[38;5;124;43many\u001b[39;49m\u001b[38;5;124;43m'\u001b[39;49m\u001b[43m,\u001b[49m\u001b[43m \u001b[49m\u001b[43maxis\u001b[49m\u001b[43m,\u001b[49m\u001b[43m \u001b[49m\u001b[38;5;28;43;01mNone\u001b[39;49;00m\u001b[43m,\u001b[49m\u001b[43m \u001b[49m\u001b[43mout\u001b[49m\u001b[43m,\u001b[49m\n\u001b[1;32m   2413\u001b[0m \u001b[43m                          \u001b[49m\u001b[43mkeepdims\u001b[49m\u001b[38;5;241;43m=\u001b[39;49m\u001b[43mkeepdims\u001b[49m\u001b[43m,\u001b[49m\u001b[43m \u001b[49m\u001b[43mwhere\u001b[49m\u001b[38;5;241;43m=\u001b[39;49m\u001b[43mwhere\u001b[49m\u001b[43m)\u001b[49m\n",
      "File \u001b[0;32m~/miniforge3/envs/lab/lib/python3.12/site-packages/numpy/core/fromnumeric.py:88\u001b[0m, in \u001b[0;36m_wrapreduction\u001b[0;34m(obj, ufunc, method, axis, dtype, out, **kwargs)\u001b[0m\n\u001b[1;32m     85\u001b[0m         \u001b[38;5;28;01melse\u001b[39;00m:\n\u001b[1;32m     86\u001b[0m             \u001b[38;5;28;01mreturn\u001b[39;00m reduction(axis\u001b[38;5;241m=\u001b[39maxis, out\u001b[38;5;241m=\u001b[39mout, \u001b[38;5;241m*\u001b[39m\u001b[38;5;241m*\u001b[39mpasskwargs)\n\u001b[0;32m---> 88\u001b[0m \u001b[38;5;28;01mreturn\u001b[39;00m \u001b[43mufunc\u001b[49m\u001b[38;5;241;43m.\u001b[39;49m\u001b[43mreduce\u001b[49m\u001b[43m(\u001b[49m\u001b[43mobj\u001b[49m\u001b[43m,\u001b[49m\u001b[43m \u001b[49m\u001b[43maxis\u001b[49m\u001b[43m,\u001b[49m\u001b[43m \u001b[49m\u001b[43mdtype\u001b[49m\u001b[43m,\u001b[49m\u001b[43m \u001b[49m\u001b[43mout\u001b[49m\u001b[43m,\u001b[49m\u001b[43m \u001b[49m\u001b[38;5;241;43m*\u001b[39;49m\u001b[38;5;241;43m*\u001b[39;49m\u001b[43mpasskwargs\u001b[49m\u001b[43m)\u001b[49m\n",
      "\u001b[0;31mAxisError\u001b[0m: axis 1 is out of bounds for array of dimension 1"
     ]
    }
   ],
   "source": [
    "from math import ceil\n",
    "\n",
    "def sample(interp, nsamples):\n",
    "    ndim = 2\n",
    "    nwalkers = 32\n",
    "    # nwalkers = 4\n",
    "    samples_per_chain = ceil(nsamples / nwalkers)\n",
    "    p0 = np.pi * (2 * np.random.rand(nwalkers, ndim) - 1)\n",
    "\n",
    "    # sampler = emcee.EnsembleSampler(nwalkers, ndim, log_prob, args=[interp], vectorize=True)\n",
    "    sampler = emcee.EnsembleSampler(nwalkers, ndim, log_prob, args=[interp], vectorize=False)\n",
    "    sampler.run_mcmc(p0, 1_000 + samples_per_chain)\n",
    "\n",
    "    samples = sampler.get_chain()\n",
    "    return samples[-samples_per_chain:].reshape(-1, 2)\n",
    "\n",
    "\n",
    "samples_arr = []\n",
    "\n",
    "for interp in interps:\n",
    "    samples_arr.append(sample(interp, 600_000))\n",
    "    # samples_arr.append(sample(interp, 1_000))"
   ]
  },
  {
   "cell_type": "code",
   "execution_count": 41,
   "metadata": {},
   "outputs": [
    {
     "name": "stdout",
     "output_type": "stream",
     "text": [
      "emcee: Exception while calling your likelihood function:\n",
      "  params: [ 0.94751234 -3.13999916]\n",
      "  args: [<scipy.interpolate._rgi.RegularGridInterpolator object at 0x7fa99905b290>]\n",
      "  kwargs: {}\n",
      "  exception:\n"
     ]
    },
    {
     "name": "stderr",
     "output_type": "stream",
     "text": [
      "Traceback (most recent call last):\n",
      "  File \"/home/gzappavigna/miniforge3/envs/lab/lib/python3.12/site-packages/emcee/ensemble.py\", line 640, in __call__\n",
      "    return self.f(x, *self.args, **self.kwargs)\n",
      "           ^^^^^^^^^^^^^^^^^^^^^^^^^^^^^^^^^^^^\n",
      "  File \"/tmp/ipykernel_1045313/906104579.py\", line 2, in log_prob\n",
      "    mask = np.any((x < -np.pi) | (x > np.pi), axis=1)\n",
      "           ^^^^^^^^^^^^^^^^^^^^^^^^^^^^^^^^^^^^^^^^^^\n",
      "  File \"/home/gzappavigna/miniforge3/envs/lab/lib/python3.12/site-packages/numpy/core/fromnumeric.py\", line 2412, in any\n",
      "    return _wrapreduction(a, np.logical_or, 'any', axis, None, out,\n",
      "           ^^^^^^^^^^^^^^^^^^^^^^^^^^^^^^^^^^^^^^^^^^^^^^^^^^^^^^^^\n",
      "  File \"/home/gzappavigna/miniforge3/envs/lab/lib/python3.12/site-packages/numpy/core/fromnumeric.py\", line 88, in _wrapreduction\n",
      "    return ufunc.reduce(obj, axis, dtype, out, **passkwargs)\n",
      "           ^^^^^^^^^^^^^^^^^^^^^^^^^^^^^^^^^^^^^^^^^^^^^^^^^\n",
      "numpy.exceptions.AxisError: axis 1 is out of bounds for array of dimension 1\n"
     ]
    },
    {
     "ename": "AxisError",
     "evalue": "axis 1 is out of bounds for array of dimension 1",
     "output_type": "error",
     "traceback": [
      "\u001b[0;31m---------------------------------------------------------------------------\u001b[0m",
      "\u001b[0;31mAxisError\u001b[0m                                 Traceback (most recent call last)",
      "Cell \u001b[0;32mIn[41], line 1\u001b[0m\n\u001b[0;32m----> 1\u001b[0m \u001b[43msample\u001b[49m\u001b[43m(\u001b[49m\u001b[43minterp\u001b[49m\u001b[43m,\u001b[49m\u001b[43m \u001b[49m\u001b[38;5;241;43m60_000\u001b[39;49m\u001b[43m)\u001b[49m\n",
      "Cell \u001b[0;32mIn[40], line 12\u001b[0m, in \u001b[0;36msample\u001b[0;34m(interp, nsamples)\u001b[0m\n\u001b[1;32m     10\u001b[0m \u001b[38;5;66;03m# sampler = emcee.EnsembleSampler(nwalkers, ndim, log_prob, args=[interp], vectorize=True)\u001b[39;00m\n\u001b[1;32m     11\u001b[0m sampler \u001b[38;5;241m=\u001b[39m emcee\u001b[38;5;241m.\u001b[39mEnsembleSampler(nwalkers, ndim, log_prob, args\u001b[38;5;241m=\u001b[39m[interp], vectorize\u001b[38;5;241m=\u001b[39m\u001b[38;5;28;01mFalse\u001b[39;00m)\n\u001b[0;32m---> 12\u001b[0m \u001b[43msampler\u001b[49m\u001b[38;5;241;43m.\u001b[39;49m\u001b[43mrun_mcmc\u001b[49m\u001b[43m(\u001b[49m\u001b[43mp0\u001b[49m\u001b[43m,\u001b[49m\u001b[43m \u001b[49m\u001b[38;5;241;43m1_000\u001b[39;49m\u001b[43m \u001b[49m\u001b[38;5;241;43m+\u001b[39;49m\u001b[43m \u001b[49m\u001b[43msamples_per_chain\u001b[49m\u001b[43m)\u001b[49m\n\u001b[1;32m     14\u001b[0m samples \u001b[38;5;241m=\u001b[39m sampler\u001b[38;5;241m.\u001b[39mget_chain()\n\u001b[1;32m     15\u001b[0m \u001b[38;5;28;01mreturn\u001b[39;00m samples[\u001b[38;5;241m-\u001b[39msamples_per_chain:]\u001b[38;5;241m.\u001b[39mreshape(\u001b[38;5;241m-\u001b[39m\u001b[38;5;241m1\u001b[39m, \u001b[38;5;241m2\u001b[39m)\n",
      "File \u001b[0;32m~/miniforge3/envs/lab/lib/python3.12/site-packages/emcee/ensemble.py:450\u001b[0m, in \u001b[0;36mEnsembleSampler.run_mcmc\u001b[0;34m(self, initial_state, nsteps, **kwargs)\u001b[0m\n\u001b[1;32m    447\u001b[0m     initial_state \u001b[38;5;241m=\u001b[39m \u001b[38;5;28mself\u001b[39m\u001b[38;5;241m.\u001b[39m_previous_state\n\u001b[1;32m    449\u001b[0m results \u001b[38;5;241m=\u001b[39m \u001b[38;5;28;01mNone\u001b[39;00m\n\u001b[0;32m--> 450\u001b[0m \u001b[43m\u001b[49m\u001b[38;5;28;43;01mfor\u001b[39;49;00m\u001b[43m \u001b[49m\u001b[43mresults\u001b[49m\u001b[43m \u001b[49m\u001b[38;5;129;43;01min\u001b[39;49;00m\u001b[43m \u001b[49m\u001b[38;5;28;43mself\u001b[39;49m\u001b[38;5;241;43m.\u001b[39;49m\u001b[43msample\u001b[49m\u001b[43m(\u001b[49m\u001b[43minitial_state\u001b[49m\u001b[43m,\u001b[49m\u001b[43m \u001b[49m\u001b[43miterations\u001b[49m\u001b[38;5;241;43m=\u001b[39;49m\u001b[43mnsteps\u001b[49m\u001b[43m,\u001b[49m\u001b[43m \u001b[49m\u001b[38;5;241;43m*\u001b[39;49m\u001b[38;5;241;43m*\u001b[39;49m\u001b[43mkwargs\u001b[49m\u001b[43m)\u001b[49m\u001b[43m:\u001b[49m\n\u001b[1;32m    451\u001b[0m \u001b[43m    \u001b[49m\u001b[38;5;28;43;01mpass\u001b[39;49;00m\n\u001b[1;32m    453\u001b[0m \u001b[38;5;66;03m# Store so that the ``initial_state=None`` case will work\u001b[39;00m\n",
      "File \u001b[0;32m~/miniforge3/envs/lab/lib/python3.12/site-packages/emcee/ensemble.py:351\u001b[0m, in \u001b[0;36mEnsembleSampler.sample\u001b[0;34m(self, initial_state, log_prob0, rstate0, blobs0, iterations, tune, skip_initial_state_check, thin_by, thin, store, progress, progress_kwargs)\u001b[0m\n\u001b[1;32m    349\u001b[0m     state\u001b[38;5;241m.\u001b[39mblobs \u001b[38;5;241m=\u001b[39m blobs0\n\u001b[1;32m    350\u001b[0m \u001b[38;5;28;01mif\u001b[39;00m state\u001b[38;5;241m.\u001b[39mlog_prob \u001b[38;5;129;01mis\u001b[39;00m \u001b[38;5;28;01mNone\u001b[39;00m:\n\u001b[0;32m--> 351\u001b[0m     state\u001b[38;5;241m.\u001b[39mlog_prob, state\u001b[38;5;241m.\u001b[39mblobs \u001b[38;5;241m=\u001b[39m \u001b[38;5;28;43mself\u001b[39;49m\u001b[38;5;241;43m.\u001b[39;49m\u001b[43mcompute_log_prob\u001b[49m\u001b[43m(\u001b[49m\u001b[43mstate\u001b[49m\u001b[38;5;241;43m.\u001b[39;49m\u001b[43mcoords\u001b[49m\u001b[43m)\u001b[49m\n\u001b[1;32m    352\u001b[0m \u001b[38;5;28;01mif\u001b[39;00m np\u001b[38;5;241m.\u001b[39mshape(state\u001b[38;5;241m.\u001b[39mlog_prob) \u001b[38;5;241m!=\u001b[39m (\u001b[38;5;28mself\u001b[39m\u001b[38;5;241m.\u001b[39mnwalkers,):\n\u001b[1;32m    353\u001b[0m     \u001b[38;5;28;01mraise\u001b[39;00m \u001b[38;5;167;01mValueError\u001b[39;00m(\u001b[38;5;124m\"\u001b[39m\u001b[38;5;124mincompatible input dimensions\u001b[39m\u001b[38;5;124m\"\u001b[39m)\n",
      "File \u001b[0;32m~/miniforge3/envs/lab/lib/python3.12/site-packages/emcee/ensemble.py:496\u001b[0m, in \u001b[0;36mEnsembleSampler.compute_log_prob\u001b[0;34m(self, coords)\u001b[0m\n\u001b[1;32m    494\u001b[0m     \u001b[38;5;28;01melse\u001b[39;00m:\n\u001b[1;32m    495\u001b[0m         map_func \u001b[38;5;241m=\u001b[39m \u001b[38;5;28mmap\u001b[39m\n\u001b[0;32m--> 496\u001b[0m     results \u001b[38;5;241m=\u001b[39m \u001b[38;5;28;43mlist\u001b[39;49m\u001b[43m(\u001b[49m\u001b[43mmap_func\u001b[49m\u001b[43m(\u001b[49m\u001b[38;5;28;43mself\u001b[39;49m\u001b[38;5;241;43m.\u001b[39;49m\u001b[43mlog_prob_fn\u001b[49m\u001b[43m,\u001b[49m\u001b[43m \u001b[49m\u001b[43mp\u001b[49m\u001b[43m)\u001b[49m\u001b[43m)\u001b[49m\n\u001b[1;32m    498\u001b[0m \u001b[38;5;28;01mtry\u001b[39;00m:\n\u001b[1;32m    499\u001b[0m     \u001b[38;5;66;03m# perhaps log_prob_fn returns blobs?\u001b[39;00m\n\u001b[1;32m    500\u001b[0m \n\u001b[0;32m   (...)\u001b[0m\n\u001b[1;32m    504\u001b[0m     \u001b[38;5;66;03m# l is a length-1 array, np.array([1.234]). In that case blob\u001b[39;00m\n\u001b[1;32m    505\u001b[0m     \u001b[38;5;66;03m# will become an empty list.\u001b[39;00m\n\u001b[1;32m    506\u001b[0m     blob \u001b[38;5;241m=\u001b[39m [l[\u001b[38;5;241m1\u001b[39m:] \u001b[38;5;28;01mfor\u001b[39;00m l \u001b[38;5;129;01min\u001b[39;00m results \u001b[38;5;28;01mif\u001b[39;00m \u001b[38;5;28mlen\u001b[39m(l) \u001b[38;5;241m>\u001b[39m \u001b[38;5;241m1\u001b[39m]\n",
      "File \u001b[0;32m~/miniforge3/envs/lab/lib/python3.12/site-packages/emcee/ensemble.py:640\u001b[0m, in \u001b[0;36m_FunctionWrapper.__call__\u001b[0;34m(self, x)\u001b[0m\n\u001b[1;32m    638\u001b[0m \u001b[38;5;28;01mdef\u001b[39;00m \u001b[38;5;21m__call__\u001b[39m(\u001b[38;5;28mself\u001b[39m, x):\n\u001b[1;32m    639\u001b[0m     \u001b[38;5;28;01mtry\u001b[39;00m:\n\u001b[0;32m--> 640\u001b[0m         \u001b[38;5;28;01mreturn\u001b[39;00m \u001b[38;5;28;43mself\u001b[39;49m\u001b[38;5;241;43m.\u001b[39;49m\u001b[43mf\u001b[49m\u001b[43m(\u001b[49m\u001b[43mx\u001b[49m\u001b[43m,\u001b[49m\u001b[43m \u001b[49m\u001b[38;5;241;43m*\u001b[39;49m\u001b[38;5;28;43mself\u001b[39;49m\u001b[38;5;241;43m.\u001b[39;49m\u001b[43margs\u001b[49m\u001b[43m,\u001b[49m\u001b[43m \u001b[49m\u001b[38;5;241;43m*\u001b[39;49m\u001b[38;5;241;43m*\u001b[39;49m\u001b[38;5;28;43mself\u001b[39;49m\u001b[38;5;241;43m.\u001b[39;49m\u001b[43mkwargs\u001b[49m\u001b[43m)\u001b[49m\n\u001b[1;32m    641\u001b[0m     \u001b[38;5;28;01mexcept\u001b[39;00m:  \u001b[38;5;66;03m# pragma: no cover\u001b[39;00m\n\u001b[1;32m    642\u001b[0m         \u001b[38;5;28;01mimport\u001b[39;00m \u001b[38;5;21;01mtraceback\u001b[39;00m\n",
      "Cell \u001b[0;32mIn[17], line 2\u001b[0m, in \u001b[0;36mlog_prob\u001b[0;34m(x, interp)\u001b[0m\n\u001b[1;32m      1\u001b[0m \u001b[38;5;28;01mdef\u001b[39;00m \u001b[38;5;21mlog_prob\u001b[39m(x, interp):\n\u001b[0;32m----> 2\u001b[0m     mask \u001b[38;5;241m=\u001b[39m \u001b[43mnp\u001b[49m\u001b[38;5;241;43m.\u001b[39;49m\u001b[43many\u001b[49m\u001b[43m(\u001b[49m\u001b[43m(\u001b[49m\u001b[43mx\u001b[49m\u001b[43m \u001b[49m\u001b[38;5;241;43m<\u001b[39;49m\u001b[43m \u001b[49m\u001b[38;5;241;43m-\u001b[39;49m\u001b[43mnp\u001b[49m\u001b[38;5;241;43m.\u001b[39;49m\u001b[43mpi\u001b[49m\u001b[43m)\u001b[49m\u001b[43m \u001b[49m\u001b[38;5;241;43m|\u001b[39;49m\u001b[43m \u001b[49m\u001b[43m(\u001b[49m\u001b[43mx\u001b[49m\u001b[43m \u001b[49m\u001b[38;5;241;43m>\u001b[39;49m\u001b[43m \u001b[49m\u001b[43mnp\u001b[49m\u001b[38;5;241;43m.\u001b[39;49m\u001b[43mpi\u001b[49m\u001b[43m)\u001b[49m\u001b[43m,\u001b[49m\u001b[43m \u001b[49m\u001b[43maxis\u001b[49m\u001b[38;5;241;43m=\u001b[39;49m\u001b[38;5;241;43m1\u001b[39;49m\u001b[43m)\u001b[49m\n\u001b[1;32m      3\u001b[0m     x[mask, :] \u001b[38;5;241m=\u001b[39m np\u001b[38;5;241m.\u001b[39marray([\u001b[38;5;241m0.0\u001b[39m, \u001b[38;5;241m0.0\u001b[39m])\n\u001b[1;32m      4\u001b[0m     logp \u001b[38;5;241m=\u001b[39m interp(x)\n",
      "File \u001b[0;32m~/miniforge3/envs/lab/lib/python3.12/site-packages/numpy/core/fromnumeric.py:2412\u001b[0m, in \u001b[0;36many\u001b[0;34m(a, axis, out, keepdims, where)\u001b[0m\n\u001b[1;32m   2322\u001b[0m \u001b[38;5;129m@array_function_dispatch\u001b[39m(_any_dispatcher)\n\u001b[1;32m   2323\u001b[0m \u001b[38;5;28;01mdef\u001b[39;00m \u001b[38;5;21many\u001b[39m(a, axis\u001b[38;5;241m=\u001b[39m\u001b[38;5;28;01mNone\u001b[39;00m, out\u001b[38;5;241m=\u001b[39m\u001b[38;5;28;01mNone\u001b[39;00m, keepdims\u001b[38;5;241m=\u001b[39mnp\u001b[38;5;241m.\u001b[39m_NoValue, \u001b[38;5;241m*\u001b[39m, where\u001b[38;5;241m=\u001b[39mnp\u001b[38;5;241m.\u001b[39m_NoValue):\n\u001b[1;32m   2324\u001b[0m \u001b[38;5;250m    \u001b[39m\u001b[38;5;124;03m\"\"\"\u001b[39;00m\n\u001b[1;32m   2325\u001b[0m \u001b[38;5;124;03m    Test whether any array element along a given axis evaluates to True.\u001b[39;00m\n\u001b[1;32m   2326\u001b[0m \n\u001b[0;32m   (...)\u001b[0m\n\u001b[1;32m   2410\u001b[0m \n\u001b[1;32m   2411\u001b[0m \u001b[38;5;124;03m    \"\"\"\u001b[39;00m\n\u001b[0;32m-> 2412\u001b[0m     \u001b[38;5;28;01mreturn\u001b[39;00m \u001b[43m_wrapreduction\u001b[49m\u001b[43m(\u001b[49m\u001b[43ma\u001b[49m\u001b[43m,\u001b[49m\u001b[43m \u001b[49m\u001b[43mnp\u001b[49m\u001b[38;5;241;43m.\u001b[39;49m\u001b[43mlogical_or\u001b[49m\u001b[43m,\u001b[49m\u001b[43m \u001b[49m\u001b[38;5;124;43m'\u001b[39;49m\u001b[38;5;124;43many\u001b[39;49m\u001b[38;5;124;43m'\u001b[39;49m\u001b[43m,\u001b[49m\u001b[43m \u001b[49m\u001b[43maxis\u001b[49m\u001b[43m,\u001b[49m\u001b[43m \u001b[49m\u001b[38;5;28;43;01mNone\u001b[39;49;00m\u001b[43m,\u001b[49m\u001b[43m \u001b[49m\u001b[43mout\u001b[49m\u001b[43m,\u001b[49m\n\u001b[1;32m   2413\u001b[0m \u001b[43m                          \u001b[49m\u001b[43mkeepdims\u001b[49m\u001b[38;5;241;43m=\u001b[39;49m\u001b[43mkeepdims\u001b[49m\u001b[43m,\u001b[49m\u001b[43m \u001b[49m\u001b[43mwhere\u001b[49m\u001b[38;5;241;43m=\u001b[39;49m\u001b[43mwhere\u001b[49m\u001b[43m)\u001b[49m\n",
      "File \u001b[0;32m~/miniforge3/envs/lab/lib/python3.12/site-packages/numpy/core/fromnumeric.py:88\u001b[0m, in \u001b[0;36m_wrapreduction\u001b[0;34m(obj, ufunc, method, axis, dtype, out, **kwargs)\u001b[0m\n\u001b[1;32m     85\u001b[0m         \u001b[38;5;28;01melse\u001b[39;00m:\n\u001b[1;32m     86\u001b[0m             \u001b[38;5;28;01mreturn\u001b[39;00m reduction(axis\u001b[38;5;241m=\u001b[39maxis, out\u001b[38;5;241m=\u001b[39mout, \u001b[38;5;241m*\u001b[39m\u001b[38;5;241m*\u001b[39mpasskwargs)\n\u001b[0;32m---> 88\u001b[0m \u001b[38;5;28;01mreturn\u001b[39;00m \u001b[43mufunc\u001b[49m\u001b[38;5;241;43m.\u001b[39;49m\u001b[43mreduce\u001b[49m\u001b[43m(\u001b[49m\u001b[43mobj\u001b[49m\u001b[43m,\u001b[49m\u001b[43m \u001b[49m\u001b[43maxis\u001b[49m\u001b[43m,\u001b[49m\u001b[43m \u001b[49m\u001b[43mdtype\u001b[49m\u001b[43m,\u001b[49m\u001b[43m \u001b[49m\u001b[43mout\u001b[49m\u001b[43m,\u001b[49m\u001b[43m \u001b[49m\u001b[38;5;241;43m*\u001b[39;49m\u001b[38;5;241;43m*\u001b[39;49m\u001b[43mpasskwargs\u001b[49m\u001b[43m)\u001b[49m\n",
      "\u001b[0;31mAxisError\u001b[0m: axis 1 is out of bounds for array of dimension 1"
     ]
    }
   ],
   "source": [
    "sample(interp, 60_000)"
   ]
  },
  {
   "cell_type": "code",
   "execution_count": 29,
   "metadata": {},
   "outputs": [],
   "source": [
    "kernel = \"gaussian\"\n",
    "factor = 10\n",
    "l = (res - 1) * factor\n",
    "angs = np.linspace(-np.pi, np.pi, l + 1)\n",
    "kde_grid = np.stack(np.meshgrid(angs, angs, indexing=\"ij\"), axis=-1).reshape(-1, 2)\n",
    "assert np.allclose(angs[::factor], np.linspace(-np.pi, np.pi, res))"
   ]
  },
  {
   "cell_type": "code",
   "execution_count": 30,
   "metadata": {},
   "outputs": [],
   "source": [
    "def loss(x, samples, true_logp):\n",
    "    # bw, eps = x\n",
    "    (bw, k) = x\n",
    "    # eps = 5.134644231712484e-06\n",
    "    eps = 1.1615857613434818e-09\n",
    "    kde = FFTKDE(bw=bw, kernel=kernel)\n",
    "    kde.fit(samples)\n",
    "\n",
    "    pdf = kde.evaluate(kde_grid).reshape(l + 1, l + 1)\n",
    "    pdf = pdf[::factor, ::factor]\n",
    "\n",
    "    # est_logp = np.log(pdf + np.exp(eps))\n",
    "    est_logp = np.log(k * pdf + eps)\n",
    "\n",
    "    return np.sum((est_logp[:-1, :-1] - true_logp[:-1, :-1]) ** 2)\n",
    "\n",
    "# def cum_loss(x, samples_arr, logps):\n",
    "#     tot = 0.0\n",
    "\n",
    "#     for samples, true_logp in zip(samples_arr, logps):\n",
    "#         tot += loss(x, samples, true_logp)\n",
    "\n",
    "#     return tot"
   ]
  },
  {
   "cell_type": "code",
   "execution_count": 31,
   "metadata": {},
   "outputs": [],
   "source": [
    "# out = minimize(cum_loss, x0=[2e-1], bounds=[(1e-5, 10)], args=(samples_arr, logps))"
   ]
  },
  {
   "cell_type": "code",
   "execution_count": 32,
   "metadata": {},
   "outputs": [],
   "source": [
    "#   message: CONVERGENCE: REL_REDUCTION_OF_F_<=_FACTR*EPSMCH\n",
    "#   success: True\n",
    "#    status: 0\n",
    "#       fun: 74556.91129774158\n",
    "#         x: [ 3.002e-01]\n",
    "#       nit: 14\n",
    "#       jac: [ 8.310e+03]\n",
    "#      nfev: 298\n",
    "#      njev: 149\n",
    "#  hess_inv: <1x1 LbfgsInvHessProduct with dtype=float64>\n",
    "\n",
    "\n",
    "#   message: CONVERGENCE: REL_REDUCTION_OF_F_<=_FACTR*EPSMCH\n",
    "#   success: True\n",
    "#    status: 0\n",
    "#       fun: 137949.50214250557\n",
    "#         x: [ 4.544e-01]\n",
    "#       nit: 6\n",
    "#       jac: [ 1.224e+05]\n",
    "#      nfev: 86\n",
    "#      njev: 43\n",
    "#  hess_inv: <1x1 LbfgsInvHessProduct with dtype=float64>"
   ]
  },
  {
   "cell_type": "code",
   "execution_count": 33,
   "metadata": {},
   "outputs": [
    {
     "name": "stdout",
     "output_type": "stream",
     "text": [
      "True 3513.177339494696 [0.2437167  6.20464962]\n",
      "True 3602.017508197634 [0.25754704 6.72470206]\n",
      "True 4564.426783115862 [0.26672641 8.40890044]\n",
      "True 3346.748585158063 [0.22147768 6.79832551]\n",
      "True 3209.709961281339 [0.24412481 5.58168026]\n",
      "True 2797.9018423493894 [0.21841795 6.29421947]\n",
      "True 2301.2790866021805 [0.17535772 7.35220687]\n",
      "True 3237.2910499918253 [0.22576284 5.34632354]\n",
      "True 2237.796882271111 [0.18742926 8.14314511]\n",
      "True 2914.365189736372 [0.19561847 7.42237175]\n",
      "True 3480.2464979636234 [0.24968347 5.93784981]\n",
      "False 2641.261674946593 [0.19984732 7.35516851]\n",
      "ABNORMAL_TERMINATION_IN_LNSRCH\n",
      "True 2995.7927362637283 [0.21237388 7.10443573]\n",
      "True 3130.047255636996 [0.20995857 5.97251075]\n",
      "True 3089.207885854663 [0.21841735 6.48453035]\n",
      "True 4564.388816626788 [0.23256968 7.29596817]\n"
     ]
    }
   ],
   "source": [
    "bws = []\n",
    "# epses = []\n",
    "for samples, true_logp in zip(samples_arr, logps):\n",
    "    # out = minimize(loss, x0=[2e-1, 2.6e-6], bounds=[(1e-10, 10), (0, None)], args=(samples, true_logp))\n",
    "    # out = minimize(loss, x0=[2e-1, -12], bounds=[(1e-5, 10), (None, 10)], args=(samples, true_logp))\n",
    "    out = minimize(loss, x0=[2e-1, 1], bounds=[(1e-5, 10), (0, None)], args=(samples, true_logp))\n",
    "    print(out.success, out.fun, out.x)\n",
    "    if not out.success:\n",
    "        print(out.message)\n",
    "    # bw, eps = out.x\n",
    "    (bw, k) = out.x\n",
    "    # break\n",
    "    bws.append(bw)\n",
    "    # epses.append(eps)\n",
    "\n",
    "\n",
    "bws = np.array(bws)\n",
    "# epses = np.array(epses)"
   ]
  },
  {
   "cell_type": "code",
   "execution_count": 34,
   "metadata": {},
   "outputs": [
    {
     "data": {
      "text/plain": [
       "(array([1., 1., 2., 1., 3., 2., 1., 2., 2., 1.]),\n",
       " array([0.17535772, 0.18449459, 0.19363146, 0.20276833, 0.2119052 ,\n",
       "        0.22104207, 0.23017894, 0.23931581, 0.24845267, 0.25758954,\n",
       "        0.26672641]),\n",
       " <BarContainer object of 10 artists>)"
      ]
     },
     "execution_count": 34,
     "metadata": {},
     "output_type": "execute_result"
    },
    {
     "data": {
      "image/png": "[encoded data removed]",
      "text/plain": [
       "<Figure size 640x480 with 1 Axes>"
      ]
     },
     "metadata": {},
     "output_type": "display_data"
    }
   ],
   "source": [
    "plt.hist(bws)"
   ]
  },
  {
   "cell_type": "code",
   "execution_count": 37,
   "metadata": {},
   "outputs": [
    {
     "data": {
      "text/plain": [
       "(0.22243932160912389, 0.02491898396775335)"
      ]
     },
     "execution_count": 37,
     "metadata": {},
     "output_type": "execute_result"
    }
   ],
   "source": [
    "bws.mean(), bws.std()"
   ]
  },
  {
   "cell_type": "code",
   "execution_count": 35,
   "metadata": {},
   "outputs": [
    {
     "ename": "NameError",
     "evalue": "name 'epses' is not defined",
     "output_type": "error",
     "traceback": [
      "\u001b[0;31m---------------------------------------------------------------------------\u001b[0m",
      "\u001b[0;31mNameError\u001b[0m                                 Traceback (most recent call last)",
      "Cell \u001b[0;32mIn[35], line 1\u001b[0m\n\u001b[0;32m----> 1\u001b[0m plt\u001b[38;5;241m.\u001b[39mplot(bws, \u001b[43mepses\u001b[49m, \u001b[38;5;124m\"\u001b[39m\u001b[38;5;124mo\u001b[39m\u001b[38;5;124m\"\u001b[39m)\n\u001b[1;32m      2\u001b[0m plt\u001b[38;5;241m.\u001b[39myscale(\u001b[38;5;124m\"\u001b[39m\u001b[38;5;124mlog\u001b[39m\u001b[38;5;124m\"\u001b[39m)\n\u001b[1;32m      3\u001b[0m plt\u001b[38;5;241m.\u001b[39mxscale(\u001b[38;5;124m\"\u001b[39m\u001b[38;5;124mlog\u001b[39m\u001b[38;5;124m\"\u001b[39m)\n",
      "\u001b[0;31mNameError\u001b[0m: name 'epses' is not defined"
     ]
    }
   ],
   "source": [
    "plt.plot(bws, epses, \"o\")\n",
    "plt.yscale(\"log\")\n",
    "plt.xscale(\"log\")"
   ]
  },
  {
   "cell_type": "code",
   "execution_count": null,
   "metadata": {},
   "outputs": [
    {
     "ename": "NameError",
     "evalue": "name 'resampled_cmap' is not defined",
     "output_type": "error",
     "traceback": [
      "\u001b[0;31m---------------------------------------------------------------------------\u001b[0m",
      "\u001b[0;31mNameError\u001b[0m                                 Traceback (most recent call last)",
      "Cell \u001b[0;32mIn[600], line 1\u001b[0m\n\u001b[0;32m----> 1\u001b[0m plt\u001b[38;5;241m.\u001b[39mimshow(\u001b[43mresampled_cmap\u001b[49m\u001b[38;5;241m.\u001b[39mreshape(l, l)\u001b[38;5;241m.\u001b[39mT, origin\u001b[38;5;241m=\u001b[39m\u001b[38;5;124m\"\u001b[39m\u001b[38;5;124mlower\u001b[39m\u001b[38;5;124m\"\u001b[39m, cmap\u001b[38;5;241m=\u001b[39m\u001b[38;5;124m\"\u001b[39m\u001b[38;5;124mseismic\u001b[39m\u001b[38;5;124m\"\u001b[39m, norm\u001b[38;5;241m=\u001b[39mCenteredNorm())\n\u001b[1;32m      2\u001b[0m plt\u001b[38;5;241m.\u001b[39mcolorbar()\n",
      "\u001b[0;31mNameError\u001b[0m: name 'resampled_cmap' is not defined"
     ]
    }
   ],
   "source": [
    "plt.imshow(resampled_cmap.reshape(l, l).T, origin=\"lower\", cmap=\"seismic\", norm=CenteredNorm())\n",
    "plt.colorbar()"
   ]
  },
  {
   "cell_type": "code",
   "execution_count": null,
   "metadata": {},
   "outputs": [
    {
     "data": {
      "text/plain": [
       "<matplotlib.colorbar.Colorbar at 0x7fb02be091c0>"
      ]
     },
     "execution_count": 469,
     "metadata": {},
     "output_type": "execute_result"
    },
    {
     "data": {
      "image/png": "[encoded data removed]",
      "text/plain": [
       "<Figure size 640x480 with 2 Axes>"
      ]
     },
     "metadata": {},
     "output_type": "display_data"
    }
   ],
   "source": [
    "plt.imshow(grid.T, origin=\"lower\", cmap=\"seismic\", norm=CenteredNorm())\n",
    "plt.colorbar()"
   ]
  },
  {
   "cell_type": "code",
   "execution_count": null,
   "metadata": {},
   "outputs": [],
   "source": []
  }
 ],
 "metadata": {
  "kernelspec": {
   "display_name": "lab",
   "language": "python",
   "name": "python3"
  },
  "language_info": {
   "codemirror_mode": {
    "name": "ipython",
    "version": 3
   },
   "file_extension": ".py",
   "mimetype": "text/x-python",
   "name": "python",
   "nbconvert_exporter": "python",
   "pygments_lexer": "ipython3",
   "version": "3.12.4"
  }
 },
 "nbformat": 4,
 "nbformat_minor": 2
}
