{
 "cells": [
  {
   "cell_type": "code",
   "execution_count": 1,
   "metadata": {},
   "outputs": [],
   "source": [
    "import parmed as pmd\n",
    "# import emcee\n",
    "from scipy.interpolate import RegularGridInterpolator\n",
    "import numpy as np\n",
    "import matplotlib.pyplot as plt\n",
    "from matplotlib.colors import CenteredNorm\n",
    "from KDEpy import FFTKDE\n",
    "from scipy import constants\n",
    "from scipy.optimize import minimize\n"
   ]
  },
  {
   "cell_type": "code",
   "execution_count": 24,
   "metadata": {},
   "outputs": [],
   "source": [
    "gmx = pmd.gromacs.GromacsTopologyFile(\"charmm/charmm36-jul2022.ff/forcefield.itp\")\n",
    "param_set = pmd.charmm.parameters.CharmmParameterSet.from_parameterset(gmx.parameterset)"
   ]
  },
  {
   "cell_type": "code",
   "execution_count": 25,
   "metadata": {},
   "outputs": [
    {
     "name": "stdout",
     "output_type": "stream",
     "text": [
      "845.5607358510359\n",
      "845.5607358510359\n",
      "845.5607358510359\n",
      "845.5607358510359\n",
      "194755.46013954005\n",
      "194755.46013954005\n",
      "194755.46013954005\n",
      "194755.46013954005\n",
      "40.609417587812224\n",
      "40.609417587812224\n",
      "40.609417587812224\n",
      "40.609417587812224\n",
      "845.5607358510359\n",
      "845.5607358510359\n",
      "845.5607358510359\n",
      "845.5607358510359\n",
      "194755.46013954005\n",
      "194755.46013954005\n",
      "194755.46013954005\n",
      "194755.46013954005\n",
      "128.95970613166207\n",
      "128.95970613166207\n",
      "931.9694172148131\n",
      "931.9694172148131\n",
      "846.923185113112\n",
      "846.923185113112\n",
      "846.923185113112\n",
      "846.923185113112\n",
      "846.923185113112\n",
      "846.923185113112\n",
      "846.923185113112\n",
      "846.923185113112\n",
      "194755.46013954005\n",
      "194755.46013954005\n",
      "194755.46013954005\n",
      "194755.46013954005\n",
      "194755.46013954005\n",
      "194755.46013954005\n",
      "194755.46013954005\n",
      "194755.46013954005\n",
      "40.609417587812224\n",
      "40.609417587812224\n",
      "40.609417587812224\n",
      "40.609417587812224\n",
      "40.609417587812224\n",
      "40.609417587812224\n",
      "40.609417587812224\n",
      "40.609417587812224\n"
     ]
    }
   ],
   "source": [
    "for cmap_type in param_set.cmap_types.values():\n",
    "    print(np.exp(np.array(cmap_type.grid._data)).max())"
   ]
  },
  {
   "cell_type": "code",
   "execution_count": 26,
   "metadata": {},
   "outputs": [],
   "source": [
    "mins = np.array([min(cmap_type.grid._data) for cmap_type in param_set.cmap_types.values()])\n",
    "maxs = np.array([max(cmap_type.grid._data) for cmap_type in param_set.cmap_types.values()])"
   ]
  },
  {
   "cell_type": "code",
   "execution_count": 27,
   "metadata": {},
   "outputs": [
    {
     "data": {
      "text/plain": [
       "array([-7.05   , -7.05   , -7.05   , -7.05   , -1.2566 , -1.2566 ,\n",
       "       -1.2566 , -1.2566 , -6.2059 , -6.2059 , -6.2059 , -6.2059 ,\n",
       "       -7.05   , -7.05   , -7.05   , -7.05   , -1.2566 , -1.2566 ,\n",
       "       -1.2566 , -1.2566 , -3.96148, -3.96148, -4.3794 , -4.3794 ,\n",
       "       -7.03483, -7.03483, -7.03483, -7.03483, -7.03483, -7.03483,\n",
       "       -7.03483, -7.03483, -1.2566 , -1.2566 , -1.2566 , -1.2566 ,\n",
       "       -1.2566 , -1.2566 , -1.2566 , -1.2566 , -6.2059 , -6.2059 ,\n",
       "       -6.2059 , -6.2059 , -6.2059 , -6.2059 , -6.2059 , -6.2059 ])"
      ]
     },
     "execution_count": 27,
     "metadata": {},
     "output_type": "execute_result"
    }
   ],
   "source": [
    "mins"
   ]
  },
  {
   "cell_type": "code",
   "execution_count": 28,
   "metadata": {},
   "outputs": [
    {
     "data": {
      "text/plain": [
       "(-7.05, 12.1795)"
      ]
     },
     "execution_count": 28,
     "metadata": {},
     "output_type": "execute_result"
    }
   ],
   "source": [
    "np.min(mins), np.max(maxs)"
   ]
  },
  {
   "cell_type": "code",
   "execution_count": 29,
   "metadata": {},
   "outputs": [
    {
     "data": {
      "text/plain": [
       "array([6.74, 6.74, 6.74, 6.74, 6.74, 6.74, 6.74, 6.74])"
      ]
     },
     "execution_count": 29,
     "metadata": {},
     "output_type": "execute_result"
    }
   ],
   "source": [
    "maxs[mins == np.min(mins)]"
   ]
  },
  {
   "cell_type": "code",
   "execution_count": 31,
   "metadata": {},
   "outputs": [
    {
     "data": {
      "text/plain": [
       "(array([16., 12.,  0.,  0.,  2.,  2.,  0.,  0.,  0., 16.]),\n",
       " array([-7.05   , -6.47066, -5.89132, -5.31198, -4.73264, -4.1533 ,\n",
       "        -3.57396, -2.99462, -2.41528, -1.83594, -1.2566 ]),\n",
       " <BarContainer object of 10 artists>)"
      ]
     },
     "execution_count": 31,
     "metadata": {},
     "output_type": "execute_result"
    },
    {
     "data": {
      "image/png": "[encoded data removed]",
      "text/plain": [
       "<Figure size 640x480 with 1 Axes>"
      ]
     },
     "metadata": {},
     "output_type": "display_data"
    }
   ],
   "source": [
    "plt.hist(mins)"
   ]
  },
  {
   "cell_type": "code",
   "execution_count": 32,
   "metadata": {},
   "outputs": [],
   "source": [
    "maxs = np.array([max(cmap_type.grid._data) for cmap_type in param_set.cmap_types.values()])"
   ]
  },
  {
   "cell_type": "code",
   "execution_count": 34,
   "metadata": {},
   "outputs": [
    {
     "data": {
      "text/plain": [
       "array([6.74, 6.74, 6.74, 6.74, 6.74, 6.74, 6.74, 6.74])"
      ]
     },
     "execution_count": 34,
     "metadata": {},
     "output_type": "execute_result"
    }
   ],
   "source": [
    "maxs[mins == -7.05]"
   ]
  },
  {
   "cell_type": "code",
   "execution_count": 8,
   "metadata": {},
   "outputs": [
    {
     "data": {
      "text/plain": [
       "(array([12.,  2.,  0., 18.,  0.,  0.,  0.,  0.,  0., 16.]),\n",
       " array([ 3.704  ,  4.55155,  5.3991 ,  6.24665,  7.0942 ,  7.94175,\n",
       "         8.7893 ,  9.63685, 10.4844 , 11.33195, 12.1795 ]),\n",
       " <BarContainer object of 10 artists>)"
      ]
     },
     "execution_count": 8,
     "metadata": {},
     "output_type": "execute_result"
    },
    {
     "data": {
      "image/png": "[encoded data removed]",
      "text/plain": [
       "<Figure size 640x480 with 1 Axes>"
      ]
     },
     "metadata": {},
     "output_type": "display_data"
    }
   ],
   "source": [
    "plt.hist(maxs)"
   ]
  },
  {
   "cell_type": "code",
   "execution_count": 20,
   "metadata": {},
   "outputs": [
    {
     "data": {
      "text/plain": [
       "-0.5961612775812619"
      ]
     },
     "execution_count": 20,
     "metadata": {},
     "output_type": "execute_result"
    }
   ],
   "source": [
    "\n",
    "from scipy import constants\n",
    "R = constants.R / (constants.calorie * 1e3)\n",
    "\n",
    "RT = R * 300\n",
    "\n",
    "-RT"
   ]
  },
  {
   "cell_type": "code",
   "execution_count": 21,
   "metadata": {},
   "outputs": [
    {
     "data": {
      "text/plain": [
       "array([7.50296034e-06, 7.50296034e-06, 7.50296034e-06, 7.50296034e-06,\n",
       "       6.52732141e-08, 6.52732141e-08, 6.52732141e-08, 6.52732141e-08,\n",
       "       1.19820445e-05, 1.19820445e-05, 1.19820445e-05, 1.19820445e-05])"
      ]
     },
     "execution_count": 21,
     "metadata": {},
     "output_type": "execute_result"
    }
   ],
   "source": [
    "np.exp(mins/RT)"
   ]
  },
  {
   "cell_type": "code",
   "execution_count": 75,
   "metadata": {},
   "outputs": [
    {
     "data": {
      "text/plain": [
       "1.1920929e-07"
      ]
     },
     "execution_count": 75,
     "metadata": {},
     "output_type": "execute_result"
    }
   ],
   "source": []
  },
  {
   "cell_type": "code",
   "execution_count": 32,
   "metadata": {},
   "outputs": [
    {
     "data": {
      "text/plain": [
       "'8.674089573070025e-04'"
      ]
     },
     "execution_count": 32,
     "metadata": {},
     "output_type": "execute_result"
    }
   ],
   "source": [
    "np.format_float_scientific(np.exp(-7.05))"
   ]
  },
  {
   "cell_type": "code",
   "execution_count": 9,
   "metadata": {},
   "outputs": [
    {
     "data": {
      "text/plain": [
       "12.1795"
      ]
     },
     "execution_count": 9,
     "metadata": {},
     "output_type": "execute_result"
    }
   ],
   "source": [
    "max(max(cmap_type.grid._data) for cmap_type in param_set.cmap_types.values())"
   ]
  },
  {
   "cell_type": "code",
   "execution_count": 26,
   "metadata": {},
   "outputs": [
    {
     "data": {
      "text/plain": [
       "-15.942385"
      ]
     },
     "execution_count": 26,
     "metadata": {},
     "output_type": "execute_result"
    }
   ],
   "source": [
    "np.log(np.finfo(\"float32\").eps)"
   ]
  },
  {
   "cell_type": "code",
   "execution_count": 23,
   "metadata": {},
   "outputs": [
    {
     "data": {
      "text/plain": [
       "1.1920929e-07"
      ]
     },
     "execution_count": 23,
     "metadata": {},
     "output_type": "execute_result"
    }
   ],
   "source": [
    "np.finfo(\"float32\").eps"
   ]
  },
  {
   "cell_type": "code",
   "execution_count": null,
   "metadata": {},
   "outputs": [],
   "source": [
    "param_set.cmap_types"
   ]
  },
  {
   "cell_type": "code",
   "execution_count": null,
   "metadata": {},
   "outputs": [],
   "source": [
    "\n",
    "def build_logp(cmap_type):\n",
    "    RT = 0.592 # kcal / mol\n",
    "    # R = constants.R / (constants.calorie * 1e3)\n",
    "    # RT = R * 298\n",
    "\n",
    "    res = cmap_type.resolution\n",
    "    V = np.array(cmap_type.grid).reshape(res, res)\n",
    "    logp = -V / RT\n",
    "    # logp = -V\n",
    "\n",
    "    ext_logp = np.empty([dim + 1 for dim in logp.shape])\n",
    "\n",
    "    ext_logp[:-1, :-1] = logp\n",
    "    ext_logp[:-1, -1] = logp[:, 0]\n",
    "    ext_logp[-1, :-1] = logp[0, :]\n",
    "    ext_logp[-1, -1] = logp[0, 0]\n",
    "\n",
    "    return ext_logp\n",
    "\n",
    "logps = [build_logp(cmap_type) for cmap_type in param_set.cmap_types.values()]\n",
    "# logps = [logp for logp in logps if np.exp(logp.min()) == 1.1615857613434818e-09]\n"
   ]
  },
  {
   "cell_type": "code",
   "execution_count": null,
   "metadata": {},
   "outputs": [],
   "source": [
    "for logp in logps:\n",
    "    print(logp.min())"
   ]
  },
  {
   "cell_type": "code",
   "execution_count": null,
   "metadata": {},
   "outputs": [],
   "source": [
    "res = next(iter(logps)).shape[0]\n",
    "\n",
    "angs = np.linspace(-np.pi, np.pi, res)\n",
    "method = \"slinear\"\n",
    "\n",
    "interps = [RegularGridInterpolator((angs, angs), logp, method=method) for logp in logps]\n"
   ]
  },
  {
   "cell_type": "code",
   "execution_count": null,
   "metadata": {},
   "outputs": [],
   "source": [
    "def log_prob(x, interp):\n",
    "    mask = np.any((x < -np.pi) | (x > np.pi), axis=1)\n",
    "    x[mask, :] = np.array([0.0, 0.0])\n",
    "    logp = interp(x)\n",
    "    logp[mask] = -np.inf\n",
    "    return logp"
   ]
  },
  {
   "cell_type": "code",
   "execution_count": null,
   "metadata": {},
   "outputs": [],
   "source": [
    "from math import ceil\n",
    "\n",
    "def sample(interp, nsamples):\n",
    "    ndim = 2\n",
    "    nwalkers = 32\n",
    "    # nwalkers = 4\n",
    "    samples_per_chain = ceil(nsamples / nwalkers)\n",
    "    p0 = np.pi * (2 * np.random.rand(nwalkers, ndim) - 1)\n",
    "\n",
    "    # sampler = emcee.EnsembleSampler(nwalkers, ndim, log_prob, args=[interp], vectorize=True)\n",
    "    sampler = emcee.EnsembleSampler(nwalkers, ndim, log_prob, args=[interp], vectorize=False)\n",
    "    sampler.run_mcmc(p0, 1_000 + samples_per_chain)\n",
    "\n",
    "    samples = sampler.get_chain()\n",
    "    return samples[-samples_per_chain:].reshape(-1, 2)\n",
    "\n",
    "\n",
    "samples_arr = []\n",
    "\n",
    "for interp in interps:\n",
    "    samples_arr.append(sample(interp, 600_000))\n",
    "    # samples_arr.append(sample(interp, 1_000))"
   ]
  },
  {
   "cell_type": "code",
   "execution_count": null,
   "metadata": {},
   "outputs": [],
   "source": [
    "sample(interp, 60_000)"
   ]
  },
  {
   "cell_type": "code",
   "execution_count": null,
   "metadata": {},
   "outputs": [],
   "source": [
    "kernel = \"gaussian\"\n",
    "factor = 10\n",
    "l = (res - 1) * factor\n",
    "angs = np.linspace(-np.pi, np.pi, l + 1)\n",
    "kde_grid = np.stack(np.meshgrid(angs, angs, indexing=\"ij\"), axis=-1).reshape(-1, 2)\n",
    "assert np.allclose(angs[::factor], np.linspace(-np.pi, np.pi, res))"
   ]
  },
  {
   "cell_type": "code",
   "execution_count": null,
   "metadata": {},
   "outputs": [],
   "source": [
    "def loss(x, samples, true_logp):\n",
    "    # bw, eps = x\n",
    "    (bw, k) = x\n",
    "    # eps = 5.134644231712484e-06\n",
    "    eps = 1.1615857613434818e-09\n",
    "    kde = FFTKDE(bw=bw, kernel=kernel)\n",
    "    kde.fit(samples)\n",
    "\n",
    "    pdf = kde.evaluate(kde_grid).reshape(l + 1, l + 1)\n",
    "    pdf = pdf[::factor, ::factor]\n",
    "\n",
    "    # est_logp = np.log(pdf + np.exp(eps))\n",
    "    est_logp = np.log(k * pdf + eps)\n",
    "\n",
    "    return np.sum((est_logp[:-1, :-1] - true_logp[:-1, :-1]) ** 2)\n",
    "\n",
    "# def cum_loss(x, samples_arr, logps):\n",
    "#     tot = 0.0\n",
    "\n",
    "#     for samples, true_logp in zip(samples_arr, logps):\n",
    "#         tot += loss(x, samples, true_logp)\n",
    "\n",
    "#     return tot"
   ]
  },
  {
   "cell_type": "code",
   "execution_count": null,
   "metadata": {},
   "outputs": [],
   "source": [
    "# out = minimize(cum_loss, x0=[2e-1], bounds=[(1e-5, 10)], args=(samples_arr, logps))"
   ]
  },
  {
   "cell_type": "code",
   "execution_count": null,
   "metadata": {},
   "outputs": [],
   "source": [
    "#   message: CONVERGENCE: REL_REDUCTION_OF_F_<=_FACTR*EPSMCH\n",
    "#   success: True\n",
    "#    status: 0\n",
    "#       fun: 74556.91129774158\n",
    "#         x: [ 3.002e-01]\n",
    "#       nit: 14\n",
    "#       jac: [ 8.310e+03]\n",
    "#      nfev: 298\n",
    "#      njev: 149\n",
    "#  hess_inv: <1x1 LbfgsInvHessProduct with dtype=float64>\n",
    "\n",
    "\n",
    "#   message: CONVERGENCE: REL_REDUCTION_OF_F_<=_FACTR*EPSMCH\n",
    "#   success: True\n",
    "#    status: 0\n",
    "#       fun: 137949.50214250557\n",
    "#         x: [ 4.544e-01]\n",
    "#       nit: 6\n",
    "#       jac: [ 1.224e+05]\n",
    "#      nfev: 86\n",
    "#      njev: 43\n",
    "#  hess_inv: <1x1 LbfgsInvHessProduct with dtype=float64>"
   ]
  },
  {
   "cell_type": "code",
   "execution_count": null,
   "metadata": {},
   "outputs": [],
   "source": [
    "bws = []\n",
    "# epses = []\n",
    "for samples, true_logp in zip(samples_arr, logps):\n",
    "    # out = minimize(loss, x0=[2e-1, 2.6e-6], bounds=[(1e-10, 10), (0, None)], args=(samples, true_logp))\n",
    "    # out = minimize(loss, x0=[2e-1, -12], bounds=[(1e-5, 10), (None, 10)], args=(samples, true_logp))\n",
    "    out = minimize(loss, x0=[2e-1, 1], bounds=[(1e-5, 10), (0, None)], args=(samples, true_logp))\n",
    "    print(out.success, out.fun, out.x)\n",
    "    if not out.success:\n",
    "        print(out.message)\n",
    "    # bw, eps = out.x\n",
    "    (bw, k) = out.x\n",
    "    # break\n",
    "    bws.append(bw)\n",
    "    # epses.append(eps)\n",
    "\n",
    "\n",
    "bws = np.array(bws)\n",
    "# epses = np.array(epses)"
   ]
  },
  {
   "cell_type": "code",
   "execution_count": null,
   "metadata": {},
   "outputs": [],
   "source": [
    "plt.hist(bws)"
   ]
  },
  {
   "cell_type": "code",
   "execution_count": null,
   "metadata": {},
   "outputs": [],
   "source": [
    "bws.mean(), bws.std()"
   ]
  },
  {
   "cell_type": "code",
   "execution_count": null,
   "metadata": {},
   "outputs": [],
   "source": [
    "plt.plot(bws, epses, \"o\")\n",
    "plt.yscale(\"log\")\n",
    "plt.xscale(\"log\")"
   ]
  },
  {
   "cell_type": "code",
   "execution_count": null,
   "metadata": {},
   "outputs": [],
   "source": [
    "plt.imshow(resampled_cmap.reshape(l, l).T, origin=\"lower\", cmap=\"seismic\", norm=CenteredNorm())\n",
    "plt.colorbar()"
   ]
  },
  {
   "cell_type": "code",
   "execution_count": null,
   "metadata": {},
   "outputs": [],
   "source": [
    "plt.imshow(grid.T, origin=\"lower\", cmap=\"seismic\", norm=CenteredNorm())\n",
    "plt.colorbar()"
   ]
  },
  {
   "cell_type": "code",
   "execution_count": null,
   "metadata": {},
   "outputs": [],
   "source": []
  }
 ],
 "metadata": {
  "kernelspec": {
   "display_name": "lab",
   "language": "python",
   "name": "python3"
  },
  "language_info": {
   "codemirror_mode": {
    "name": "ipython",
    "version": 3
   },
   "file_extension": ".py",
   "mimetype": "text/x-python",
   "name": "python",
   "nbconvert_exporter": "python",
   "pygments_lexer": "ipython3",
   "version": "3.12.6"
  }
 },
 "nbformat": 4,
 "nbformat_minor": 2
}
