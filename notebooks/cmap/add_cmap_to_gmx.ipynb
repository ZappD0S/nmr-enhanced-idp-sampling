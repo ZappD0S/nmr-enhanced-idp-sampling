{
 "cells": [
  {
   "cell_type": "markdown",
   "metadata": {},
   "source": [
    "Let's see if we can add our own CMAP to gmx, using ParmEd\n",
    "Steps:\n",
    "- load gmx topology with parmed\n",
    "- identify the indices (and possibly the atom objects) of the atoms that form the backbone dihedrals\n",
    "- we need to match the mdtraj atoms to the parmed ones\n",
    "- add cmaptypes and cmaps to parmed topology and export \n"
   ]
  },
  {
   "cell_type": "code",
   "execution_count": 1,
   "metadata": {},
   "outputs": [],
   "source": [
    "%load_ext autoreload\n",
    "%autoreload 2"
   ]
  },
  {
   "cell_type": "code",
   "execution_count": 2,
   "metadata": {},
   "outputs": [],
   "source": [
    "from copy import copy\n",
    "import numpy as np\n",
    "import parmed as pmd\n",
    "import mdtraj as mdt\n",
    "from parmed.topologyobjects import CmapType, Cmap\n",
    "import matplotlib.pyplot as plt"
   ]
  },
  {
   "cell_type": "code",
   "execution_count": 3,
   "metadata": {},
   "outputs": [
    {
     "name": "stderr",
     "output_type": "stream",
     "text": [
      "/home/gzappavigna/miniforge3/envs/lab/lib/python3.12/site-packages/tqdm/auto.py:21: TqdmWarning: IProgress not found. Please update jupyter and ipywidgets. See https://ipywidgets.readthedocs.io/en/stable/user_install.html\n",
      "  from .autonotebook import tqdm as notebook_tqdm\n"
     ]
    }
   ],
   "source": [
    "import sys\n",
    "sys.path.append(\"../../\")\n",
    "from data_utils import build_cmap_atoms"
   ]
  },
  {
   "cell_type": "markdown",
   "metadata": {},
   "source": [
    "TODO: match mdtraj atoms to parmed ones \n",
    "\n",
    "1) parmed atom -> mdtraj atom\n",
    "2) mdtraj atom -> mdtraj index (for the angles array)\n"
   ]
  },
  {
   "cell_type": "code",
   "execution_count": 4,
   "metadata": {},
   "outputs": [],
   "source": [
    "\n",
    "# basepath = \"/data/gzappavigna/lmp_conf_builder/gmx/amber/\"\n",
    "# basepath = \"./a99-ildn/\"\n",
    "ref_basepath = \"/data/gzappavigna/traj/a99sb-ildn_opc/\"\n",
    "\n",
    "# ref_traj = mdt.iterload(basepath + \"step5_production_nojump.xtc\", top=basepath + \"step5_production_nojump.pdb\")\n",
    "ref_traj = mdt.load(ref_basepath + \"step5_production_nojump.xtc\", top=ref_basepath + \"step5_production_nojump.pdb\", stride=20)\n"
   ]
  },
  {
   "cell_type": "code",
   "execution_count": 5,
   "metadata": {},
   "outputs": [
    {
     "name": "stderr",
     "output_type": "stream",
     "text": [
      "/home/gzappavigna/miniforge3/envs/lab/lib/python3.12/site-packages/mdtraj/formats/pdb/pdbfile.py:206: UserWarning: Unlikely unit cell vectors detected in PDB file likely resulting from a dummy CRYST1 record. Discarding unit cell vectors.\n",
      "  warnings.warn(\n"
     ]
    }
   ],
   "source": [
    "ens_basepath = \"/data/gzappavigna/lmp_conf_builder/runs/\"\n",
    "\n",
    "ens_traj = mdt.load(ens_basepath + \"ensemble.xtc\", top=ens_basepath + \"cg.pdb\")"
   ]
  },
  {
   "cell_type": "code",
   "execution_count": 6,
   "metadata": {},
   "outputs": [],
   "source": [
    "from cmap import build_phipsi, compute_pdf_r\n",
    "\n",
    "ens_phipsi = build_phipsi(ens_traj)\n",
    "ref_phipsi = build_phipsi(ref_traj)\n"
   ]
  },
  {
   "cell_type": "code",
   "execution_count": 7,
   "metadata": {},
   "outputs": [
    {
     "data": {
      "text/plain": [
       "123"
      ]
     },
     "execution_count": 7,
     "metadata": {},
     "output_type": "execute_result"
    }
   ],
   "source": [
    "_, counts = np.unique(ens_phipsi[33], axis=0, return_counts=True)\n",
    "np.sum(counts > 1)"
   ]
  },
  {
   "cell_type": "code",
   "execution_count": 8,
   "metadata": {},
   "outputs": [],
   "source": [
    "# import h5py\n",
    "\n",
    "# f = h5py.File(\"phipsi.hdf5\", \"w\")\n",
    "# ens_grp = f.create_group(\"ens\")\n",
    "# ens_phipsi_dset = ens_grp.create_dataset(\"phipsi\", ens_phipsi.shape, dtype='f')\n",
    "# ens_phipsi_dset[()] = ens_phipsi\n",
    "\n",
    "# ref_grp = f.create_group(\"ref\")\n",
    "# ref_phipsi_dset = ref_grp.create_dataset(\"phipsi\", ref_phipsi.shape, dtype='f')\n",
    "# ref_phipsi_dset[()] = ref_phipsi\n",
    "\n",
    "# f.close()\n"
   ]
  },
  {
   "cell_type": "code",
   "execution_count": 19,
   "metadata": {},
   "outputs": [],
   "source": [
    "basepath = \"./a99-ildn/\"\n",
    "pmd_top = pmd.load_file(basepath + \"topol.top\", xyz=basepath + \"6921a_solv_ions.gro\") # defines={\"POSRES\": 1})"
   ]
  },
  {
   "cell_type": "code",
   "execution_count": 20,
   "metadata": {},
   "outputs": [],
   "source": [
    "cmap_atoms_list = build_cmap_atoms([[getattr(dih, f\"atom{i+1}\") for i in range(4)] for dih in pmd_top.dihedrals])"
   ]
  },
  {
   "cell_type": "code",
   "execution_count": 21,
   "metadata": {},
   "outputs": [],
   "source": [
    "id_to_mdt_atom = {(atom.residue.index, atom.name): atom for atom in ref_traj.top.atoms}\n",
    "\n",
    "residueNameReplacements = mdt.formats.pdb.PDBTrajectoryFile._residueNameReplacements\n",
    "atomNameReplacements = mdt.formats.pdb.PDBTrajectoryFile._atomNameReplacements\n",
    "\n",
    "pmd_atoms = [atom for atom in pmd_top.atoms if atom.residue.name not in {\"SOL\", \"CL\", \"NA\"}]\n",
    "\n",
    "pmd_to_mdt_atom = {}\n",
    "\n",
    "for pmd_atom in pmd_atoms:\n",
    "    res = pmd_atom.residue\n",
    "    mdt_resname = residueNameReplacements[res.name]\n",
    "    mdt_name = atomNameReplacements[mdt_resname].get(pmd_atom.name, pmd_atom.name)\n",
    "    mdt_atom = id_to_mdt_atom[(res.idx, mdt_name)]\n",
    "\n",
    "    pmd_to_mdt_atom[pmd_atom] = mdt_atom"
   ]
  },
  {
   "cell_type": "code",
   "execution_count": 44,
   "metadata": {},
   "outputs": [
    {
     "name": "stdout",
     "output_type": "stream",
     "text": [
      "1\n",
      "2\n",
      "3\n",
      "4\n",
      "5\n",
      "6\n",
      "7\n",
      "8\n",
      "9\n",
      "10\n",
      "11\n",
      "12\n",
      "13\n",
      "14\n",
      "15\n",
      "16\n",
      "17\n",
      "18\n",
      "19\n",
      "20\n",
      "21\n",
      "22\n",
      "23\n",
      "24\n",
      "25\n",
      "26\n",
      "27\n",
      "28\n",
      "29\n",
      "30\n",
      "31\n",
      "32\n",
      "33\n",
      "34\n",
      "35\n",
      "36\n",
      "37\n",
      "38\n",
      "39\n",
      "40\n",
      "41\n",
      "42\n",
      "43\n",
      "44\n",
      "45\n",
      "46\n",
      "47\n",
      "48\n",
      "49\n",
      "50\n",
      "51\n",
      "52\n",
      "53\n",
      "54\n",
      "55\n",
      "56\n",
      "57\n",
      "58\n",
      "59\n",
      "60\n",
      "61\n",
      "62\n",
      "63\n",
      "64\n",
      "65\n",
      "66\n",
      "67\n",
      "68\n",
      "69\n",
      "70\n",
      "71\n",
      "72\n",
      "73\n",
      "74\n",
      "75\n",
      "76\n",
      "77\n",
      "78\n",
      "79\n",
      "80\n",
      "81\n",
      "82\n",
      "83\n",
      "84\n",
      "85\n",
      "86\n",
      "87\n",
      "88\n",
      "89\n",
      "90\n",
      "91\n",
      "92\n",
      "93\n",
      "94\n",
      "95\n",
      "96\n",
      "97\n",
      "98\n",
      "99\n",
      "100\n",
      "101\n",
      "102\n",
      "103\n",
      "104\n",
      "105\n",
      "106\n",
      "107\n",
      "108\n",
      "109\n",
      "110\n",
      "111\n",
      "112\n",
      "113\n",
      "114\n",
      "115\n",
      "116\n",
      "117\n",
      "118\n",
      "119\n",
      "120\n",
      "121\n",
      "122\n",
      "123\n",
      "124\n",
      "125\n",
      "126\n",
      "127\n",
      "128\n",
      "129\n",
      "130\n"
     ]
    }
   ],
   "source": [
    "from cmap import build_phipsi, build_cmap\n",
    "\n",
    "# ens_phipsi = build_phipsi(ens_traj)\n",
    "# ref_phipsi = build_phipsi(ref_traj)\n",
    "\n",
    "cmap_types = []\n",
    "cmap_objs = []\n",
    "\n",
    "def add_idx_to_atom(atom, i):\n",
    "    atom_type = copy(atom.atom_type)\n",
    "    new_name = atom_type.name + f\"_{i}\"\n",
    "    atom_type.name = new_name\n",
    "    atom.atom_type = atom_type\n",
    "    atom.type = new_name\n",
    "\n",
    "c_first = cmap_atoms_list[0][0]\n",
    "add_idx_to_atom(c_first, 0)\n",
    "\n",
    "n_last = cmap_atoms_list[-1][-1]\n",
    "add_idx_to_atom(n_last, len(cmap_atoms_list) + 1)\n",
    "\n",
    "for i, cmap_atoms in enumerate(cmap_atoms_list):\n",
    "    for atom in cmap_atoms[1:-1]:\n",
    "        add_idx_to_atom(atom, i+1)\n",
    "\n",
    "cmap_mins = []\n",
    "\n",
    "for cmap_atoms in cmap_atoms_list:\n",
    "    mdt_atoms = [pmd_to_mdt_atom[atom] for atom in cmap_atoms]\n",
    "    # the third is the CA\n",
    "    cmap_ind = mdt_atoms[2].residue.index\n",
    "    assert mdt_atoms[2].name == \"CA\"\n",
    "    resname = mdt_atoms[2].residue.name\n",
    "    print(cmap_ind)\n",
    "\n",
    "    sel_ens_phipsi = ens_phipsi[cmap_ind]\n",
    "    sel_ref_phipsi = ref_phipsi[cmap_ind]\n",
    "\n",
    "    cmap, *_ = build_cmap(sel_ens_phipsi, sel_ref_phipsi, basepath=f\"./plots/{resname}{cmap_ind + 1}\") # ens_bw=0.4, ref_bw=0.2)\n",
    "    cmap_mins.append(np.min(cmap))\n",
    "    cmap_type = CmapType(resolution=24, grid=cmap.flatten().tolist(), comments=[resname])\n",
    "    cmap_type.used = True\n",
    "    cmap_obj = Cmap(*cmap_atoms, type=cmap_type)\n",
    "    cmap_types.append(cmap_type)\n",
    "    cmap_objs.append(cmap_obj)\n"
   ]
  },
  {
   "cell_type": "code",
   "execution_count": 45,
   "metadata": {},
   "outputs": [
    {
     "data": {
      "text/plain": [
       "(array([ 4., 12., 38., 33., 14., 16.,  6.,  2.,  3.,  1.]),\n",
       " array([-7.63094262, -7.34472963, -7.05851663, -6.77230364, -6.48609064,\n",
       "        -6.19987765, -5.91366466, -5.62745166, -5.34123867, -5.05502567,\n",
       "        -4.76881268]),\n",
       " <BarContainer object of 10 artists>)"
      ]
     },
     "execution_count": 45,
     "metadata": {},
     "output_type": "execute_result"
    },
    {
     "data": {
      "image/png": "[encoded data removed]",
      "text/plain": [
       "<Figure size 640x480 with 1 Axes>"
      ]
     },
     "metadata": {},
     "output_type": "display_data"
    }
   ],
   "source": [
    "cmap_mins = np.asarray(cmap_mins)\n",
    "plt.hist(cmap_mins[cmap_mins < -4])"
   ]
  },
  {
   "cell_type": "code",
   "execution_count": 46,
   "metadata": {},
   "outputs": [],
   "source": [
    "pmd_top.cmap_types.clear()\n",
    "pmd_top.cmaps.clear()\n",
    "\n",
    "pmd_top.cmap_types.extend(cmap_types)\n",
    "pmd_top.cmap_types.claim()\n",
    "pmd_top.cmap_types.index_members()\n",
    "\n",
    "pmd_top.cmaps.extend(cmap_objs)\n",
    "pmd_top.cmaps.claim()\n",
    "pmd_top.cmaps.index_members()"
   ]
  },
  {
   "cell_type": "code",
   "execution_count": 47,
   "metadata": {},
   "outputs": [],
   "source": [
    "pmd_top.save(basepath + \"cmap_topol.top\", overwrite=True)\n",
    "pmd_top.save(basepath + \"cmap.gro\", overwrite=True)"
   ]
  },
  {
   "cell_type": "code",
   "execution_count": 48,
   "metadata": {},
   "outputs": [],
   "source": [
    "def get_index_of_type(lines: list[str], target):\n",
    "    for i, line in enumerate(lines):\n",
    "        tokens = line.split()\n",
    "\n",
    "        if tokens != [\"[\", \"moleculetype\", \"]\"]:\n",
    "            continue\n",
    "\n",
    "        names = []\n",
    "\n",
    "        for line in lines[i+1:]:\n",
    "            stripped = line.lstrip()\n",
    "\n",
    "            if stripped.startswith(\";\") or stripped == \"\":\n",
    "                continue\n",
    "\n",
    "            if stripped.startswith(\"[\"):\n",
    "                break\n",
    "\n",
    "            names.append(stripped.split()[0])\n",
    "\n",
    "        if len(names) != 1:\n",
    "            raise Exception\n",
    "\n",
    "        name = names[0]\n",
    "\n",
    "        if name == target:\n",
    "            return i\n",
    "\n",
    "    raise Exception\n"
   ]
  },
  {
   "cell_type": "code",
   "execution_count": 49,
   "metadata": {},
   "outputs": [],
   "source": [
    "# TODO: turn this into a function\n",
    "\n",
    "with open(basepath + \"cmap_topol.top\") as top:\n",
    "    lines = top.readlines()\n",
    "\n",
    "i_sol = get_index_of_type(lines, \"SOL\")\n",
    "\n",
    "lines[i_sol:i_sol] = [\"#ifdef POSRES\\n\", '#include \"posre.itp\"\\n', \"#endif\\n\", \"\\n\"]\n",
    "\n",
    "i_ions = min(get_index_of_type(lines, ion_type) for ion_type in [\"NA\", \"CL\"])\n",
    "\n",
    "lines[i_ions:i_ions] = [\n",
    "    \"#ifdef POSRES_WATER\\n\",\n",
    "    \"; Position restraint for each water oxygen\\n\",\n",
    "    \"[ position_restraints ]\\n\",\n",
    "    \";  i funct       fcx        fcy        fcz\\n\",\n",
    "    \"   1    1       1000       1000       1000\\n\",\n",
    "    \"#endif\\n\",\n",
    "    \"\\n\",\n",
    "]\n",
    "\n",
    "with open(basepath + \"cmap_topol_fixed.top\", \"w\") as top:\n",
    "    top.writelines(lines)\n"
   ]
  },
  {
   "cell_type": "code",
   "execution_count": 50,
   "metadata": {},
   "outputs": [
    {
     "name": "stdout",
     "output_type": "stream",
     "text": [
      "/data/gzappavigna/lmp_conf_builder/notebooks/cmap/a99-ildn/cmap_topol_fixed.top\n"
     ]
    }
   ],
   "source": [
    "!realpath {basepath + \"cmap_topol_fixed.top\"}"
   ]
  }
 ],
 "metadata": {
  "kernelspec": {
   "display_name": "lab",
   "language": "python",
   "name": "python3"
  },
  "language_info": {
   "codemirror_mode": {
    "name": "ipython",
    "version": 3
   },
   "file_extension": ".py",
   "mimetype": "text/x-python",
   "name": "python",
   "nbconvert_exporter": "python",
   "pygments_lexer": "ipython3",
   "version": "3.12.5"
  }
 },
 "nbformat": 4,
 "nbformat_minor": 2
}
