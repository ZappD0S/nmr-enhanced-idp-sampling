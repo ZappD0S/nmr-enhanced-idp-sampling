{
 "cells": [
  {
   "cell_type": "code",
   "execution_count": 6,
   "metadata": {},
   "outputs": [
    {
     "name": "stdout",
     "output_type": "stream",
     "text": [
      "The autoreload extension is already loaded. To reload it, use:\n",
      "  %reload_ext autoreload\n"
     ]
    }
   ],
   "source": [
    "%load_ext autoreload\n",
    "%autoreload 2\n",
    "import pickle\n",
    "from pathlib import Path\n",
    "import subprocess\n",
    "\n",
    "import numpy as np\n",
    "import pandas as pd\n",
    "import mdtraj as mdt\n",
    "from pathlib import Path\n",
    "import matplotlib.pyplot as plt\n",
    "from parse import parse\n",
    "\n",
    "import sys\n",
    "sys.path.append(\"../../analysis\")\n",
    "from chem_shift import compute_chem_shift\n",
    "from add_sidechains import add_sidechains\n",
    "\n"
   ]
  },
  {
   "cell_type": "code",
   "execution_count": null,
   "metadata": {},
   "outputs": [],
   "source": [
    "ens_path = \"../../MeV_NT_ens\"\n",
    "cmd = rf'find {ens_path}/ensemble_200_* -regex \"^.*/[0-9]+a_132\\.pdb$\"'\n",
    "res = subprocess.run(cmd, shell=True, capture_output=True, text=True)\n",
    "\n",
    "pdbs = [Path(pdb) for pdb in res.stdout.splitlines()]\n",
    "traj = add_sidechains(pdbs)"
   ]
  },
  {
   "cell_type": "code",
   "execution_count": null,
   "metadata": {},
   "outputs": [],
   "source": [
    "ens_cs = compute_chem_shift(traj)\n",
    "ens_cs = ens_cs.droplevel(\"name\")\n",
    "ens_cs = ens_cs.reset_index(\"frame\")\n",
    "\n",
    "ens_avg_cs = ens_cs.groupby(\"resSeq\")[\"SHIFT\"].mean()"
   ]
  },
  {
   "cell_type": "code",
   "execution_count": 19,
   "metadata": {},
   "outputs": [],
   "source": [
    "ens_avg_cs.to_csv(\"ens_avg_cs.csv\")"
   ]
  },
  {
   "cell_type": "code",
   "execution_count": 20,
   "metadata": {},
   "outputs": [
    {
     "name": "stdout",
     "output_type": "stream",
     "text": [
      "3097\n",
      "6811\n",
      "4622\n",
      "7057\n",
      "13589\n",
      "11199\n",
      "14470\n",
      "10440\n",
      "14017\n",
      "8104\n",
      "15062\n",
      "9802\n",
      "13573\n",
      "10717\n",
      "1528\n",
      "19517\n",
      "9380\n",
      "7982\n",
      "9613\n",
      "9510\n",
      "12724\n",
      "5970\n",
      "7169\n",
      "17425\n",
      "11038\n",
      "6591\n",
      "4618\n",
      "1120\n",
      "14037\n",
      "836\n",
      "6125\n",
      "13939\n",
      "17396\n",
      "11561\n",
      "1313\n",
      "10072\n",
      "3125\n",
      "5033\n",
      "7576\n",
      "1911\n",
      "15070\n",
      "3359\n",
      "12973\n",
      "14122\n",
      "8523\n",
      "3069\n",
      "15809\n",
      "6734\n",
      "6235\n",
      "5813\n",
      "15996\n",
      "11591\n",
      "16074\n",
      "11618\n",
      "4070\n",
      "1386\n",
      "812\n",
      "2504\n",
      "9056\n",
      "2292\n",
      "12877\n",
      "10498\n",
      "5188\n",
      "16179\n",
      "724\n",
      "7054\n",
      "13162\n",
      "16527\n",
      "12088\n",
      "13889\n",
      "3075\n",
      "8041\n",
      "13609\n",
      "10099\n",
      "16258\n",
      "14744\n",
      "2938\n",
      "8508\n",
      "4492\n",
      "11972\n",
      "7719\n",
      "4425\n",
      "290\n",
      "1220\n",
      "10216\n",
      "2923\n",
      "10777\n",
      "1340\n",
      "927\n",
      "12237\n",
      "1532\n",
      "5731\n",
      "6921\n",
      "873\n",
      "15776\n",
      "7753\n",
      "3097\n",
      "6811\n",
      "4622\n",
      "7057\n",
      "13589\n",
      "11199\n",
      "14470\n",
      "10440\n",
      "14017\n",
      "8104\n",
      "15062\n",
      "9802\n",
      "13573\n",
      "10717\n",
      "1528\n",
      "19517\n",
      "9380\n",
      "7982\n",
      "9613\n",
      "9510\n",
      "12724\n",
      "5970\n",
      "7169\n",
      "17425\n",
      "11038\n",
      "6591\n",
      "4618\n",
      "1120\n",
      "14037\n",
      "836\n",
      "6125\n",
      "13939\n",
      "17396\n",
      "11561\n",
      "1313\n",
      "10072\n",
      "3125\n",
      "5033\n",
      "7576\n",
      "1911\n",
      "15070\n",
      "3359\n",
      "12973\n",
      "14122\n",
      "8523\n",
      "3069\n",
      "15809\n",
      "6734\n",
      "6235\n",
      "5813\n",
      "15996\n",
      "11591\n",
      "16074\n",
      "11618\n",
      "4070\n",
      "1386\n",
      "812\n",
      "2504\n",
      "9056\n",
      "2292\n",
      "12877\n",
      "10498\n",
      "5188\n",
      "16179\n",
      "724\n",
      "7054\n",
      "13162\n",
      "16527\n",
      "12088\n",
      "13889\n",
      "3075\n",
      "8041\n",
      "13609\n",
      "10099\n",
      "16258\n",
      "14744\n",
      "2938\n",
      "8508\n",
      "4492\n",
      "11972\n",
      "7719\n",
      "4425\n",
      "290\n",
      "1220\n",
      "10216\n",
      "2923\n",
      "10777\n",
      "1340\n",
      "927\n",
      "12237\n",
      "1532\n",
      "5731\n",
      "6921\n",
      "873\n",
      "15776\n",
      "7753\n"
     ]
    }
   ],
   "source": [
    "def compute_cs_df(basedir, period=100):\n",
    "    basedir = Path(basedir)\n",
    "\n",
    "    xtcs = list(basedir.glob(\"*a_132/md_nojump.xtc\"))\n",
    "\n",
    "    pdbs = [xtc.with_suffix(\".pdb\") for xtc in xtcs]\n",
    "\n",
    "    dfs = []\n",
    "\n",
    "    for pdb, xtc in zip(pdbs, xtcs):\n",
    "        conformer = parse(\"{:d}a_132\", pdb.parent.name)[0]\n",
    "        print(conformer)\n",
    "        traj = mdt.load(xtc, top=pdb)\n",
    "\n",
    "        one_every = round(period / traj.timestep)\n",
    "        inds = np.arange(0, traj.time.size, one_every)\n",
    "        subtraj = traj[inds]\n",
    "        df = compute_chem_shift(subtraj)\n",
    "\n",
    "        df = df.droplevel(\"name\")\n",
    "        df[\"conformer\"] = conformer\n",
    "\n",
    "        dfs.append(df)\n",
    "\n",
    "    df = pd.concat(dfs)\n",
    "\n",
    "    return df\n",
    "\n",
    "\n",
    "ref_cs_df = compute_cs_df(\"/home/gzappavigna/traj/20241018_ff99sb-ildn_opc_multidir\")\n",
    "cmap_cs_df = compute_cs_df(\"/home/gzappavigna/traj/20241025_ff99sb-ildn_opc_cmap_multidir/\")\n",
    "\n"
   ]
  },
  {
   "cell_type": "code",
   "execution_count": 21,
   "metadata": {},
   "outputs": [],
   "source": [
    "ref_cs_df.to_csv(\"ref_cs_df.csv\")\n",
    "cmap_cs_df.to_csv(\"cmap_cs_df.csv\")"
   ]
  },
  {
   "cell_type": "code",
   "execution_count": null,
   "metadata": {},
   "outputs": [],
   "source": [
    "# with (basedir / \"dfs_ca_ref_10ps.pkl\").open(\"rb\") as f:\n",
    "#     dfs = pickle.load(f)"
   ]
  },
  {
   "cell_type": "code",
   "execution_count": 23,
   "metadata": {},
   "outputs": [],
   "source": [
    "atom_name = \"(?:CA)|(?:CO)|N|(?:HN)\"\n",
    "pattern = rf\"^(\\d{{1,3}})([A-Z]?)({atom_name})-(\\d{{1,3}})([A-Z]?)({atom_name})-({atom_name})$\"\n",
    "\n",
    "exp = pd.read_csv(\"lists_Ntail/Ntail_HNCOCA.list\", sep=\" \", header=None)\n",
    "# exp = pd.read_csv(\"lists_Ntail/Ntail_HNCA.list\", sep=\" \", header=None)\n",
    "# seq_cs = \"\".join(exp[0].str.extract(pattern)[1])\n",
    "\n",
    "\n",
    "info = exp[0].str.extract(pattern)\n",
    "\n",
    "exp_ca_cs = pd.Series(exp[1].to_numpy(), index=info[0].astype(int) - 525 + 132)"
   ]
  },
  {
   "cell_type": "code",
   "execution_count": 24,
   "metadata": {},
   "outputs": [],
   "source": [
    "def avg_cs_rmsd(cs_df, ref):\n",
    "    avg = cs_df.groupby([\"resSeq\", \"frame\"])[\"SHIFT\"].mean()\n",
    "\n",
    "    rmsds = []\n",
    "\n",
    "    for i in range(0, 100+1):\n",
    "        rmsds.append(np.mean((avg.xs(i, level=1) - ref).dropna() ** 2) ** 0.5)\n",
    "\n",
    "    return rmsds"
   ]
  },
  {
   "cell_type": "code",
   "execution_count": 25,
   "metadata": {},
   "outputs": [
    {
     "data": {
      "text/plain": [
       "[<matplotlib.lines.Line2D at 0x7f7e253b8a40>]"
      ]
     },
     "execution_count": 25,
     "metadata": {},
     "output_type": "execute_result"
    },
    {
     "data": {
      "image/png": "[encoded data removed]",
      "text/plain": [
       "<Figure size 640x480 with 1 Axes>"
      ]
     },
     "metadata": {},
     "output_type": "display_data"
    }
   ],
   "source": [
    "ref_avg = ref_cs_df.groupby([\"resSeq\", \"frame\"])[\"SHIFT\"].mean()\n",
    "\n",
    "plt.plot(avg_cs_rmsd(ref_cs_df, exp_ca_cs))\n",
    "plt.plot(avg_cs_rmsd(cmap_cs_df, exp_ca_cs))"
   ]
  },
  {
   "cell_type": "code",
   "execution_count": 26,
   "metadata": {},
   "outputs": [
    {
     "data": {
      "text/plain": [
       "[<matplotlib.lines.Line2D at 0x7f7e23cd3860>]"
      ]
     },
     "execution_count": 26,
     "metadata": {},
     "output_type": "execute_result"
    },
    {
     "data": {
      "image/png": "[encoded data removed]",
      "text/plain": [
       "<Figure size 640x480 with 1 Axes>"
      ]
     },
     "metadata": {},
     "output_type": "display_data"
    }
   ],
   "source": [
    "plt.plot(avg_cs_rmsd(ref_cs_df, ens_avg_cs))\n",
    "plt.plot(avg_cs_rmsd(cmap_cs_df, ens_avg_cs))"
   ]
  },
  {
   "cell_type": "code",
   "execution_count": 33,
   "metadata": {},
   "outputs": [],
   "source": [
    "ref_avg = ref_cs_df.groupby([\"resSeq\", \"frame\"])[\"SHIFT\"].mean()\n",
    "cmap_avg = cmap_cs_df.groupby([\"resSeq\", \"frame\"])[\"SHIFT\"].mean()"
   ]
  },
  {
   "cell_type": "code",
   "execution_count": 21,
   "metadata": {},
   "outputs": [
    {
     "data": {
      "text/plain": [
       "resSeq  frame\n",
       "1       0        55.257948\n",
       "        1        55.243656\n",
       "        2        55.240458\n",
       "        3        55.224500\n",
       "        4        55.253187\n",
       "                   ...    \n",
       "132     96       53.998667\n",
       "        97       53.999083\n",
       "        98       53.999406\n",
       "        99       53.999292\n",
       "        100      53.999500\n",
       "Name: SHIFT, Length: 13332, dtype: float64"
      ]
     },
     "execution_count": 21,
     "metadata": {},
     "output_type": "execute_result"
    }
   ],
   "source": [
    "ref_avg"
   ]
  },
  {
   "cell_type": "code",
   "execution_count": 1,
   "metadata": {},
   "outputs": [
    {
     "ename": "NameError",
     "evalue": "name 'plt' is not defined",
     "output_type": "error",
     "traceback": [
      "\u001b[0;31m---------------------------------------------------------------------------\u001b[0m",
      "\u001b[0;31mNameError\u001b[0m                                 Traceback (most recent call last)",
      "Cell \u001b[0;32mIn[1], line 1\u001b[0m\n\u001b[0;32m----> 1\u001b[0m \u001b[43mplt\u001b[49m\u001b[38;5;241m.\u001b[39mfigure(figsize\u001b[38;5;241m=\u001b[39m(\u001b[38;5;241m20\u001b[39m, \u001b[38;5;241m5\u001b[39m))\n\u001b[1;32m      2\u001b[0m \u001b[38;5;66;03m# avg.xs(0, level=1).plot()\u001b[39;00m\n\u001b[1;32m      3\u001b[0m ref_avg\u001b[38;5;241m.\u001b[39mxs(\u001b[38;5;241m100\u001b[39m, level\u001b[38;5;241m=\u001b[39m\u001b[38;5;241m1\u001b[39m)\u001b[38;5;241m.\u001b[39mplot()\n",
      "\u001b[0;31mNameError\u001b[0m: name 'plt' is not defined"
     ]
    }
   ],
   "source": [
    "plt.figure(figsize=(20, 5))\n",
    "# avg.xs(0, level=1).plot()\n",
    "ref_avg.xs(100, level=1).plot()\n",
    "cmap_avg.xs(100, level=1).plot()\n",
    "exp_ca_cs.plot()"
   ]
  },
  {
   "cell_type": "code",
   "execution_count": 171,
   "metadata": {},
   "outputs": [
    {
     "data": {
      "text/plain": [
       "0.14892562985879176"
      ]
     },
     "execution_count": 171,
     "metadata": {},
     "output_type": "execute_result"
    }
   ],
   "source": [
    "np.mean((cmap_avg.xs(0, level=1) - ref_avg.xs(0, level=1)) ** 2) ** 0.5"
   ]
  },
  {
   "cell_type": "code",
   "execution_count": 172,
   "metadata": {},
   "outputs": [
    {
     "data": {
      "text/plain": [
       "0.08235965604724717"
      ]
     },
     "execution_count": 172,
     "metadata": {},
     "output_type": "execute_result"
    }
   ],
   "source": [
    "np.mean((ref_avg.xs(0, level=1) - ref_avg.xs(100, level=1)) ** 2) ** 0.5"
   ]
  },
  {
   "cell_type": "code",
   "execution_count": 141,
   "metadata": {},
   "outputs": [],
   "source": [
    "errors = []\n",
    "\n",
    "for i in range(0, 100+1):\n",
    "    errors.append(np.mean((avg.xs(i, level=1) - avg.xs(0, level=1)) ** 2) ** 0.5)"
   ]
  },
  {
   "cell_type": "code",
   "execution_count": 142,
   "metadata": {},
   "outputs": [
    {
     "data": {
      "text/plain": [
       "[<matplotlib.lines.Line2D at 0x7f2b31131b50>]"
      ]
     },
     "execution_count": 142,
     "metadata": {},
     "output_type": "execute_result"
    },
    {
     "data": {
      "image/png": "[encoded data removed]",
      "text/plain": [
       "<Figure size 640x480 with 1 Axes>"
      ]
     },
     "metadata": {},
     "output_type": "display_data"
    }
   ],
   "source": [
    "plt.plot(errors)"
   ]
  },
  {
   "cell_type": "code",
   "execution_count": 122,
   "metadata": {},
   "outputs": [
    {
     "ename": "KeyError",
     "evalue": "\"None of ['frame'] are in the columns\"",
     "output_type": "error",
     "traceback": [
      "\u001b[0;31m---------------------------------------------------------------------------\u001b[0m",
      "\u001b[0;31mKeyError\u001b[0m                                  Traceback (most recent call last)",
      "\u001b[0;32m/tmp/ipykernel_5444/3535644454.py\u001b[0m in \u001b[0;36m?\u001b[0;34m()\u001b[0m\n\u001b[0;32m----> 1\u001b[0;31m \u001b[0mdf\u001b[0m \u001b[0;34m=\u001b[0m \u001b[0mdf\u001b[0m\u001b[0;34m.\u001b[0m\u001b[0mset_index\u001b[0m\u001b[0;34m(\u001b[0m\u001b[0;34m\"frame\"\u001b[0m\u001b[0;34m,\u001b[0m \u001b[0mappend\u001b[0m\u001b[0;34m=\u001b[0m\u001b[0;32mTrue\u001b[0m\u001b[0;34m)\u001b[0m\u001b[0;34m\u001b[0m\u001b[0;34m\u001b[0m\u001b[0m\n\u001b[0m",
      "\u001b[0;32m~/miniforge3/envs/lab/lib/python3.12/site-packages/pandas/core/frame.py\u001b[0m in \u001b[0;36m?\u001b[0;34m(self, keys, drop, append, inplace, verify_integrity)\u001b[0m\n\u001b[1;32m   6118\u001b[0m                     \u001b[0;32mif\u001b[0m \u001b[0;32mnot\u001b[0m \u001b[0mfound\u001b[0m\u001b[0;34m:\u001b[0m\u001b[0;34m\u001b[0m\u001b[0;34m\u001b[0m\u001b[0m\n\u001b[1;32m   6119\u001b[0m                         \u001b[0mmissing\u001b[0m\u001b[0;34m.\u001b[0m\u001b[0mappend\u001b[0m\u001b[0;34m(\u001b[0m\u001b[0mcol\u001b[0m\u001b[0;34m)\u001b[0m\u001b[0;34m\u001b[0m\u001b[0;34m\u001b[0m\u001b[0m\n\u001b[1;32m   6120\u001b[0m \u001b[0;34m\u001b[0m\u001b[0m\n\u001b[1;32m   6121\u001b[0m         \u001b[0;32mif\u001b[0m \u001b[0mmissing\u001b[0m\u001b[0;34m:\u001b[0m\u001b[0;34m\u001b[0m\u001b[0;34m\u001b[0m\u001b[0m\n\u001b[0;32m-> 6122\u001b[0;31m             \u001b[0;32mraise\u001b[0m \u001b[0mKeyError\u001b[0m\u001b[0;34m(\u001b[0m\u001b[0;34mf\"\u001b[0m\u001b[0;34mNone of \u001b[0m\u001b[0;34m{\u001b[0m\u001b[0mmissing\u001b[0m\u001b[0;34m}\u001b[0m\u001b[0;34m are in the columns\u001b[0m\u001b[0;34m\"\u001b[0m\u001b[0;34m)\u001b[0m\u001b[0;34m\u001b[0m\u001b[0;34m\u001b[0m\u001b[0m\n\u001b[0m\u001b[1;32m   6123\u001b[0m \u001b[0;34m\u001b[0m\u001b[0m\n\u001b[1;32m   6124\u001b[0m         \u001b[0;32mif\u001b[0m \u001b[0minplace\u001b[0m\u001b[0;34m:\u001b[0m\u001b[0;34m\u001b[0m\u001b[0;34m\u001b[0m\u001b[0m\n\u001b[1;32m   6125\u001b[0m             \u001b[0mframe\u001b[0m \u001b[0;34m=\u001b[0m \u001b[0mself\u001b[0m\u001b[0;34m\u001b[0m\u001b[0;34m\u001b[0m\u001b[0m\n",
      "\u001b[0;31mKeyError\u001b[0m: \"None of ['frame'] are in the columns\""
     ]
    }
   ],
   "source": [
    "df = df.set_index(\"frame\", append=True)"
   ]
  },
  {
   "cell_type": "code",
   "execution_count": 56,
   "metadata": {},
   "outputs": [],
   "source": [
    "df = df.reorder_levels([\"resSeq\", \"frame\", \"conformer\"])"
   ]
  },
  {
   "cell_type": "code",
   "execution_count": 58,
   "metadata": {},
   "outputs": [],
   "source": [
    "df = df.sort_index()"
   ]
  },
  {
   "cell_type": "code",
   "execution_count": 30,
   "metadata": {},
   "outputs": [],
   "source": [
    "df = df.sort_values([\"resSeq\", \"frame\", \"conformer\"])"
   ]
  },
  {
   "cell_type": "code",
   "execution_count": 40,
   "metadata": {},
   "outputs": [
    {
     "data": {
      "text/html": [
       "<div>\n",
       "<style scoped>\n",
       "    .dataframe tbody tr th:only-of-type {\n",
       "        vertical-align: middle;\n",
       "    }\n",
       "\n",
       "    .dataframe tbody tr th {\n",
       "        vertical-align: top;\n",
       "    }\n",
       "\n",
       "    .dataframe thead th {\n",
       "        text-align: right;\n",
       "    }\n",
       "</style>\n",
       "<table border=\"1\" class=\"dataframe\">\n",
       "  <thead>\n",
       "    <tr style=\"text-align: right;\">\n",
       "      <th></th>\n",
       "      <th>frame</th>\n",
       "      <th>resSeq</th>\n",
       "      <th>RC_SHIFT</th>\n",
       "      <th>SHIFT</th>\n",
       "      <th>SIGMA</th>\n",
       "      <th>SS_SHIFT</th>\n",
       "      <th>conformer</th>\n",
       "    </tr>\n",
       "  </thead>\n",
       "  <tbody>\n",
       "    <tr>\n",
       "      <th>0</th>\n",
       "      <td>0</td>\n",
       "      <td>1</td>\n",
       "      <td>55.3</td>\n",
       "      <td>55.189</td>\n",
       "      <td>0.988</td>\n",
       "      <td>0.0</td>\n",
       "      <td>0</td>\n",
       "    </tr>\n",
       "    <tr>\n",
       "      <th>132132</th>\n",
       "      <td>0</td>\n",
       "      <td>1</td>\n",
       "      <td>55.3</td>\n",
       "      <td>55.321</td>\n",
       "      <td>0.988</td>\n",
       "      <td>0.0</td>\n",
       "      <td>1</td>\n",
       "    </tr>\n",
       "    <tr>\n",
       "      <th>264264</th>\n",
       "      <td>0</td>\n",
       "      <td>1</td>\n",
       "      <td>55.3</td>\n",
       "      <td>55.289</td>\n",
       "      <td>0.988</td>\n",
       "      <td>0.0</td>\n",
       "      <td>2</td>\n",
       "    </tr>\n",
       "    <tr>\n",
       "      <th>396396</th>\n",
       "      <td>0</td>\n",
       "      <td>1</td>\n",
       "      <td>55.3</td>\n",
       "      <td>55.285</td>\n",
       "      <td>0.988</td>\n",
       "      <td>0.0</td>\n",
       "      <td>3</td>\n",
       "    </tr>\n",
       "    <tr>\n",
       "      <th>528528</th>\n",
       "      <td>0</td>\n",
       "      <td>1</td>\n",
       "      <td>55.3</td>\n",
       "      <td>54.979</td>\n",
       "      <td>0.988</td>\n",
       "      <td>0.0</td>\n",
       "      <td>4</td>\n",
       "    </tr>\n",
       "    <tr>\n",
       "      <th>...</th>\n",
       "      <td>...</td>\n",
       "      <td>...</td>\n",
       "      <td>...</td>\n",
       "      <td>...</td>\n",
       "      <td>...</td>\n",
       "      <td>...</td>\n",
       "      <td>...</td>\n",
       "    </tr>\n",
       "    <tr>\n",
       "      <th>12156143</th>\n",
       "      <td>1000</td>\n",
       "      <td>132</td>\n",
       "      <td>54.0</td>\n",
       "      <td>54.006</td>\n",
       "      <td>0.868</td>\n",
       "      <td>0.0</td>\n",
       "      <td>91</td>\n",
       "    </tr>\n",
       "    <tr>\n",
       "      <th>12288275</th>\n",
       "      <td>1000</td>\n",
       "      <td>132</td>\n",
       "      <td>54.0</td>\n",
       "      <td>54.002</td>\n",
       "      <td>0.868</td>\n",
       "      <td>0.0</td>\n",
       "      <td>92</td>\n",
       "    </tr>\n",
       "    <tr>\n",
       "      <th>12420407</th>\n",
       "      <td>1000</td>\n",
       "      <td>132</td>\n",
       "      <td>54.0</td>\n",
       "      <td>53.989</td>\n",
       "      <td>0.868</td>\n",
       "      <td>0.0</td>\n",
       "      <td>93</td>\n",
       "    </tr>\n",
       "    <tr>\n",
       "      <th>12552539</th>\n",
       "      <td>1000</td>\n",
       "      <td>132</td>\n",
       "      <td>54.0</td>\n",
       "      <td>54.000</td>\n",
       "      <td>0.868</td>\n",
       "      <td>0.0</td>\n",
       "      <td>94</td>\n",
       "    </tr>\n",
       "    <tr>\n",
       "      <th>12684671</th>\n",
       "      <td>1000</td>\n",
       "      <td>132</td>\n",
       "      <td>54.0</td>\n",
       "      <td>53.999</td>\n",
       "      <td>0.868</td>\n",
       "      <td>0.0</td>\n",
       "      <td>95</td>\n",
       "    </tr>\n",
       "  </tbody>\n",
       "</table>\n",
       "<p>12684672 rows × 7 columns</p>\n",
       "</div>"
      ],
      "text/plain": [
       "          frame  resSeq  RC_SHIFT   SHIFT  SIGMA  SS_SHIFT  conformer\n",
       "0             0       1      55.3  55.189  0.988       0.0          0\n",
       "132132        0       1      55.3  55.321  0.988       0.0          1\n",
       "264264        0       1      55.3  55.289  0.988       0.0          2\n",
       "396396        0       1      55.3  55.285  0.988       0.0          3\n",
       "528528        0       1      55.3  54.979  0.988       0.0          4\n",
       "...         ...     ...       ...     ...    ...       ...        ...\n",
       "12156143   1000     132      54.0  54.006  0.868       0.0         91\n",
       "12288275   1000     132      54.0  54.002  0.868       0.0         92\n",
       "12420407   1000     132      54.0  53.989  0.868       0.0         93\n",
       "12552539   1000     132      54.0  54.000  0.868       0.0         94\n",
       "12684671   1000     132      54.0  53.999  0.868       0.0         95\n",
       "\n",
       "[12684672 rows x 7 columns]"
      ]
     },
     "execution_count": 40,
     "metadata": {},
     "output_type": "execute_result"
    }
   ],
   "source": [
    "df"
   ]
  },
  {
   "cell_type": "code",
   "execution_count": null,
   "metadata": {},
   "outputs": [],
   "source": [
    "avg = df.groupby(\"resSeq\",as_index=False)[\"SHIFT\"].rolling(100 * 96).mean()"
   ]
  },
  {
   "cell_type": "code",
   "execution_count": 92,
   "metadata": {},
   "outputs": [
    {
     "data": {
      "text/html": [
       "<div>\n",
       "<style scoped>\n",
       "    .dataframe tbody tr th:only-of-type {\n",
       "        vertical-align: middle;\n",
       "    }\n",
       "\n",
       "    .dataframe tbody tr th {\n",
       "        vertical-align: top;\n",
       "    }\n",
       "\n",
       "    .dataframe thead th {\n",
       "        text-align: right;\n",
       "    }\n",
       "</style>\n",
       "<table border=\"1\" class=\"dataframe\">\n",
       "  <thead>\n",
       "    <tr style=\"text-align: right;\">\n",
       "      <th></th>\n",
       "      <th>resSeq</th>\n",
       "      <th>SHIFT</th>\n",
       "    </tr>\n",
       "  </thead>\n",
       "  <tbody>\n",
       "    <tr>\n",
       "      <th>0</th>\n",
       "      <td>1</td>\n",
       "      <td>NaN</td>\n",
       "    </tr>\n",
       "    <tr>\n",
       "      <th>132132</th>\n",
       "      <td>1</td>\n",
       "      <td>NaN</td>\n",
       "    </tr>\n",
       "    <tr>\n",
       "      <th>264264</th>\n",
       "      <td>1</td>\n",
       "      <td>NaN</td>\n",
       "    </tr>\n",
       "    <tr>\n",
       "      <th>396396</th>\n",
       "      <td>1</td>\n",
       "      <td>NaN</td>\n",
       "    </tr>\n",
       "    <tr>\n",
       "      <th>528528</th>\n",
       "      <td>1</td>\n",
       "      <td>NaN</td>\n",
       "    </tr>\n",
       "    <tr>\n",
       "      <th>...</th>\n",
       "      <td>...</td>\n",
       "      <td>...</td>\n",
       "    </tr>\n",
       "    <tr>\n",
       "      <th>12156143</th>\n",
       "      <td>132</td>\n",
       "      <td>53.999314</td>\n",
       "    </tr>\n",
       "    <tr>\n",
       "      <th>12288275</th>\n",
       "      <td>132</td>\n",
       "      <td>53.999314</td>\n",
       "    </tr>\n",
       "    <tr>\n",
       "      <th>12420407</th>\n",
       "      <td>132</td>\n",
       "      <td>53.999314</td>\n",
       "    </tr>\n",
       "    <tr>\n",
       "      <th>12552539</th>\n",
       "      <td>132</td>\n",
       "      <td>53.999314</td>\n",
       "    </tr>\n",
       "    <tr>\n",
       "      <th>12684671</th>\n",
       "      <td>132</td>\n",
       "      <td>53.999314</td>\n",
       "    </tr>\n",
       "  </tbody>\n",
       "</table>\n",
       "<p>12684672 rows × 2 columns</p>\n",
       "</div>"
      ],
      "text/plain": [
       "          resSeq      SHIFT\n",
       "0              1        NaN\n",
       "132132         1        NaN\n",
       "264264         1        NaN\n",
       "396396         1        NaN\n",
       "528528         1        NaN\n",
       "...          ...        ...\n",
       "12156143     132  53.999314\n",
       "12288275     132  53.999314\n",
       "12420407     132  53.999314\n",
       "12552539     132  53.999314\n",
       "12684671     132  53.999314\n",
       "\n",
       "[12684672 rows x 2 columns]"
      ]
     },
     "execution_count": 92,
     "metadata": {},
     "output_type": "execute_result"
    }
   ],
   "source": [
    "avg"
   ]
  },
  {
   "cell_type": "code",
   "execution_count": 97,
   "metadata": {},
   "outputs": [],
   "source": [
    "res=avg.groupby(\"resSeq\")[\"SHIFT\"].apply(lambda grp: grp.loc[::50 * 96]).dropna()"
   ]
  },
  {
   "cell_type": "code",
   "execution_count": 106,
   "metadata": {},
   "outputs": [
    {
     "data": {
      "text/plain": [
       "<Axes: >"
      ]
     },
     "execution_count": 106,
     "metadata": {},
     "output_type": "execute_result"
    },
    {
     "data": {
      "image/png": "[encoded data removed]",
      "text/plain": [
       "<Figure size 640x480 with 1 Axes>"
      ]
     },
     "metadata": {},
     "output_type": "display_data"
    }
   ],
   "source": [
    "res[60].plot()"
   ]
  },
  {
   "cell_type": "code",
   "execution_count": 27,
   "metadata": {},
   "outputs": [],
   "source": [
    "grouper = df.groupby(\"resSeq\")[[\"SHIFT\", \"frame\"]].rolling(100, on=\"frame\").mean()"
   ]
  },
  {
   "cell_type": "code",
   "execution_count": 28,
   "metadata": {},
   "outputs": [
    {
     "data": {
      "text/html": [
       "<div>\n",
       "<style scoped>\n",
       "    .dataframe tbody tr th:only-of-type {\n",
       "        vertical-align: middle;\n",
       "    }\n",
       "\n",
       "    .dataframe tbody tr th {\n",
       "        vertical-align: top;\n",
       "    }\n",
       "\n",
       "    .dataframe thead th {\n",
       "        text-align: right;\n",
       "    }\n",
       "</style>\n",
       "<table border=\"1\" class=\"dataframe\">\n",
       "  <thead>\n",
       "    <tr style=\"text-align: right;\">\n",
       "      <th></th>\n",
       "      <th></th>\n",
       "      <th>SHIFT</th>\n",
       "      <th>frame</th>\n",
       "    </tr>\n",
       "    <tr>\n",
       "      <th>resSeq</th>\n",
       "      <th></th>\n",
       "      <th></th>\n",
       "      <th></th>\n",
       "    </tr>\n",
       "  </thead>\n",
       "  <tbody>\n",
       "    <tr>\n",
       "      <th rowspan=\"5\" valign=\"top\">1</th>\n",
       "      <th>0</th>\n",
       "      <td>NaN</td>\n",
       "      <td>0</td>\n",
       "    </tr>\n",
       "    <tr>\n",
       "      <th>132</th>\n",
       "      <td>NaN</td>\n",
       "      <td>1</td>\n",
       "    </tr>\n",
       "    <tr>\n",
       "      <th>264</th>\n",
       "      <td>NaN</td>\n",
       "      <td>2</td>\n",
       "    </tr>\n",
       "    <tr>\n",
       "      <th>396</th>\n",
       "      <td>NaN</td>\n",
       "      <td>3</td>\n",
       "    </tr>\n",
       "    <tr>\n",
       "      <th>528</th>\n",
       "      <td>NaN</td>\n",
       "      <td>4</td>\n",
       "    </tr>\n",
       "    <tr>\n",
       "      <th>...</th>\n",
       "      <th>...</th>\n",
       "      <td>...</td>\n",
       "      <td>...</td>\n",
       "    </tr>\n",
       "    <tr>\n",
       "      <th rowspan=\"5\" valign=\"top\">132</th>\n",
       "      <th>12684143</th>\n",
       "      <td>53.99466</td>\n",
       "      <td>996</td>\n",
       "    </tr>\n",
       "    <tr>\n",
       "      <th>12684275</th>\n",
       "      <td>53.99456</td>\n",
       "      <td>997</td>\n",
       "    </tr>\n",
       "    <tr>\n",
       "      <th>12684407</th>\n",
       "      <td>53.99460</td>\n",
       "      <td>998</td>\n",
       "    </tr>\n",
       "    <tr>\n",
       "      <th>12684539</th>\n",
       "      <td>53.99454</td>\n",
       "      <td>999</td>\n",
       "    </tr>\n",
       "    <tr>\n",
       "      <th>12684671</th>\n",
       "      <td>53.99458</td>\n",
       "      <td>1000</td>\n",
       "    </tr>\n",
       "  </tbody>\n",
       "</table>\n",
       "<p>12684672 rows × 2 columns</p>\n",
       "</div>"
      ],
      "text/plain": [
       "                    SHIFT  frame\n",
       "resSeq                          \n",
       "1      0              NaN      0\n",
       "       132            NaN      1\n",
       "       264            NaN      2\n",
       "       396            NaN      3\n",
       "       528            NaN      4\n",
       "...                   ...    ...\n",
       "132    12684143  53.99466    996\n",
       "       12684275  53.99456    997\n",
       "       12684407  53.99460    998\n",
       "       12684539  53.99454    999\n",
       "       12684671  53.99458   1000\n",
       "\n",
       "[12684672 rows x 2 columns]"
      ]
     },
     "execution_count": 28,
     "metadata": {},
     "output_type": "execute_result"
    }
   ],
   "source": [
    "grouper"
   ]
  },
  {
   "cell_type": "code",
   "execution_count": 21,
   "metadata": {},
   "outputs": [],
   "source": [
    "grouper = df.groupby(\"resSeq\").rolling(100, on=\"frame\")"
   ]
  },
  {
   "cell_type": "code",
   "execution_count": 74,
   "metadata": {},
   "outputs": [
    {
     "data": {
      "text/plain": [
       "RC_SHIFT     55.30000\n",
       "SHIFT        55.22709\n",
       "SIGMA         0.98800\n",
       "SS_SHIFT      0.00000\n",
       "conformer    47.66000\n",
       "dtype: float64"
      ]
     },
     "execution_count": 74,
     "metadata": {},
     "output_type": "execute_result"
    }
   ],
   "source": [
    "it  = iter(grouper)\n",
    "\n",
    "for _ in range(150):\n",
    "    tmp = next(it)\n",
    "tmp.mean()"
   ]
  },
  {
   "cell_type": "code",
   "execution_count": 22,
   "metadata": {},
   "outputs": [
    {
     "data": {
      "text/html": [
       "<div>\n",
       "<style scoped>\n",
       "    .dataframe tbody tr th:only-of-type {\n",
       "        vertical-align: middle;\n",
       "    }\n",
       "\n",
       "    .dataframe tbody tr th {\n",
       "        vertical-align: top;\n",
       "    }\n",
       "\n",
       "    .dataframe thead th {\n",
       "        text-align: right;\n",
       "    }\n",
       "</style>\n",
       "<table border=\"1\" class=\"dataframe\">\n",
       "  <thead>\n",
       "    <tr style=\"text-align: right;\">\n",
       "      <th></th>\n",
       "      <th></th>\n",
       "      <th>frame</th>\n",
       "      <th>RC_SHIFT</th>\n",
       "      <th>SHIFT</th>\n",
       "      <th>SIGMA</th>\n",
       "      <th>SS_SHIFT</th>\n",
       "      <th>conformer</th>\n",
       "    </tr>\n",
       "    <tr>\n",
       "      <th>resSeq</th>\n",
       "      <th></th>\n",
       "      <th></th>\n",
       "      <th></th>\n",
       "      <th></th>\n",
       "      <th></th>\n",
       "      <th></th>\n",
       "      <th></th>\n",
       "    </tr>\n",
       "  </thead>\n",
       "  <tbody>\n",
       "    <tr>\n",
       "      <th rowspan=\"5\" valign=\"top\">1</th>\n",
       "      <th>0</th>\n",
       "      <td>0</td>\n",
       "      <td>NaN</td>\n",
       "      <td>NaN</td>\n",
       "      <td>NaN</td>\n",
       "      <td>NaN</td>\n",
       "      <td>NaN</td>\n",
       "    </tr>\n",
       "    <tr>\n",
       "      <th>132</th>\n",
       "      <td>1</td>\n",
       "      <td>NaN</td>\n",
       "      <td>NaN</td>\n",
       "      <td>NaN</td>\n",
       "      <td>NaN</td>\n",
       "      <td>NaN</td>\n",
       "    </tr>\n",
       "    <tr>\n",
       "      <th>264</th>\n",
       "      <td>2</td>\n",
       "      <td>NaN</td>\n",
       "      <td>NaN</td>\n",
       "      <td>NaN</td>\n",
       "      <td>NaN</td>\n",
       "      <td>NaN</td>\n",
       "    </tr>\n",
       "    <tr>\n",
       "      <th>396</th>\n",
       "      <td>3</td>\n",
       "      <td>NaN</td>\n",
       "      <td>NaN</td>\n",
       "      <td>NaN</td>\n",
       "      <td>NaN</td>\n",
       "      <td>NaN</td>\n",
       "    </tr>\n",
       "    <tr>\n",
       "      <th>528</th>\n",
       "      <td>4</td>\n",
       "      <td>NaN</td>\n",
       "      <td>NaN</td>\n",
       "      <td>NaN</td>\n",
       "      <td>NaN</td>\n",
       "      <td>NaN</td>\n",
       "    </tr>\n",
       "    <tr>\n",
       "      <th>...</th>\n",
       "      <th>...</th>\n",
       "      <td>...</td>\n",
       "      <td>...</td>\n",
       "      <td>...</td>\n",
       "      <td>...</td>\n",
       "      <td>...</td>\n",
       "      <td>...</td>\n",
       "    </tr>\n",
       "    <tr>\n",
       "      <th rowspan=\"5\" valign=\"top\">132</th>\n",
       "      <th>12684143</th>\n",
       "      <td>996</td>\n",
       "      <td>54.0</td>\n",
       "      <td>53.99466</td>\n",
       "      <td>0.868</td>\n",
       "      <td>0.0</td>\n",
       "      <td>95.0</td>\n",
       "    </tr>\n",
       "    <tr>\n",
       "      <th>12684275</th>\n",
       "      <td>997</td>\n",
       "      <td>54.0</td>\n",
       "      <td>53.99456</td>\n",
       "      <td>0.868</td>\n",
       "      <td>0.0</td>\n",
       "      <td>95.0</td>\n",
       "    </tr>\n",
       "    <tr>\n",
       "      <th>12684407</th>\n",
       "      <td>998</td>\n",
       "      <td>54.0</td>\n",
       "      <td>53.99460</td>\n",
       "      <td>0.868</td>\n",
       "      <td>0.0</td>\n",
       "      <td>95.0</td>\n",
       "    </tr>\n",
       "    <tr>\n",
       "      <th>12684539</th>\n",
       "      <td>999</td>\n",
       "      <td>54.0</td>\n",
       "      <td>53.99454</td>\n",
       "      <td>0.868</td>\n",
       "      <td>0.0</td>\n",
       "      <td>95.0</td>\n",
       "    </tr>\n",
       "    <tr>\n",
       "      <th>12684671</th>\n",
       "      <td>1000</td>\n",
       "      <td>54.0</td>\n",
       "      <td>53.99458</td>\n",
       "      <td>0.868</td>\n",
       "      <td>0.0</td>\n",
       "      <td>95.0</td>\n",
       "    </tr>\n",
       "  </tbody>\n",
       "</table>\n",
       "<p>12684672 rows × 6 columns</p>\n",
       "</div>"
      ],
      "text/plain": [
       "                 frame  RC_SHIFT     SHIFT  SIGMA  SS_SHIFT  conformer\n",
       "resSeq                                                                \n",
       "1      0             0       NaN       NaN    NaN       NaN        NaN\n",
       "       132           1       NaN       NaN    NaN       NaN        NaN\n",
       "       264           2       NaN       NaN    NaN       NaN        NaN\n",
       "       396           3       NaN       NaN    NaN       NaN        NaN\n",
       "       528           4       NaN       NaN    NaN       NaN        NaN\n",
       "...                ...       ...       ...    ...       ...        ...\n",
       "132    12684143    996      54.0  53.99466  0.868       0.0       95.0\n",
       "       12684275    997      54.0  53.99456  0.868       0.0       95.0\n",
       "       12684407    998      54.0  53.99460  0.868       0.0       95.0\n",
       "       12684539    999      54.0  53.99454  0.868       0.0       95.0\n",
       "       12684671   1000      54.0  53.99458  0.868       0.0       95.0\n",
       "\n",
       "[12684672 rows x 6 columns]"
      ]
     },
     "execution_count": 22,
     "metadata": {},
     "output_type": "execute_result"
    }
   ],
   "source": [
    "grouper.mean()"
   ]
  },
  {
   "cell_type": "code",
   "execution_count": 43,
   "metadata": {},
   "outputs": [
    {
     "data": {
      "text/html": [
       "<div>\n",
       "<style scoped>\n",
       "    .dataframe tbody tr th:only-of-type {\n",
       "        vertical-align: middle;\n",
       "    }\n",
       "\n",
       "    .dataframe tbody tr th {\n",
       "        vertical-align: top;\n",
       "    }\n",
       "\n",
       "    .dataframe thead th {\n",
       "        text-align: right;\n",
       "    }\n",
       "</style>\n",
       "<table border=\"1\" class=\"dataframe\">\n",
       "  <thead>\n",
       "    <tr style=\"text-align: right;\">\n",
       "      <th></th>\n",
       "      <th>RC_SHIFT</th>\n",
       "      <th>SHIFT</th>\n",
       "      <th>SIGMA</th>\n",
       "      <th>SS_SHIFT</th>\n",
       "    </tr>\n",
       "    <tr>\n",
       "      <th>frame</th>\n",
       "      <th></th>\n",
       "      <th></th>\n",
       "      <th></th>\n",
       "      <th></th>\n",
       "    </tr>\n",
       "  </thead>\n",
       "  <tbody>\n",
       "    <tr>\n",
       "      <th>0</th>\n",
       "      <td>56.048</td>\n",
       "      <td>56.301</td>\n",
       "      <td>0.932</td>\n",
       "      <td>0.299</td>\n",
       "    </tr>\n",
       "    <tr>\n",
       "      <th>0</th>\n",
       "      <td>56.048</td>\n",
       "      <td>55.562</td>\n",
       "      <td>1.395</td>\n",
       "      <td>-0.318</td>\n",
       "    </tr>\n",
       "    <tr>\n",
       "      <th>0</th>\n",
       "      <td>56.048</td>\n",
       "      <td>55.041</td>\n",
       "      <td>1.011</td>\n",
       "      <td>-1.009</td>\n",
       "    </tr>\n",
       "    <tr>\n",
       "      <th>0</th>\n",
       "      <td>56.048</td>\n",
       "      <td>56.440</td>\n",
       "      <td>1.426</td>\n",
       "      <td>0.373</td>\n",
       "    </tr>\n",
       "    <tr>\n",
       "      <th>0</th>\n",
       "      <td>56.048</td>\n",
       "      <td>55.817</td>\n",
       "      <td>1.343</td>\n",
       "      <td>-0.344</td>\n",
       "    </tr>\n",
       "    <tr>\n",
       "      <th>...</th>\n",
       "      <td>...</td>\n",
       "      <td>...</td>\n",
       "      <td>...</td>\n",
       "      <td>...</td>\n",
       "    </tr>\n",
       "    <tr>\n",
       "      <th>0</th>\n",
       "      <td>56.100</td>\n",
       "      <td>58.360</td>\n",
       "      <td>1.016</td>\n",
       "      <td>2.260</td>\n",
       "    </tr>\n",
       "    <tr>\n",
       "      <th>0</th>\n",
       "      <td>58.200</td>\n",
       "      <td>60.626</td>\n",
       "      <td>0.974</td>\n",
       "      <td>2.426</td>\n",
       "    </tr>\n",
       "    <tr>\n",
       "      <th>0</th>\n",
       "      <td>52.037</td>\n",
       "      <td>54.329</td>\n",
       "      <td>0.652</td>\n",
       "      <td>2.291</td>\n",
       "    </tr>\n",
       "    <tr>\n",
       "      <th>0</th>\n",
       "      <td>54.000</td>\n",
       "      <td>56.130</td>\n",
       "      <td>0.855</td>\n",
       "      <td>2.130</td>\n",
       "    </tr>\n",
       "    <tr>\n",
       "      <th>0</th>\n",
       "      <td>52.037</td>\n",
       "      <td>54.914</td>\n",
       "      <td>0.635</td>\n",
       "      <td>2.875</td>\n",
       "    </tr>\n",
       "  </tbody>\n",
       "</table>\n",
       "<p>100 rows × 4 columns</p>\n",
       "</div>"
      ],
      "text/plain": [
       "       RC_SHIFT   SHIFT  SIGMA  SS_SHIFT\n",
       "frame                                   \n",
       "0        56.048  56.301  0.932     0.299\n",
       "0        56.048  55.562  1.395    -0.318\n",
       "0        56.048  55.041  1.011    -1.009\n",
       "0        56.048  56.440  1.426     0.373\n",
       "0        56.048  55.817  1.343    -0.344\n",
       "...         ...     ...    ...       ...\n",
       "0        56.100  58.360  1.016     2.260\n",
       "0        58.200  60.626  0.974     2.426\n",
       "0        52.037  54.329  0.652     2.291\n",
       "0        54.000  56.130  0.855     2.130\n",
       "0        52.037  54.914  0.635     2.875\n",
       "\n",
       "[100 rows x 4 columns]"
      ]
     },
     "execution_count": 43,
     "metadata": {},
     "output_type": "execute_result"
    }
   ],
   "source": [
    "it = iter(res)\n",
    "for _ in range(3):\n",
    "    tmp = next(it)\n",
    "\n",
    "tmp"
   ]
  },
  {
   "cell_type": "code",
   "execution_count": null,
   "metadata": {},
   "outputs": [],
   "source": [
    "# pandas rolling window=100, step=50"
   ]
  },
  {
   "cell_type": "code",
   "execution_count": null,
   "metadata": {},
   "outputs": [],
   "source": []
  }
 ],
 "metadata": {
  "kernelspec": {
   "display_name": "lab",
   "language": "python",
   "name": "python3"
  },
  "language_info": {
   "codemirror_mode": {
    "name": "ipython",
    "version": 3
   },
   "file_extension": ".py",
   "mimetype": "text/x-python",
   "name": "python",
   "nbconvert_exporter": "python",
   "pygments_lexer": "ipython3",
   "version": "3.12.6"
  }
 },
 "nbformat": 4,
 "nbformat_minor": 2
}
