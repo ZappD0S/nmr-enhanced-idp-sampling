{
 "cells": [
  {
   "cell_type": "code",
   "execution_count": 1,
   "metadata": {},
   "outputs": [],
   "source": [
    "%load_ext autoreload\n",
    "%autoreload 2\n",
    "\n",
    "import sys\n",
    "import numpy as np\n",
    "import pandas as pd\n",
    "from parse import compile, parse\n",
    "import mdtraj as mdt\n",
    "import matplotlib.pyplot as plt\n",
    "\n",
    "sys.path.append(\"../../analysis\")\n",
    "from rdc import compute_rdc\n"
   ]
  },
  {
   "cell_type": "code",
   "execution_count": 2,
   "metadata": {},
   "outputs": [],
   "source": [
    "# xtc = \"/data/gzappavigna/lmp_conf_builder/gmx/amber/step5_production_nojump.xtc\"\n",
    "# gro = \"/data/gzappavigna/lmp_conf_builder/gmx/amber/step5_production_nojump.gro\"\n",
    "\n",
    "xtc = \"/data/gzappavigna/traj/a99sb-ildn_opc/step5_production_nojump.xtc\"\n",
    "gro = \"/data/gzappavigna/traj/a99sb-ildn_opc/step5_production_nojump.pdb\"\n",
    "\n",
    "traj = mdt.load(xtc, top=gro)\n"
   ]
  },
  {
   "cell_type": "code",
   "execution_count": 20,
   "metadata": {},
   "outputs": [],
   "source": [
    "period = 1e2 # 1e3 ps = 1 ns\n",
    "one_every = round(period / traj.timestep)\n",
    "# inds = np.arange(0, traj.time.size, one_every)\n",
    "\n",
    "inds = np.arange(250_000, traj.time.size, one_every)\n",
    "\n",
    "subtraj = traj[inds]"
   ]
  },
  {
   "cell_type": "code",
   "execution_count": 21,
   "metadata": {},
   "outputs": [
    {
     "data": {
      "text/plain": [
       "1751"
      ]
     },
     "execution_count": 21,
     "metadata": {},
     "output_type": "execute_result"
    }
   ],
   "source": [
    "len(subtraj)"
   ]
  },
  {
   "cell_type": "code",
   "execution_count": 8,
   "metadata": {},
   "outputs": [
    {
     "data": {
      "text/plain": [
       "(211, 1998, 3)"
      ]
     },
     "execution_count": 8,
     "metadata": {},
     "output_type": "execute_result"
    }
   ],
   "source": [
    "subtraj.xyz.shape"
   ]
  },
  {
   "cell_type": "code",
   "execution_count": 22,
   "metadata": {},
   "outputs": [],
   "source": [
    "# nh_vecs, eigvals, eigvecs_dict = compute_rdc(subtraj)\n",
    "rdc = compute_rdc(subtraj)"
   ]
  },
  {
   "cell_type": "code",
   "execution_count": 23,
   "metadata": {},
   "outputs": [
    {
     "data": {
      "text/plain": [
       "<BarContainer object of 124 artists>"
      ]
     },
     "execution_count": 23,
     "metadata": {},
     "output_type": "execute_result"
    },
    {
     "data": {
      "image/png": "[encoded data removed]",
      "text/plain": [
       "<Figure size 960x720 with 1 Axes>"
      ]
     },
     "metadata": {},
     "output_type": "display_data"
    }
   ],
   "source": [
    "plt.figure(dpi=150)\n",
    "plt.bar(np.arange(rdc.size), rdc)"
   ]
  },
  {
   "cell_type": "code",
   "execution_count": 12,
   "metadata": {},
   "outputs": [
    {
     "name": "stdout",
     "output_type": "stream",
     "text": [
      "<Result (0.0015108, 0.0019078, -0.0034185) {}>\n",
      "<Result ('X', -0.14703, 0.9236, -0.35404) {}>\n",
      "<Result (-205.0, -25.3, 260.64) {}>\n"
     ]
    }
   ],
   "source": [
    "\n",
    "eigval_fmt = \"DATA EIGENVALUES (Sxx_d,Syy_d,Szz_d)   {:2.4e} {:2.4e} {:2.4e}\"\n",
    "eigvec_fmt = \"DATA EIGENVECTORS {:1}_AXIS {:2.4e} {:2.4e} {:2.4e}\"\n",
    "euler_angs_fmt = \"DATA EULER_ANGLES {:7.2f} {:7.2f} {:7.2f}\"\n",
    "\n",
    "# print(parse(eigval_fmt, \"DATA EIGENVALUES (Sxx_d,Syy_d,Szz_d)    3.2786e-04  5.1444e-04 -8.4230e-04\"))\n",
    "\n",
    "print(parse(eigval_fmt, \"DATA EIGENVALUES (Sxx_d,Syy_d,Szz_d)    1.5108e-03  1.9078e-03 -3.4185e-03\"))\n",
    "print(parse(eigvec_fmt, \"DATA EIGENVECTORS X_AXIS -1.4703e-01  9.2360e-01 -3.5404e-01\"))\n",
    "\n",
    "print(parse(euler_angs_fmt, \"DATA EULER_ANGLES -205.00 -25.30  260.64\"))"
   ]
  },
  {
   "cell_type": "code",
   "execution_count": 24,
   "metadata": {},
   "outputs": [],
   "source": [
    "def _get_lines_to_skip(filename):\n",
    "    # format_string = \"\"\"FORMAT %4d %4s %4s %9.3f %9.3f %9.3f %9.3f %9.3f %9.3f\"\"\"\n",
    "    format_string = r\"FORMAT  %4d %4s %4s %4d %4s %4s %9.2f %9.3f %9.3f %9.3f %.2f %.2f\"\n",
    "    handle = open(filename)\n",
    "    for i, line in enumerate(handle):\n",
    "        if line.find(format_string) != -1:\n",
    "            return i + 2\n",
    "\n",
    "    raise Exception\n",
    "\n",
    "\n",
    "names = [\n",
    "    \"RESID_I\",\n",
    "    \"RESNAME_I\",\n",
    "    \"ATOMNAME_I\",\n",
    "    \"RESID_J\",\n",
    "    \"RESNAME_J\",\n",
    "    \"ATOMNAME_J\",\n",
    "    \"DI\",\n",
    "    \"D_OBS\",\n",
    "    \"D\",\n",
    "    \"D_DIFF\",\n",
    "    \"DD\",\n",
    "    \"W\",\n",
    "]\n",
    "\n",
    "lines_to_skip = _get_lines_to_skip(\"example.pal\")\n",
    "\n",
    "df = pd.read_table(\n",
    "    \"example.pal\",\n",
    "    names=names,\n",
    "    header=None,\n",
    "    sep=r\"\\s+\",\n",
    "    skiprows=lines_to_skip,\n",
    ")\n"
   ]
  },
  {
   "cell_type": "code",
   "execution_count": 25,
   "metadata": {},
   "outputs": [
    {
     "data": {
      "text/plain": [
       "Index(['RESID_I', 'RESNAME_I', 'ATOMNAME_I', 'RESID_J', 'RESNAME_J',\n",
       "       'ATOMNAME_J', 'DI', 'D_OBS', 'D', 'D_DIFF', 'DD', 'W'],\n",
       "      dtype='object')"
      ]
     },
     "execution_count": 25,
     "metadata": {},
     "output_type": "execute_result"
    }
   ],
   "source": [
    "df.columns"
   ]
  },
  {
   "cell_type": "code",
   "execution_count": 29,
   "metadata": {},
   "outputs": [],
   "source": [
    "df = df.drop(columns=[\"RESNAME_I\", \"RESNAME_J\"]).set_index(\n",
    "    [\n",
    "        \"RESID_I\",\n",
    "        \"ATOMNAME_I\",\n",
    "        \"RESID_J\",\n",
    "        \"ATOMNAME_J\",\n",
    "    ],\n",
    ")\n"
   ]
  },
  {
   "cell_type": "code",
   "execution_count": null,
   "metadata": {},
   "outputs": [],
   "source": [
    "D = df.loc[(slice(None),\"N\", slice(None), \"HN\"), :].D\n",
    "plt.bar(np.arange(D.size), D)"
   ]
  },
  {
   "cell_type": "code",
   "execution_count": 24,
   "metadata": {},
   "outputs": [],
   "source": [
    "traj = mdt.load(\"1IGD_H_s.pdb\")"
   ]
  },
  {
   "cell_type": "code",
   "execution_count": 29,
   "metadata": {},
   "outputs": [],
   "source": [
    "traj = mdt.load_pdb(\"1IGD_H_s.pdb\") # standard_names=False)"
   ]
  },
  {
   "cell_type": "code",
   "execution_count": 19,
   "metadata": {},
   "outputs": [
    {
     "data": {
      "text/plain": [
       "<mdtraj.Trajectory with 1 frames, 568 atoms, 55 residues, without unitcells at 0x7f351d3bf230>"
      ]
     },
     "execution_count": 19,
     "metadata": {},
     "output_type": "execute_result"
    }
   ],
   "source": [
    "traj"
   ]
  },
  {
   "cell_type": "code",
   "execution_count": 32,
   "metadata": {},
   "outputs": [
    {
     "name": "stdout",
     "output_type": "stream",
     "text": [
      "(55, 1, 3)\n"
     ]
    }
   ],
   "source": [
    "rdc, rot_basis = compute_rdc(traj)"
   ]
  },
  {
   "cell_type": "code",
   "execution_count": null,
   "metadata": {},
   "outputs": [
    {
     "data": {
      "text/plain": [
       "array([[[ True,  True, False],\n",
       "        [ True,  True,  True],\n",
       "        [False,  True,  True]]])"
      ]
     },
     "execution_count": 36,
     "metadata": {},
     "output_type": "execute_result"
    }
   ],
   "source": [
    "# np.isclose(rot_basis, np.eye(3), rtol=0, atol=1e-05)\n",
    "np.isclose(rot_basis, np.eye(3), atol=1e-5)"
   ]
  },
  {
   "cell_type": "code",
   "execution_count": 21,
   "metadata": {},
   "outputs": [
    {
     "data": {
      "text/plain": [
       "array([[[ 9.99997229e-01, -4.57000000e-07,  1.79480000e-06],\n",
       "        [-4.57000000e-07,  1.00001090e+00,  7.06480000e-07],\n",
       "        [ 1.79480000e-06,  7.06480000e-07,  1.00000269e+00]]])"
      ]
     },
     "execution_count": 21,
     "metadata": {},
     "output_type": "execute_result"
    }
   ],
   "source": [
    "rot_basis"
   ]
  },
  {
   "cell_type": "code",
   "execution_count": 166,
   "metadata": {},
   "outputs": [
    {
     "data": {
      "text/plain": [
       "array([  5.20252317,  14.45256418,  13.35018986,  12.93785071,\n",
       "         6.87221683,   8.87220628,   0.59505025,   7.45905113,\n",
       "         1.21414253,  -9.26465299,   9.48210398,  13.49195067,\n",
       "        13.5777302 ,  11.48907434,  12.90201266,  15.3748979 ,\n",
       "        13.81446894,  14.19625397,  11.05310378,  10.23523429,\n",
       "         0.92813468,   1.15891637, -18.21368496, -10.85216256,\n",
       "        -2.47673046, -11.14081575, -20.01788689, -10.5916565 ,\n",
       "        -6.65768568, -19.05436838, -18.7459918 , -11.33899017,\n",
       "       -11.09902366, -20.25550126, -14.92763197,  -0.0561313 ,\n",
       "       -13.46872271, -11.96258122, -16.16079119, -16.28967752,\n",
       "        -5.70552404,   7.23311907,   9.78926324,  14.54722096,\n",
       "        13.35517414,  11.87531615,  -8.16792549,  -0.56431262,\n",
       "        10.20684751,  15.29035768,  14.08245412,   7.36647596,\n",
       "         8.63810723,   4.64594276,   6.82056546])"
      ]
     },
     "execution_count": 166,
     "metadata": {},
     "output_type": "execute_result"
    }
   ],
   "source": [
    "rdc"
   ]
  },
  {
   "cell_type": "code",
   "execution_count": 38,
   "metadata": {},
   "outputs": [
    {
     "data": {
      "text/plain": [
       "array([  0.09134494,   8.35513386,   7.79824273,  11.67164988,\n",
       "        10.74253464,   4.86344656,  11.06794864,  11.7384501 ,\n",
       "        10.59088072,  10.99070914,   8.68689235,   6.1308521 ,\n",
       "         6.59103393,   5.32683664,   4.81667981,  -4.76307397,\n",
       "        -2.74343015, -16.29095467, -13.26174709,  -7.05608378,\n",
       "       -17.83405872,  -8.88137127, -15.9103377 , -17.74138488,\n",
       "       -13.47062148, -11.04993833, -17.4993676 , -15.75436359,\n",
       "        -4.24550374,  -7.17077592,   9.7768759 ,  11.63681273,\n",
       "        10.31397054,  11.12766408,   0.09796495,   7.97102862,\n",
       "         9.73358971,  11.48134395,   9.4516037 ,  10.57283504,\n",
       "         9.75283432])"
      ]
     },
     "execution_count": 38,
     "metadata": {},
     "output_type": "execute_result"
    }
   ],
   "source": [
    "rdc[inds]"
   ]
  },
  {
   "cell_type": "code",
   "execution_count": 33,
   "metadata": {},
   "outputs": [
    {
     "data": {
      "text/plain": [
       "<BarContainer object of 55 artists>"
      ]
     },
     "execution_count": 33,
     "metadata": {},
     "output_type": "execute_result"
    },
    {
     "data": {
      "image/png": "[encoded data removed]",
      "text/plain": [
       "<Figure size 640x480 with 1 Axes>"
      ]
     },
     "metadata": {},
     "output_type": "display_data"
    }
   ],
   "source": [
    "plt.bar(np.arange(rdc.size), rdc)"
   ]
  },
  {
   "cell_type": "code",
   "execution_count": 22,
   "metadata": {},
   "outputs": [
    {
     "data": {
      "text/plain": [
       "-4.431197901483257"
      ]
     },
     "execution_count": 22,
     "metadata": {},
     "output_type": "execute_result"
    }
   ],
   "source": [
    "np.min(dd_obs[3] -  rdc)"
   ]
  },
  {
   "cell_type": "code",
   "execution_count": 39,
   "metadata": {},
   "outputs": [
    {
     "data": {
      "text/plain": [
       "<BarContainer object of 41 artists>"
      ]
     },
     "execution_count": 39,
     "metadata": {},
     "output_type": "execute_result"
    },
    {
     "data": {
      "image/png": "[encoded data removed]",
      "text/plain": [
       "<Figure size 640x480 with 1 Axes>"
      ]
     },
     "metadata": {},
     "output_type": "display_data"
    }
   ],
   "source": [
    "plt.bar(np.arange(rdc[inds].size), rdc[inds])"
   ]
  },
  {
   "cell_type": "code",
   "execution_count": 23,
   "metadata": {},
   "outputs": [
    {
     "data": {
      "text/plain": [
       "<BarContainer object of 41 artists>"
      ]
     },
     "execution_count": 23,
     "metadata": {},
     "output_type": "execute_result"
    },
    {
     "data": {
      "image/png": "[encoded data removed]",
      "text/plain": [
       "<Figure size 640x480 with 1 Axes>"
      ]
     },
     "metadata": {},
     "output_type": "display_data"
    }
   ],
   "source": [
    "dd_obs = df[8].to_numpy()\n",
    "plt.bar(np.arange(dd_obs.size), dd_obs)"
   ]
  },
  {
   "cell_type": "code",
   "execution_count": 34,
   "metadata": {},
   "outputs": [],
   "source": [
    "# df = pd.read_csv(\"ssiaB.tbl\", sep=\" \", skipinitialspace=True, skiprows=65, header=None)\n",
    "df = pd.read_csv(\"ssiaB.tbl\", sep=\" \", skipinitialspace=True, skiprows=65, header=None)\n"
   ]
  },
  {
   "cell_type": "code",
   "execution_count": 35,
   "metadata": {},
   "outputs": [
    {
     "data": {
      "text/html": [
       "<div>\n",
       "<style scoped>\n",
       "    .dataframe tbody tr th:only-of-type {\n",
       "        vertical-align: middle;\n",
       "    }\n",
       "\n",
       "    .dataframe tbody tr th {\n",
       "        vertical-align: top;\n",
       "    }\n",
       "\n",
       "    .dataframe thead th {\n",
       "        text-align: right;\n",
       "    }\n",
       "</style>\n",
       "<table border=\"1\" class=\"dataframe\">\n",
       "  <thead>\n",
       "    <tr style=\"text-align: right;\">\n",
       "      <th></th>\n",
       "      <th>0</th>\n",
       "      <th>1</th>\n",
       "      <th>2</th>\n",
       "      <th>3</th>\n",
       "      <th>4</th>\n",
       "      <th>5</th>\n",
       "      <th>6</th>\n",
       "      <th>7</th>\n",
       "      <th>8</th>\n",
       "      <th>9</th>\n",
       "      <th>10</th>\n",
       "      <th>11</th>\n",
       "    </tr>\n",
       "  </thead>\n",
       "  <tbody>\n",
       "    <tr>\n",
       "      <th>0</th>\n",
       "      <td>0</td>\n",
       "      <td>THR</td>\n",
       "      <td>HN</td>\n",
       "      <td>0</td>\n",
       "      <td>THR</td>\n",
       "      <td>N</td>\n",
       "      <td>-21523.11</td>\n",
       "      <td>1.464</td>\n",
       "      <td>0.0857</td>\n",
       "      <td>1.3783</td>\n",
       "      <td>1.0</td>\n",
       "      <td>1.0</td>\n",
       "    </tr>\n",
       "    <tr>\n",
       "      <th>1</th>\n",
       "      <td>1</td>\n",
       "      <td>TYR</td>\n",
       "      <td>HN</td>\n",
       "      <td>1</td>\n",
       "      <td>TYR</td>\n",
       "      <td>N</td>\n",
       "      <td>-21523.11</td>\n",
       "      <td>7.057</td>\n",
       "      <td>7.8340</td>\n",
       "      <td>-0.7770</td>\n",
       "      <td>1.0</td>\n",
       "      <td>1.0</td>\n",
       "    </tr>\n",
       "    <tr>\n",
       "      <th>2</th>\n",
       "      <td>2</td>\n",
       "      <td>LYS</td>\n",
       "      <td>HN</td>\n",
       "      <td>2</td>\n",
       "      <td>LYS</td>\n",
       "      <td>N</td>\n",
       "      <td>-21523.11</td>\n",
       "      <td>8.654</td>\n",
       "      <td>7.3118</td>\n",
       "      <td>1.3422</td>\n",
       "      <td>1.0</td>\n",
       "      <td>1.0</td>\n",
       "    </tr>\n",
       "    <tr>\n",
       "      <th>3</th>\n",
       "      <td>3</td>\n",
       "      <td>LEU</td>\n",
       "      <td>HN</td>\n",
       "      <td>3</td>\n",
       "      <td>LEU</td>\n",
       "      <td>N</td>\n",
       "      <td>-21523.11</td>\n",
       "      <td>12.180</td>\n",
       "      <td>10.9437</td>\n",
       "      <td>1.2363</td>\n",
       "      <td>1.0</td>\n",
       "      <td>1.0</td>\n",
       "    </tr>\n",
       "    <tr>\n",
       "      <th>4</th>\n",
       "      <td>5</td>\n",
       "      <td>LEU</td>\n",
       "      <td>HN</td>\n",
       "      <td>5</td>\n",
       "      <td>LEU</td>\n",
       "      <td>N</td>\n",
       "      <td>-21523.11</td>\n",
       "      <td>12.691</td>\n",
       "      <td>10.0725</td>\n",
       "      <td>2.6185</td>\n",
       "      <td>1.0</td>\n",
       "      <td>1.0</td>\n",
       "    </tr>\n",
       "    <tr>\n",
       "      <th>5</th>\n",
       "      <td>6</td>\n",
       "      <td>ASN</td>\n",
       "      <td>HN</td>\n",
       "      <td>6</td>\n",
       "      <td>ASN</td>\n",
       "      <td>N</td>\n",
       "      <td>-21523.11</td>\n",
       "      <td>5.202</td>\n",
       "      <td>4.5600</td>\n",
       "      <td>0.6420</td>\n",
       "      <td>1.0</td>\n",
       "      <td>1.0</td>\n",
       "    </tr>\n",
       "    <tr>\n",
       "      <th>6</th>\n",
       "      <td>10</td>\n",
       "      <td>LEU</td>\n",
       "      <td>HN</td>\n",
       "      <td>10</td>\n",
       "      <td>LEU</td>\n",
       "      <td>N</td>\n",
       "      <td>-21523.11</td>\n",
       "      <td>11.677</td>\n",
       "      <td>10.3776</td>\n",
       "      <td>1.2994</td>\n",
       "      <td>1.0</td>\n",
       "      <td>1.0</td>\n",
       "    </tr>\n",
       "    <tr>\n",
       "      <th>7</th>\n",
       "      <td>12</td>\n",
       "      <td>GLY</td>\n",
       "      <td>HN</td>\n",
       "      <td>12</td>\n",
       "      <td>GLY</td>\n",
       "      <td>N</td>\n",
       "      <td>-21523.11</td>\n",
       "      <td>10.553</td>\n",
       "      <td>11.0063</td>\n",
       "      <td>-0.4533</td>\n",
       "      <td>1.0</td>\n",
       "      <td>1.0</td>\n",
       "    </tr>\n",
       "    <tr>\n",
       "      <th>8</th>\n",
       "      <td>13</td>\n",
       "      <td>GLU</td>\n",
       "      <td>HN</td>\n",
       "      <td>13</td>\n",
       "      <td>GLU</td>\n",
       "      <td>N</td>\n",
       "      <td>-21523.11</td>\n",
       "      <td>11.154</td>\n",
       "      <td>9.9303</td>\n",
       "      <td>1.2237</td>\n",
       "      <td>1.0</td>\n",
       "      <td>1.0</td>\n",
       "    </tr>\n",
       "    <tr>\n",
       "      <th>9</th>\n",
       "      <td>14</td>\n",
       "      <td>THR</td>\n",
       "      <td>HN</td>\n",
       "      <td>14</td>\n",
       "      <td>THR</td>\n",
       "      <td>N</td>\n",
       "      <td>-21523.11</td>\n",
       "      <td>11.009</td>\n",
       "      <td>10.3052</td>\n",
       "      <td>0.7038</td>\n",
       "      <td>1.0</td>\n",
       "      <td>1.0</td>\n",
       "    </tr>\n",
       "    <tr>\n",
       "      <th>10</th>\n",
       "      <td>15</td>\n",
       "      <td>THR</td>\n",
       "      <td>HN</td>\n",
       "      <td>15</td>\n",
       "      <td>THR</td>\n",
       "      <td>N</td>\n",
       "      <td>-21523.11</td>\n",
       "      <td>8.874</td>\n",
       "      <td>8.1451</td>\n",
       "      <td>0.7289</td>\n",
       "      <td>1.0</td>\n",
       "      <td>1.0</td>\n",
       "    </tr>\n",
       "    <tr>\n",
       "      <th>11</th>\n",
       "      <td>16</td>\n",
       "      <td>THR</td>\n",
       "      <td>HN</td>\n",
       "      <td>16</td>\n",
       "      <td>THR</td>\n",
       "      <td>N</td>\n",
       "      <td>-21523.11</td>\n",
       "      <td>5.519</td>\n",
       "      <td>5.7485</td>\n",
       "      <td>-0.2295</td>\n",
       "      <td>1.0</td>\n",
       "      <td>1.0</td>\n",
       "    </tr>\n",
       "    <tr>\n",
       "      <th>12</th>\n",
       "      <td>17</td>\n",
       "      <td>GLU</td>\n",
       "      <td>HN</td>\n",
       "      <td>17</td>\n",
       "      <td>GLU</td>\n",
       "      <td>N</td>\n",
       "      <td>-21523.11</td>\n",
       "      <td>5.651</td>\n",
       "      <td>6.1800</td>\n",
       "      <td>-0.5290</td>\n",
       "      <td>1.0</td>\n",
       "      <td>1.0</td>\n",
       "    </tr>\n",
       "    <tr>\n",
       "      <th>13</th>\n",
       "      <td>18</td>\n",
       "      <td>ALA</td>\n",
       "      <td>HN</td>\n",
       "      <td>18</td>\n",
       "      <td>ALA</td>\n",
       "      <td>N</td>\n",
       "      <td>-21523.11</td>\n",
       "      <td>4.173</td>\n",
       "      <td>4.9946</td>\n",
       "      <td>-0.8216</td>\n",
       "      <td>1.0</td>\n",
       "      <td>1.0</td>\n",
       "    </tr>\n",
       "    <tr>\n",
       "      <th>14</th>\n",
       "      <td>19</td>\n",
       "      <td>VAL</td>\n",
       "      <td>HN</td>\n",
       "      <td>19</td>\n",
       "      <td>VAL</td>\n",
       "      <td>N</td>\n",
       "      <td>-21523.11</td>\n",
       "      <td>4.799</td>\n",
       "      <td>4.5163</td>\n",
       "      <td>0.2827</td>\n",
       "      <td>1.0</td>\n",
       "      <td>1.0</td>\n",
       "    </tr>\n",
       "    <tr>\n",
       "      <th>15</th>\n",
       "      <td>20</td>\n",
       "      <td>ASP</td>\n",
       "      <td>HN</td>\n",
       "      <td>20</td>\n",
       "      <td>ASP</td>\n",
       "      <td>N</td>\n",
       "      <td>-21523.11</td>\n",
       "      <td>-4.294</td>\n",
       "      <td>-4.4661</td>\n",
       "      <td>0.1721</td>\n",
       "      <td>1.0</td>\n",
       "      <td>1.0</td>\n",
       "    </tr>\n",
       "    <tr>\n",
       "      <th>16</th>\n",
       "      <td>21</td>\n",
       "      <td>ALA</td>\n",
       "      <td>HN</td>\n",
       "      <td>21</td>\n",
       "      <td>ALA</td>\n",
       "      <td>N</td>\n",
       "      <td>-21523.11</td>\n",
       "      <td>-2.326</td>\n",
       "      <td>-2.5724</td>\n",
       "      <td>0.2464</td>\n",
       "      <td>1.0</td>\n",
       "      <td>1.0</td>\n",
       "    </tr>\n",
       "    <tr>\n",
       "      <th>17</th>\n",
       "      <td>22</td>\n",
       "      <td>ALA</td>\n",
       "      <td>HN</td>\n",
       "      <td>22</td>\n",
       "      <td>ALA</td>\n",
       "      <td>N</td>\n",
       "      <td>-21523.11</td>\n",
       "      <td>-13.433</td>\n",
       "      <td>-15.2750</td>\n",
       "      <td>1.8420</td>\n",
       "      <td>1.0</td>\n",
       "      <td>1.0</td>\n",
       "    </tr>\n",
       "    <tr>\n",
       "      <th>18</th>\n",
       "      <td>23</td>\n",
       "      <td>THR</td>\n",
       "      <td>HN</td>\n",
       "      <td>23</td>\n",
       "      <td>THR</td>\n",
       "      <td>N</td>\n",
       "      <td>-21523.11</td>\n",
       "      <td>-10.596</td>\n",
       "      <td>-12.4346</td>\n",
       "      <td>1.8386</td>\n",
       "      <td>1.0</td>\n",
       "      <td>1.0</td>\n",
       "    </tr>\n",
       "    <tr>\n",
       "      <th>19</th>\n",
       "      <td>24</td>\n",
       "      <td>ALA</td>\n",
       "      <td>HN</td>\n",
       "      <td>24</td>\n",
       "      <td>ALA</td>\n",
       "      <td>N</td>\n",
       "      <td>-21523.11</td>\n",
       "      <td>-5.413</td>\n",
       "      <td>-6.6161</td>\n",
       "      <td>1.2031</td>\n",
       "      <td>1.0</td>\n",
       "      <td>1.0</td>\n",
       "    </tr>\n",
       "    <tr>\n",
       "      <th>20</th>\n",
       "      <td>26</td>\n",
       "      <td>LYS</td>\n",
       "      <td>HN</td>\n",
       "      <td>26</td>\n",
       "      <td>LYS</td>\n",
       "      <td>N</td>\n",
       "      <td>-21523.11</td>\n",
       "      <td>-16.158</td>\n",
       "      <td>-16.7218</td>\n",
       "      <td>0.5638</td>\n",
       "      <td>1.0</td>\n",
       "      <td>1.0</td>\n",
       "    </tr>\n",
       "    <tr>\n",
       "      <th>21</th>\n",
       "      <td>28</td>\n",
       "      <td>PHE</td>\n",
       "      <td>HN</td>\n",
       "      <td>28</td>\n",
       "      <td>PHE</td>\n",
       "      <td>N</td>\n",
       "      <td>-21523.11</td>\n",
       "      <td>-8.662</td>\n",
       "      <td>-8.3276</td>\n",
       "      <td>-0.3344</td>\n",
       "      <td>1.0</td>\n",
       "      <td>1.0</td>\n",
       "    </tr>\n",
       "    <tr>\n",
       "      <th>22</th>\n",
       "      <td>29</td>\n",
       "      <td>LYS</td>\n",
       "      <td>HN</td>\n",
       "      <td>29</td>\n",
       "      <td>LYS</td>\n",
       "      <td>N</td>\n",
       "      <td>-21523.11</td>\n",
       "      <td>-13.968</td>\n",
       "      <td>-14.9181</td>\n",
       "      <td>0.9501</td>\n",
       "      <td>1.0</td>\n",
       "      <td>1.0</td>\n",
       "    </tr>\n",
       "    <tr>\n",
       "      <th>23</th>\n",
       "      <td>30</td>\n",
       "      <td>GLN</td>\n",
       "      <td>HN</td>\n",
       "      <td>30</td>\n",
       "      <td>GLN</td>\n",
       "      <td>N</td>\n",
       "      <td>-21523.11</td>\n",
       "      <td>-16.039</td>\n",
       "      <td>-16.6349</td>\n",
       "      <td>0.5959</td>\n",
       "      <td>1.0</td>\n",
       "      <td>1.0</td>\n",
       "    </tr>\n",
       "    <tr>\n",
       "      <th>24</th>\n",
       "      <td>31</td>\n",
       "      <td>TYR</td>\n",
       "      <td>HN</td>\n",
       "      <td>31</td>\n",
       "      <td>TYR</td>\n",
       "      <td>N</td>\n",
       "      <td>-21523.11</td>\n",
       "      <td>-12.049</td>\n",
       "      <td>-12.6305</td>\n",
       "      <td>0.5815</td>\n",
       "      <td>1.0</td>\n",
       "      <td>1.0</td>\n",
       "    </tr>\n",
       "    <tr>\n",
       "      <th>25</th>\n",
       "      <td>32</td>\n",
       "      <td>ALA</td>\n",
       "      <td>HN</td>\n",
       "      <td>32</td>\n",
       "      <td>ALA</td>\n",
       "      <td>N</td>\n",
       "      <td>-21523.11</td>\n",
       "      <td>-9.608</td>\n",
       "      <td>-10.3609</td>\n",
       "      <td>0.7529</td>\n",
       "      <td>1.0</td>\n",
       "      <td>1.0</td>\n",
       "    </tr>\n",
       "    <tr>\n",
       "      <th>26</th>\n",
       "      <td>33</td>\n",
       "      <td>ASN</td>\n",
       "      <td>HN</td>\n",
       "      <td>33</td>\n",
       "      <td>ASN</td>\n",
       "      <td>N</td>\n",
       "      <td>-21523.11</td>\n",
       "      <td>-15.696</td>\n",
       "      <td>-16.4080</td>\n",
       "      <td>0.7120</td>\n",
       "      <td>1.0</td>\n",
       "      <td>1.0</td>\n",
       "    </tr>\n",
       "    <tr>\n",
       "      <th>27</th>\n",
       "      <td>34</td>\n",
       "      <td>ASP</td>\n",
       "      <td>HN</td>\n",
       "      <td>34</td>\n",
       "      <td>ASP</td>\n",
       "      <td>N</td>\n",
       "      <td>-21523.11</td>\n",
       "      <td>-15.091</td>\n",
       "      <td>-14.7718</td>\n",
       "      <td>-0.3192</td>\n",
       "      <td>1.0</td>\n",
       "      <td>1.0</td>\n",
       "    </tr>\n",
       "    <tr>\n",
       "      <th>28</th>\n",
       "      <td>35</td>\n",
       "      <td>ASN</td>\n",
       "      <td>HN</td>\n",
       "      <td>35</td>\n",
       "      <td>ASN</td>\n",
       "      <td>N</td>\n",
       "      <td>-21523.11</td>\n",
       "      <td>-3.687</td>\n",
       "      <td>-3.9808</td>\n",
       "      <td>0.2938</td>\n",
       "      <td>1.0</td>\n",
       "      <td>1.0</td>\n",
       "    </tr>\n",
       "    <tr>\n",
       "      <th>29</th>\n",
       "      <td>36</td>\n",
       "      <td>GLY</td>\n",
       "      <td>HN</td>\n",
       "      <td>36</td>\n",
       "      <td>GLY</td>\n",
       "      <td>N</td>\n",
       "      <td>-21523.11</td>\n",
       "      <td>-8.065</td>\n",
       "      <td>-6.7237</td>\n",
       "      <td>-1.3413</td>\n",
       "      <td>1.0</td>\n",
       "      <td>1.0</td>\n",
       "    </tr>\n",
       "    <tr>\n",
       "      <th>30</th>\n",
       "      <td>42</td>\n",
       "      <td>THR</td>\n",
       "      <td>HN</td>\n",
       "      <td>42</td>\n",
       "      <td>THR</td>\n",
       "      <td>N</td>\n",
       "      <td>-21523.11</td>\n",
       "      <td>11.676</td>\n",
       "      <td>9.1670</td>\n",
       "      <td>2.5090</td>\n",
       "      <td>1.0</td>\n",
       "      <td>1.0</td>\n",
       "    </tr>\n",
       "    <tr>\n",
       "      <th>31</th>\n",
       "      <td>43</td>\n",
       "      <td>TYR</td>\n",
       "      <td>HN</td>\n",
       "      <td>43</td>\n",
       "      <td>TYR</td>\n",
       "      <td>N</td>\n",
       "      <td>-21523.11</td>\n",
       "      <td>11.812</td>\n",
       "      <td>10.9110</td>\n",
       "      <td>0.9010</td>\n",
       "      <td>1.0</td>\n",
       "      <td>1.0</td>\n",
       "    </tr>\n",
       "    <tr>\n",
       "      <th>32</th>\n",
       "      <td>44</td>\n",
       "      <td>ASP</td>\n",
       "      <td>HN</td>\n",
       "      <td>44</td>\n",
       "      <td>ASP</td>\n",
       "      <td>N</td>\n",
       "      <td>-21523.11</td>\n",
       "      <td>10.760</td>\n",
       "      <td>9.6707</td>\n",
       "      <td>1.0893</td>\n",
       "      <td>1.0</td>\n",
       "      <td>1.0</td>\n",
       "    </tr>\n",
       "    <tr>\n",
       "      <th>33</th>\n",
       "      <td>45</td>\n",
       "      <td>ASP</td>\n",
       "      <td>HN</td>\n",
       "      <td>45</td>\n",
       "      <td>ASP</td>\n",
       "      <td>N</td>\n",
       "      <td>-21523.11</td>\n",
       "      <td>11.043</td>\n",
       "      <td>10.4336</td>\n",
       "      <td>0.6094</td>\n",
       "      <td>1.0</td>\n",
       "      <td>1.0</td>\n",
       "    </tr>\n",
       "    <tr>\n",
       "      <th>34</th>\n",
       "      <td>47</td>\n",
       "      <td>THR</td>\n",
       "      <td>HN</td>\n",
       "      <td>47</td>\n",
       "      <td>THR</td>\n",
       "      <td>N</td>\n",
       "      <td>-21523.11</td>\n",
       "      <td>2.457</td>\n",
       "      <td>0.0918</td>\n",
       "      <td>2.3652</td>\n",
       "      <td>1.0</td>\n",
       "      <td>1.0</td>\n",
       "    </tr>\n",
       "    <tr>\n",
       "      <th>35</th>\n",
       "      <td>48</td>\n",
       "      <td>LYS</td>\n",
       "      <td>HN</td>\n",
       "      <td>48</td>\n",
       "      <td>LYS</td>\n",
       "      <td>N</td>\n",
       "      <td>-21523.11</td>\n",
       "      <td>8.514</td>\n",
       "      <td>7.4738</td>\n",
       "      <td>1.0402</td>\n",
       "      <td>1.0</td>\n",
       "      <td>1.0</td>\n",
       "    </tr>\n",
       "    <tr>\n",
       "      <th>36</th>\n",
       "      <td>49</td>\n",
       "      <td>THR</td>\n",
       "      <td>HN</td>\n",
       "      <td>49</td>\n",
       "      <td>THR</td>\n",
       "      <td>N</td>\n",
       "      <td>-21523.11</td>\n",
       "      <td>9.368</td>\n",
       "      <td>9.1265</td>\n",
       "      <td>0.2415</td>\n",
       "      <td>1.0</td>\n",
       "      <td>1.0</td>\n",
       "    </tr>\n",
       "    <tr>\n",
       "      <th>37</th>\n",
       "      <td>50</td>\n",
       "      <td>PHE</td>\n",
       "      <td>HN</td>\n",
       "      <td>50</td>\n",
       "      <td>PHE</td>\n",
       "      <td>N</td>\n",
       "      <td>-21523.11</td>\n",
       "      <td>11.593</td>\n",
       "      <td>10.7652</td>\n",
       "      <td>0.8278</td>\n",
       "      <td>1.0</td>\n",
       "      <td>1.0</td>\n",
       "    </tr>\n",
       "    <tr>\n",
       "      <th>38</th>\n",
       "      <td>51</td>\n",
       "      <td>THR</td>\n",
       "      <td>HN</td>\n",
       "      <td>51</td>\n",
       "      <td>THR</td>\n",
       "      <td>N</td>\n",
       "      <td>-21523.11</td>\n",
       "      <td>10.149</td>\n",
       "      <td>8.8621</td>\n",
       "      <td>1.2869</td>\n",
       "      <td>1.0</td>\n",
       "      <td>1.0</td>\n",
       "    </tr>\n",
       "    <tr>\n",
       "      <th>39</th>\n",
       "      <td>52</td>\n",
       "      <td>VAL</td>\n",
       "      <td>HN</td>\n",
       "      <td>52</td>\n",
       "      <td>VAL</td>\n",
       "      <td>N</td>\n",
       "      <td>-21523.11</td>\n",
       "      <td>12.224</td>\n",
       "      <td>9.9134</td>\n",
       "      <td>2.3106</td>\n",
       "      <td>1.0</td>\n",
       "      <td>1.0</td>\n",
       "    </tr>\n",
       "    <tr>\n",
       "      <th>40</th>\n",
       "      <td>54</td>\n",
       "      <td>GLU</td>\n",
       "      <td>HN</td>\n",
       "      <td>54</td>\n",
       "      <td>GLU</td>\n",
       "      <td>N</td>\n",
       "      <td>-21523.11</td>\n",
       "      <td>11.622</td>\n",
       "      <td>9.1445</td>\n",
       "      <td>2.4775</td>\n",
       "      <td>1.0</td>\n",
       "      <td>1.0</td>\n",
       "    </tr>\n",
       "  </tbody>\n",
       "</table>\n",
       "</div>"
      ],
      "text/plain": [
       "    0    1   2   3    4  5         6       7        8       9    10   11\n",
       "0    0  THR  HN   0  THR  N -21523.11   1.464   0.0857  1.3783  1.0  1.0\n",
       "1    1  TYR  HN   1  TYR  N -21523.11   7.057   7.8340 -0.7770  1.0  1.0\n",
       "2    2  LYS  HN   2  LYS  N -21523.11   8.654   7.3118  1.3422  1.0  1.0\n",
       "3    3  LEU  HN   3  LEU  N -21523.11  12.180  10.9437  1.2363  1.0  1.0\n",
       "4    5  LEU  HN   5  LEU  N -21523.11  12.691  10.0725  2.6185  1.0  1.0\n",
       "5    6  ASN  HN   6  ASN  N -21523.11   5.202   4.5600  0.6420  1.0  1.0\n",
       "6   10  LEU  HN  10  LEU  N -21523.11  11.677  10.3776  1.2994  1.0  1.0\n",
       "7   12  GLY  HN  12  GLY  N -21523.11  10.553  11.0063 -0.4533  1.0  1.0\n",
       "8   13  GLU  HN  13  GLU  N -21523.11  11.154   9.9303  1.2237  1.0  1.0\n",
       "9   14  THR  HN  14  THR  N -21523.11  11.009  10.3052  0.7038  1.0  1.0\n",
       "10  15  THR  HN  15  THR  N -21523.11   8.874   8.1451  0.7289  1.0  1.0\n",
       "11  16  THR  HN  16  THR  N -21523.11   5.519   5.7485 -0.2295  1.0  1.0\n",
       "12  17  GLU  HN  17  GLU  N -21523.11   5.651   6.1800 -0.5290  1.0  1.0\n",
       "13  18  ALA  HN  18  ALA  N -21523.11   4.173   4.9946 -0.8216  1.0  1.0\n",
       "14  19  VAL  HN  19  VAL  N -21523.11   4.799   4.5163  0.2827  1.0  1.0\n",
       "15  20  ASP  HN  20  ASP  N -21523.11  -4.294  -4.4661  0.1721  1.0  1.0\n",
       "16  21  ALA  HN  21  ALA  N -21523.11  -2.326  -2.5724  0.2464  1.0  1.0\n",
       "17  22  ALA  HN  22  ALA  N -21523.11 -13.433 -15.2750  1.8420  1.0  1.0\n",
       "18  23  THR  HN  23  THR  N -21523.11 -10.596 -12.4346  1.8386  1.0  1.0\n",
       "19  24  ALA  HN  24  ALA  N -21523.11  -5.413  -6.6161  1.2031  1.0  1.0\n",
       "20  26  LYS  HN  26  LYS  N -21523.11 -16.158 -16.7218  0.5638  1.0  1.0\n",
       "21  28  PHE  HN  28  PHE  N -21523.11  -8.662  -8.3276 -0.3344  1.0  1.0\n",
       "22  29  LYS  HN  29  LYS  N -21523.11 -13.968 -14.9181  0.9501  1.0  1.0\n",
       "23  30  GLN  HN  30  GLN  N -21523.11 -16.039 -16.6349  0.5959  1.0  1.0\n",
       "24  31  TYR  HN  31  TYR  N -21523.11 -12.049 -12.6305  0.5815  1.0  1.0\n",
       "25  32  ALA  HN  32  ALA  N -21523.11  -9.608 -10.3609  0.7529  1.0  1.0\n",
       "26  33  ASN  HN  33  ASN  N -21523.11 -15.696 -16.4080  0.7120  1.0  1.0\n",
       "27  34  ASP  HN  34  ASP  N -21523.11 -15.091 -14.7718 -0.3192  1.0  1.0\n",
       "28  35  ASN  HN  35  ASN  N -21523.11  -3.687  -3.9808  0.2938  1.0  1.0\n",
       "29  36  GLY  HN  36  GLY  N -21523.11  -8.065  -6.7237 -1.3413  1.0  1.0\n",
       "30  42  THR  HN  42  THR  N -21523.11  11.676   9.1670  2.5090  1.0  1.0\n",
       "31  43  TYR  HN  43  TYR  N -21523.11  11.812  10.9110  0.9010  1.0  1.0\n",
       "32  44  ASP  HN  44  ASP  N -21523.11  10.760   9.6707  1.0893  1.0  1.0\n",
       "33  45  ASP  HN  45  ASP  N -21523.11  11.043  10.4336  0.6094  1.0  1.0\n",
       "34  47  THR  HN  47  THR  N -21523.11   2.457   0.0918  2.3652  1.0  1.0\n",
       "35  48  LYS  HN  48  LYS  N -21523.11   8.514   7.4738  1.0402  1.0  1.0\n",
       "36  49  THR  HN  49  THR  N -21523.11   9.368   9.1265  0.2415  1.0  1.0\n",
       "37  50  PHE  HN  50  PHE  N -21523.11  11.593  10.7652  0.8278  1.0  1.0\n",
       "38  51  THR  HN  51  THR  N -21523.11  10.149   8.8621  1.2869  1.0  1.0\n",
       "39  52  VAL  HN  52  VAL  N -21523.11  12.224   9.9134  2.3106  1.0  1.0\n",
       "40  54  GLU  HN  54  GLU  N -21523.11  11.622   9.1445  2.4775  1.0  1.0"
      ]
     },
     "execution_count": 35,
     "metadata": {},
     "output_type": "execute_result"
    }
   ],
   "source": [
    "df[0] += 5 - 7\n",
    "df[3] += 5 - 7\n",
    "df"
   ]
  },
  {
   "cell_type": "code",
   "execution_count": 36,
   "metadata": {},
   "outputs": [],
   "source": [
    "inds = df[0].to_numpy()"
   ]
  },
  {
   "cell_type": "code",
   "execution_count": 37,
   "metadata": {},
   "outputs": [
    {
     "data": {
      "text/plain": [
       "array([ 0,  1,  2,  3,  5,  6, 10, 12, 13, 14, 15, 16, 17, 18, 19, 20, 21,\n",
       "       22, 23, 24, 26, 28, 29, 30, 31, 32, 33, 34, 35, 36, 42, 43, 44, 45,\n",
       "       47, 48, 49, 50, 51, 52, 54])"
      ]
     },
     "execution_count": 37,
     "metadata": {},
     "output_type": "execute_result"
    }
   ],
   "source": [
    "inds"
   ]
  },
  {
   "cell_type": "code",
   "execution_count": 49,
   "metadata": {},
   "outputs": [
    {
     "data": {
      "text/plain": [
       "<BarContainer object of 41 artists>"
      ]
     },
     "execution_count": 49,
     "metadata": {},
     "output_type": "execute_result"
    },
    {
     "data": {
      "image/png": "[encoded data removed]",
      "text/plain": [
       "<Figure size 640x480 with 1 Axes>"
      ]
     },
     "metadata": {},
     "output_type": "display_data"
    }
   ],
   "source": [
    "dd_obs = df[7].to_numpy()\n",
    "plt.bar(np.arange(dd_obs.size), dd_obs)"
   ]
  },
  {
   "cell_type": "code",
   "execution_count": 53,
   "metadata": {},
   "outputs": [
    {
     "data": {
      "text/plain": [
       "55"
      ]
     },
     "execution_count": 53,
     "metadata": {},
     "output_type": "execute_result"
    }
   ],
   "source": [
    "traj[0].n_residues"
   ]
  },
  {
   "cell_type": "code",
   "execution_count": 88,
   "metadata": {},
   "outputs": [
    {
     "data": {
      "text/plain": [
       "array([ 14.45254656,  13.35016881,  12.93782116,   6.87217915,\n",
       "         8.8721823 ,   0.59504675,   7.45901589,   1.21415512,\n",
       "        -9.26464252,   9.48207573,  13.49192538,  13.57770364,\n",
       "        11.48904256,  12.90198498,  15.37489059,  13.81444834,\n",
       "        14.19623353,  11.05307288,  10.23520504,   0.92808015,\n",
       "         1.15884737, -18.21370313, -10.85215125,  -2.47678561,\n",
       "       -11.14087035, -20.01788728, -10.59166318,  -6.65774703,\n",
       "       -19.05439126, -18.74596105, -11.33900797, -11.09907604,\n",
       "       -20.25551192, -14.927624  ,  -0.05619694, -13.46874383,\n",
       "       -11.96264109, -16.16080284, -16.28973639,  -5.70551224,\n",
       "         7.23310399,   9.78922941,  14.54720129,  13.35515042,\n",
       "        11.87527991,  -8.16796483,  -0.56428454,  10.20681118,\n",
       "        15.29034921,  14.08243006,   7.36645053,   8.63808149,\n",
       "         4.64592591,   6.82055549])"
      ]
     },
     "execution_count": 88,
     "metadata": {},
     "output_type": "execute_result"
    }
   ],
   "source": [
    "rdc"
   ]
  },
  {
   "cell_type": "code",
   "execution_count": 76,
   "metadata": {},
   "outputs": [
    {
     "data": {
      "text/plain": [
       "array([  1.464,   7.057,   8.654,  12.18 ,  12.691,   5.202,  11.677,\n",
       "        10.553,  11.154,  11.009,   8.874,   5.519,   5.651,   4.173,\n",
       "         4.799,  -4.294,  -2.326, -13.433, -10.596,  -5.413, -16.158,\n",
       "        -8.662, -13.968, -16.039, -12.049,  -9.608, -15.696, -15.091,\n",
       "        -3.687,  -8.065,  11.676,  11.812,  10.76 ,  11.043,   2.457,\n",
       "         8.514,   9.368,  11.593,  10.149,  12.224,  11.622])"
      ]
     },
     "execution_count": 76,
     "metadata": {},
     "output_type": "execute_result"
    }
   ],
   "source": [
    "dd_obs"
   ]
  },
  {
   "cell_type": "code",
   "execution_count": 62,
   "metadata": {},
   "outputs": [],
   "source": [
    "inds = df[0].to_numpy()[:-1] - 1"
   ]
  },
  {
   "cell_type": "code",
   "execution_count": null,
   "metadata": {},
   "outputs": [],
   "source": []
  },
  {
   "cell_type": "code",
   "execution_count": 47,
   "metadata": {},
   "outputs": [
    {
     "name": "stdout",
     "output_type": "stream",
     "text": [
      "REMARK Molecular Alignment Simulation.\n",
      "\n",
      "REMARK Simulation parameters.\n",
      "\n",
      "DATA PALES_MODE STERIC\n",
      "\n",
      "DATA PALES LC_TYPE             wall\n",
      "DATA PALES LC_CONCENTRATION    0.050\n",
      "DATA PALES ORIENT_SPHERE       100\n",
      "DATA PALES ORIENT_PSI          18\n",
      "DATA PALES GRID_SPACING        0.200\n",
      "DATA PALES MODEL_RADIUS        20.000\n",
      "DATA PALES LC_ORDER            0.800\n",
      "DATA PALES ATOM_RADIUS         0.000\n",
      "DATA PALES SEL_SIMPLE_FLAG     0\n",
      "DATA PALES SURF_FLAG           1\n",
      "\n",
      "\n",
      "REMARK Order matrix.\n",
      "\n",
      "DATA SAUPE  -8.9631e-05  2.4300e-04  3.8479e-04 -4.4164e-04  3.9631e-04\n",
      "\n",
      "DATA IRREDUCIBLE REPRESENTATION (A0,A1R,A1I,A2R,A2I)   -3.0583e+00  1.2304e+01  1.1041e+01  3.3849e+00 -1.0720e+01\n",
      "DATA IRREDUCIBLE GENERAL_MAGNITUDE   2.8438e+01\n",
      "\n",
      "\n",
      "REMARK Eigensystem & Euler angles for clockwise rotation about z, y', z''.\n",
      "\n",
      "DATA EIGENVALUES (Axx,Ayy,Azz)    3.0889e-04  5.1593e-04 -8.2482e-04\n",
      "DATA EIGENVECTORS\n",
      "DATA EIGENVECTORS XAXIS  1.2036e-01  7.6741e-01  6.2976e-01\n",
      "DATA EIGENVECTORS YAXIS  8.5264e-01  2.4500e-01 -4.6150e-01\n",
      "DATA EIGENVECTORS ZAXIS -5.0845e-01  5.9250e-01 -6.2483e-01\n",
      "\n",
      "DATA Q_EULER_SOLUTIONS    ALPHA     BETA    GAMMA\n",
      "DATA Q_EULER_ANGLES  1   323.77   128.67    49.37\n",
      "DATA Q_EULER_ANGLES  2   143.77   128.67    49.37\n",
      "DATA Q_EULER_ANGLES  3   216.23    51.33   229.37\n",
      "DATA Q_EULER_ANGLES  4    36.23    51.33   229.37\n",
      "\n",
      "\n",
      "REMARK Euler angles (psi/theta/phi) for rotation about x, y, z.\n",
      "\n",
      "DATA EULER_SOLUTIONS 2\n",
      "DATA EULER_ANGLES  -43.48  149.44   81.97\n",
      "DATA EULER_ANGLES  136.52   30.56  261.97\n",
      "\n",
      "DATA Da -4.124083e-04\n",
      "DATA Dr -6.901216e-05\n",
      "\n",
      "\n",
      "REMARK Dipolar couplings.\n",
      "\n",
      "DATA N                    41\n",
      "DATA RMS                  1.222\n",
      "DATA Chi2                 61.223\n",
      "DATA CORR R               0.996\n",
      "DATA CORNILESCU Q         0.120\n",
      "DATA REGRESSION OFFSET    -0.739 +/- 0.148 [Hz]\n",
      "DATA REGRESSION SLOPE     0.977 +/- 0.015 [Hz]\n",
      "DATA REGRESSION BAX SLOPE 0.981 +/- 0.010 [Hz]\n",
      "\n",
      "VARS    RESID_I RESNAME_I ATOMNAME_I RESID_J RESNAME_J ATOMNAME_J DI D_OBS D D_DIFF DD W\n",
      "FORMAT  %4d %4s %4s %4d %4s %4s %9.2f %9.3f %9.3f %9.3f %.2f %.2f\n",
      "\n",
      "    2  THR   HN    2  THR    N -21523.11    1.4640    0.0857    1.3783  1.0000 1.00\n",
      "    3  TYR   HN    3  TYR    N -21523.11    7.0570    7.8340   -0.7770  1.0000 1.00\n",
      "    4  LYS   HN    4  LYS    N -21523.11    8.6540    7.3118    1.3422  1.0000 1.00\n",
      "    5  LEU   HN    5  LEU    N -21523.11   12.1800   10.9437    1.2363  1.0000 1.00\n",
      "    7  LEU   HN    7  LEU    N -21523.11   12.6910   10.0725    2.6185  1.0000 1.00\n",
      "    8  ASN   HN    8  ASN    N -21523.11    5.2020    4.5600    0.6420  1.0000 1.00\n",
      "   12  LEU   HN   12  LEU    N -21523.11   11.6770   10.3776    1.2994  1.0000 1.00\n",
      "   14  GLY   HN   14  GLY    N -21523.11   10.5530   11.0063   -0.4533  1.0000 1.00\n",
      "   15  GLU   HN   15  GLU    N -21523.11   11.1540    9.9303    1.2237  1.0000 1.00\n",
      "   16  THR   HN   16  THR    N -21523.11   11.0090   10.3052    0.7038  1.0000 1.00\n",
      "   17  THR   HN   17  THR    N -21523.11    8.8740    8.1451    0.7289  1.0000 1.00\n",
      "   18  THR   HN   18  THR    N -21523.11    5.5190    5.7485   -0.2295  1.0000 1.00\n",
      "   19  GLU   HN   19  GLU    N -21523.11    5.6510    6.1800   -0.5290  1.0000 1.00\n",
      "   20  ALA   HN   20  ALA    N -21523.11    4.1730    4.9946   -0.8216  1.0000 1.00\n",
      "   21  VAL   HN   21  VAL    N -21523.11    4.7990    4.5163    0.2827  1.0000 1.00\n",
      "   22  ASP   HN   22  ASP    N -21523.11   -4.2940   -4.4661    0.1721  1.0000 1.00\n",
      "   23  ALA   HN   23  ALA    N -21523.11   -2.3260   -2.5724    0.2464  1.0000 1.00\n",
      "   24  ALA   HN   24  ALA    N -21523.11  -13.4330  -15.2750    1.8420  1.0000 1.00\n",
      "   25  THR   HN   25  THR    N -21523.11  -10.5960  -12.4346    1.8386  1.0000 1.00\n",
      "   26  ALA   HN   26  ALA    N -21523.11   -5.4130   -6.6161    1.2031  1.0000 1.00\n",
      "   28  LYS   HN   28  LYS    N -21523.11  -16.1580  -16.7218    0.5638  1.0000 1.00\n",
      "   30  PHE   HN   30  PHE    N -21523.11   -8.6620   -8.3276   -0.3344  1.0000 1.00\n",
      "   31  LYS   HN   31  LYS    N -21523.11  -13.9680  -14.9181    0.9501  1.0000 1.00\n",
      "   32  GLN   HN   32  GLN    N -21523.11  -16.0390  -16.6349    0.5959  1.0000 1.00\n",
      "   33  TYR   HN   33  TYR    N -21523.11  -12.0490  -12.6305    0.5815  1.0000 1.00\n",
      "   34  ALA   HN   34  ALA    N -21523.11   -9.6080  -10.3609    0.7529  1.0000 1.00\n",
      "   35  ASN   HN   35  ASN    N -21523.11  -15.6960  -16.4080    0.7120  1.0000 1.00\n",
      "   36  ASP   HN   36  ASP    N -21523.11  -15.0910  -14.7718   -0.3192  1.0000 1.00\n",
      "   37  ASN   HN   37  ASN    N -21523.11   -3.6870   -3.9808    0.2938  1.0000 1.00\n",
      "   38  GLY   HN   38  GLY    N -21523.11   -8.0650   -6.7237   -1.3413  1.0000 1.00\n",
      "   44  THR   HN   44  THR    N -21523.11   11.6760    9.1670    2.5090  1.0000 1.00\n",
      "   45  TYR   HN   45  TYR    N -21523.11   11.8120   10.9110    0.9010  1.0000 1.00\n",
      "   46  ASP   HN   46  ASP    N -21523.11   10.7600    9.6707    1.0893  1.0000 1.00\n",
      "   47  ASP   HN   47  ASP    N -21523.11   11.0430   10.4336    0.6094  1.0000 1.00\n",
      "   49  THR   HN   49  THR    N -21523.11    2.4570    0.0918    2.3652  1.0000 1.00\n",
      "   50  LYS   HN   50  LYS    N -21523.11    8.5140    7.4738    1.0402  1.0000 1.00\n",
      "   51  THR   HN   51  THR    N -21523.11    9.3680    9.1265    0.2415  1.0000 1.00\n",
      "   52  PHE   HN   52  PHE    N -21523.11   11.5930   10.7652    0.8278  1.0000 1.00\n",
      "   53  THR   HN   53  THR    N -21523.11   10.1490    8.8621    1.2869  1.0000 1.00\n",
      "   54  VAL   HN   54  VAL    N -21523.11   12.2240    9.9134    2.3106  1.0000 1.00\n",
      "   56  GLU   HN   56  GLU    N -21523.11   11.6220    9.1445    2.4775  1.0000 1.00\n"
     ]
    }
   ],
   "source": [
    "!cat ssiaB.tbl"
   ]
  },
  {
   "cell_type": "code",
   "execution_count": null,
   "metadata": {},
   "outputs": [],
   "source": []
  }
 ],
 "metadata": {
  "kernelspec": {
   "display_name": "lab",
   "language": "python",
   "name": "python3"
  },
  "language_info": {
   "codemirror_mode": {
    "name": "ipython",
    "version": 3
   },
   "file_extension": ".py",
   "mimetype": "text/x-python",
   "name": "python",
   "nbconvert_exporter": "python",
   "pygments_lexer": "ipython3",
   "version": "3.12.5"
  }
 },
 "nbformat": 4,
 "nbformat_minor": 2
}
