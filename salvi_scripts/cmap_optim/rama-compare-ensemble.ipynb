{
 "cells": [
  {
   "cell_type": "code",
   "execution_count": 1,
   "metadata": {},
   "outputs": [],
   "source": [
    "import MDAnalysis as mda\n",
    "from MDAnalysis.analysis.dihedrals import Dihedral, Ramachandran\n",
    "from math import floor\n",
    "import matplotlib.pyplot as plt\n",
    "import seaborn as sns\n",
    "sns.set_context(\"talk\")\n",
    "sns.set_style(\"ticks\", {\"xtick.direction\": \"in\",\"ytick.direction\": \"in\", \"xtick.major.size\": 8, \"ytick.major.size\": 8, 'font.family': ['FreeSans']})\n",
    "import numpy as np\n",
    "from pickle import dump, load"
   ]
  },
  {
   "cell_type": "code",
   "execution_count": 2,
   "metadata": {},
   "outputs": [],
   "source": [
    "Nbins = 24"
   ]
  },
  {
   "cell_type": "code",
   "execution_count": 22,
   "metadata": {},
   "outputs": [],
   "source": [
    "# XTC = '../ensemble/ensemble.dcd'\n",
    "# PDB = '../ensemble/18.rebuilt.pdb'\n",
    "# u = mda.Universe(PDB, XTC)\n",
    "# sim='../ensemble'\n",
    "# step=1#int(floor(len(u.trajectory)/1000))\n",
    "\n",
    "# resnums = [el.resnum for el in u.residues][1:-1]\n",
    "\n",
    "# #calculate all rama\n",
    "# R = dict()\n",
    "# mats = dict()\n",
    "\n",
    "# for el in resnums:\n",
    "#     r = u.select_atoms(\"resid \"+str(el))\n",
    "#     R[el] = Ramachandran(r).run(step=step)\n",
    "    \n",
    "#     phi = R[el].angles[:, :, 0].flatten()\n",
    "#     psi = R[el].angles[:, :, 1].flatten()\n",
    "    \n",
    "#     temp = np.histogram2d(psi, phi, bins=Nbins, range=[[-180,180], [-180,180]], density=True)[0]\n",
    "#     mats[el] = temp/np.sum(el)\n",
    "    \n",
    "# dump(R, open( sim+\"/R.pkl\", \"wb\" ) )\n",
    "# dump(mats, open( sim+\"/mats.pkl\", \"wb\" ) )"
   ]
  },
  {
   "cell_type": "code",
   "execution_count": 3,
   "metadata": {},
   "outputs": [
    {
     "name": "stderr",
     "output_type": "stream",
     "text": [
      "/home/nsalvi/anaconda3/envs/py36/lib/python3.6/site-packages/MDAnalysis/topology/PDBParser.py:330: UserWarning: Element information is absent or missing for a few atoms. Elements attributes will not be populated.\n",
      "  warnings.warn(\"Element information is absent or missing for a few \"\n"
     ]
    }
   ],
   "source": [
    "for eps in [\"3e-5\"]:\n",
    "    for sigma in [\"mixed\"]:\n",
    "        \n",
    "        sim=eps+\"_\"+sigma\n",
    "        \n",
    "        XTC = sim+'/all.dcd'\n",
    "        PDB = sim+'/1/CG.pdb'\n",
    "        \n",
    "        u = mda.Universe(PDB, XTC)\n",
    "        step=int(floor(len(u.trajectory)/500))\n",
    "        \n",
    "        resnums = [el.resnum for el in u.residues][1:-1]\n",
    "\n",
    "        #calculate all rama\n",
    "        R = dict()\n",
    "        mats = dict()\n",
    "        \n",
    "        for el in resnums:\n",
    "            r = u.select_atoms(\"resid \"+str(el))\n",
    "            R[el] = Ramachandran(r).run(step=step)\n",
    "    \n",
    "            phi = R[el].angles[:, :, 0].flatten()\n",
    "            psi = R[el].angles[:, :, 1].flatten()\n",
    "    \n",
    "            temp = np.histogram2d(psi, phi, bins=Nbins, range=[[-180,180], [-180,180]], density=True)[0]\n",
    "            mats[el] = temp/np.sum(el)\n",
    "    \n",
    "        dump(R, open( sim+\"/R.pkl\", \"wb\" ) )\n",
    "        dump(mats, open( sim+\"/mats.pkl\", \"wb\" ) )"
   ]
  },
  {
   "cell_type": "code",
   "execution_count": 4,
   "metadata": {},
   "outputs": [],
   "source": [
    "# read ensemble results \n",
    "infile = open('../ensemble/mats.pkl','rb')\n",
    "mats_ens = load(infile)\n",
    "infile.close()"
   ]
  },
  {
   "cell_type": "code",
   "execution_count": 5,
   "metadata": {},
   "outputs": [],
   "source": [
    "results = dict()\n",
    "\n",
    "for eps in [\"1e-4\"]:\n",
    "    results[eps] = dict()\n",
    "    for sigma in [\"0.25\", \"0.5\", \"0.75\"]:\n",
    "        sim=eps+\"_\"+sigma\n",
    "        value = 0\n",
    "        infile = open(sim+\"/mats.pkl\",'rb')\n",
    "        mats_sim = load(infile)\n",
    "        infile.close()\n",
    "        for k in mats_ens.keys():\n",
    "            ref = mats_ens[k]/np.sum(mats_ens[k])\n",
    "            calc = mats_sim[k]/np.sum(mats_sim[k])\n",
    "            value += np.sum((ref-calc)**2)\n",
    "        results[eps][sigma] = value"
   ]
  },
  {
   "cell_type": "code",
   "execution_count": 6,
   "metadata": {},
   "outputs": [
    {
     "data": {
      "text/plain": [
       "{'1e-4': {'0.25': 5.49568921777204,\n",
       "  '0.5': 3.585821886566187,\n",
       "  '0.75': 2.378931953856757}}"
      ]
     },
     "execution_count": 6,
     "metadata": {},
     "output_type": "execute_result"
    }
   ],
   "source": [
    "results"
   ]
  },
  {
   "cell_type": "code",
   "execution_count": 7,
   "metadata": {},
   "outputs": [],
   "source": [
    "results = dict()\n",
    "\n",
    "for eps in [\"3e-5\"]:\n",
    "    results[eps] = dict()\n",
    "    for sigma in [\"0.5\", \"0.625\", \"mixed\"]:\n",
    "        sim=eps+\"_\"+sigma\n",
    "        value = 0\n",
    "        infile = open(sim+\"/mats.pkl\",'rb')\n",
    "        mats_sim = load(infile)\n",
    "        infile.close()\n",
    "        for k in mats_ens.keys():\n",
    "            ref = mats_ens[k]/np.sum(mats_ens[k])\n",
    "            calc = mats_sim[k]/np.sum(mats_sim[k])\n",
    "            value += np.sum((ref-calc)**2)\n",
    "        results[eps][sigma] = value"
   ]
  },
  {
   "cell_type": "code",
   "execution_count": 8,
   "metadata": {},
   "outputs": [
    {
     "data": {
      "text/plain": [
       "{'3e-5': {'0.5': 5.690280315018665,\n",
       "  '0.625': 4.261044614762488,\n",
       "  'mixed': 5.196233558232836}}"
      ]
     },
     "execution_count": 8,
     "metadata": {},
     "output_type": "execute_result"
    }
   ],
   "source": [
    "results"
   ]
  },
  {
   "cell_type": "code",
   "execution_count": null,
   "metadata": {},
   "outputs": [],
   "source": []
  }
 ],
 "metadata": {
  "kernelspec": {
   "display_name": "Python 3",
   "language": "python",
   "name": "python3"
  },
  "language_info": {
   "codemirror_mode": {
    "name": "ipython",
    "version": 3
   },
   "file_extension": ".py",
   "mimetype": "text/x-python",
   "name": "python",
   "nbconvert_exporter": "python",
   "pygments_lexer": "ipython3",
   "version": "3.6.10"
  }
 },
 "nbformat": 4,
 "nbformat_minor": 4
}
