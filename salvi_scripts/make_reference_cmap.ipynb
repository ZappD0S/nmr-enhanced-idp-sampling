{
 "cells": [
  {
   "cell_type": "code",
   "execution_count": 1,
   "metadata": {},
   "outputs": [],
   "source": [
    "import MDAnalysis as mda\n",
    "from MDAnalysis.analysis.dihedrals import Dihedral, Ramachandran\n",
    "import matplotlib.pyplot as plt\n",
    "from math import floor\n",
    "residues = [20, 40, 60, 80, 100, 120, 140]\n",
    "import matplotlib.pyplot as plt\n",
    "import seaborn as sns\n",
    "sns.set_context(\"talk\")\n",
    "sns.set_style(\"ticks\", {\"xtick.direction\": \"in\",\"ytick.direction\": \"in\", \"xtick.major.size\": 8, \"ytick.major.size\": 8, 'font.family': ['Liberation Sans']})"
   ]
  },
  {
   "cell_type": "code",
   "execution_count": 2,
   "metadata": {},
   "outputs": [],
   "source": [
    "import numpy as np"
   ]
  },
  {
   "cell_type": "code",
   "execution_count": 3,
   "metadata": {},
   "outputs": [
    {
     "name": "stderr",
     "output_type": "stream",
     "text": [
      "/home/nsalvi/anaconda3/envs/py36/lib/python3.6/site-packages/MDAnalysis/topology/guessers.py:80: UserWarning: Failed to guess the mass for the following atom types: \n",
      "  warnings.warn(\"Failed to guess the mass for the following atom types: {}\".format(atom_type))\n",
      "/home/nsalvi/anaconda3/envs/py36/lib/python3.6/site-packages/MDAnalysis/topology/PDBParser.py:330: UserWarning: Element information is absent or missing for a few atoms. Elements attributes will not be populated.\n",
      "  warnings.warn(\"Element information is absent or missing for a few \"\n",
      "/home/nsalvi/anaconda3/envs/py36/lib/python3.6/site-packages/MDAnalysis/analysis/dihedrals.py:324: UserWarning: Cannot determine phi and psi angles for the first or last residues\n",
      "  warnings.warn(\"Cannot determine phi and psi angles for the first \"\n"
     ]
    }
   ],
   "source": [
    "sim='ref'\n",
    "Nbins = 24\n",
    "step=10#int(floor(len(u.trajectory)/1000))\n",
    "\n",
    "\n",
    "PDB = \"/data/nsalvi/NT_HPS/test_4BR/ref_20210817/1/CG.pdb\"\n",
    "XTC = \"/data/nsalvi/NT_HPS/test_4BR/ref_20210817/all.dcd\"\n",
    "\n",
    "\n",
    "u = mda.Universe(PDB, XTC)\n",
    "\n",
    "r = u.select_atoms(\"protein\")\n",
    "R = Ramachandran(r).run(step=step)\n",
    "\n",
    "phi = R.angles[:, :, 0].flatten()\n",
    "psi = R.angles[:, :, 1].flatten()\n",
    "\n",
    "delta = int(360/Nbins)\n",
    "bin_i = [n for n in range(-180, 179, delta)]\n",
    "\n",
    "indsphi = np.digitize(phi, bin_i)\n",
    "Npoints = len(psi)\n",
    "\n",
    "all_values = []\n",
    "                    \n",
    "for bcounter, bi in enumerate(bin_i): #loop over psi, calculate values\n",
    "    selpsi = [el for acounter, el in enumerate(psi) if indsphi[acounter]==bcounter+1]\n",
    "    indspsi = np.digitize(selpsi, bin_i)\n",
    "    unique, counts = np.unique(indspsi, return_counts=True)\n",
    "    counts = dict(zip(unique, counts))\n",
    "    pop = [counts[acounter+1]/Npoints if (acounter+1) in counts.keys() else 0 #1e-4#1e-12 \n",
    "                                     for acounter, el in enumerate(bin_i)]\n",
    "    all_values.append(pop)\n",
    "\n",
    "all_values = np.array(all_values)    \n",
    "all_values = all_values/sum(sum(all_values))"
   ]
  },
  {
   "cell_type": "code",
   "execution_count": 4,
   "metadata": {},
   "outputs": [],
   "source": [
    "np.savetxt(\"all-rama-ref.out\", all_values)"
   ]
  },
  {
   "cell_type": "code",
   "execution_count": 6,
   "metadata": {},
   "outputs": [
    {
     "data": {
      "image/png": "[encoded data removed]",
      "text/plain": [
       "<Figure size 1440x648 with 1 Axes>"
      ]
     },
     "metadata": {},
     "output_type": "display_data"
    }
   ],
   "source": [
    "fig, ax = plt.subplots(nrows=1, ncols=1,figsize=(20,9))\n",
    "\n",
    "ax.set_aspect('equal')\n",
    "r = u.select_atoms(\"protein\")\n",
    "R = Ramachandran(r).run(step=step)\n",
    "\n",
    "x = phi\n",
    "y = psi\n",
    "\n",
    "rp = ax.hist2d(x, y, bins=(Nbins, Nbins), range=[[-180,180], [-180,180]])\n",
    "ax.set_xlabel('$\\phi$ (deg)')\n",
    "ax.set_ylabel('$\\psi$ (deg)')\n",
    "ax.set_xlim([-180,180])\n",
    "ax.set_ylim([-180,180])\n",
    "ax.set_aspect('equal')\n",
    "\n",
    "plt.tight_layout()\n",
    "plt.savefig(\"all-rama-ref-20210817.pdf\", dpi=300)"
   ]
  },
  {
   "cell_type": "code",
   "execution_count": null,
   "metadata": {},
   "outputs": [],
   "source": []
  }
 ],
 "metadata": {
  "kernelspec": {
   "display_name": "Python 3",
   "language": "python",
   "name": "python3"
  },
  "language_info": {
   "codemirror_mode": {
    "name": "ipython",
    "version": 3
   },
   "file_extension": ".py",
   "mimetype": "text/x-python",
   "name": "python",
   "nbconvert_exporter": "python",
   "pygments_lexer": "ipython3",
   "version": "3.6.10"
  }
 },
 "nbformat": 4,
 "nbformat_minor": 4
}
